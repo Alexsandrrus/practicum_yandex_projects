{
 "cells": [
  {
   "cell_type": "markdown",
   "id": "22a399ed",
   "metadata": {},
   "source": [
    "Привет! Меня зовут Исмаил, я буду проверять твой проект :) Можешь обращаться ко мне на «ты». Если тебе комфортно, то и я буду к тебе так обращаться, если нет, то обязательно скажи об этом.\n",
    "\n",
    "Пожалуйста, не удаляй мои комментарии, которые я буду оставлять в работе. Это особенно поможет, если твои проекты будут отправлены на повторную проверку. При повторных проверках у комментариев будут приписки: \"Вторая итерация\", \"Третья итерация\" и т.д. \n",
    "\n",
    "Ты тоже можешь реагировать на мои комментарии, но в таком случае постарайся, чтобы твои комментарии отличались от моих: например, выделяй их своим любимым цветом — так у нас не возникнет путаницы :)\n",
    "\n",
    "Кстати, про цвета! Мои комментарии будут в следующей цветовой гамме: зелеными, желтыми и красными. Например:\n",
    "\n",
    "<div class=\"alert-success\"> \n",
    "<b>Комментарий ревьюера 👍 </b>\n",
    "    \n",
    "В случае, если решение на отдельном шаге является полностью правильным. </div>\n",
    "\n",
    "<div class=\"alert-warning\"> \n",
    "<b>Комментарий ревьюера 💡</b> \n",
    "    \n",
    "В случае, если решение может стать еще лучше с некоторыми корректировками </div>\n",
    " \n",
    "<div class=\"alert-danger\"> \n",
    "<b>Комментарий ревьюера ❌</b> \n",
    "    \n",
    "В случае, если решение какого-то шага требует значительных изменений. Проект не может быть принят с первого раза, если ревью содержит комментарии, помеченные этим цветом </div>"
   ]
  },
  {
   "cell_type": "markdown",
   "id": "f3dc7a45",
   "metadata": {
    "deletable": false,
    "editable": false,
    "id": "c81daeeb"
   },
   "source": [
    "# Исследование надежности заемщиков\n"
   ]
  },
  {
   "cell_type": "markdown",
   "id": "67c3b7f3",
   "metadata": {
    "deletable": false,
    "editable": false,
    "id": "827c20bf"
   },
   "source": [
    "Во второй части проекта вы выполните шаги 3 и 4. Их вручную проверит ревьюер.\n",
    "Чтобы вам не пришлось писать код заново для шагов 1 и 2, мы добавили авторские решения в ячейки с кодом. \n",
    "\n"
   ]
  },
  {
   "cell_type": "markdown",
   "id": "8681a164",
   "metadata": {
    "deletable": false,
    "editable": false,
    "id": "744d7639"
   },
   "source": [
    "## Откройте таблицу и изучите общую информацию о данных"
   ]
  },
  {
   "cell_type": "markdown",
   "id": "e5e7bb4e",
   "metadata": {
    "deletable": false,
    "editable": false,
    "id": "e7a14c31"
   },
   "source": [
    "**Задание 1. Импортируйте библиотеку pandas. Считайте данные из csv-файла в датафрейм и сохраните в переменную `data`. Путь к файлу:**\n",
    "\n",
    "`/datasets/data.csv`"
   ]
  },
  {
   "cell_type": "code",
   "execution_count": 1,
   "id": "f20e11cc",
   "metadata": {
    "deletable": false,
    "id": "7bcf75c9"
   },
   "outputs": [],
   "source": [
    "import pandas as pd\n",
    "\n",
    "try:\n",
    "    data = pd.read_csv('/datasets/data.csv')\n",
    "except:\n",
    "    data = pd.read_csv('https://code.s3.yandex.net/datasets/data.csv')"
   ]
  },
  {
   "cell_type": "markdown",
   "id": "6c0c60b6",
   "metadata": {
    "deletable": false,
    "editable": false,
    "id": "b8038fe3"
   },
   "source": [
    "**Задание 2. Выведите первые 20 строчек датафрейма `data` на экран.**"
   ]
  },
  {
   "cell_type": "code",
   "execution_count": 2,
   "id": "1f86f2e0",
   "metadata": {
    "deletable": false,
    "id": "2a7cab99",
    "outputId": "1a8f3ef2-d323-4ec2-ddf7-89670b5944c4"
   },
   "outputs": [
    {
     "data": {
      "text/html": [
       "<div>\n",
       "<style scoped>\n",
       "    .dataframe tbody tr th:only-of-type {\n",
       "        vertical-align: middle;\n",
       "    }\n",
       "\n",
       "    .dataframe tbody tr th {\n",
       "        vertical-align: top;\n",
       "    }\n",
       "\n",
       "    .dataframe thead th {\n",
       "        text-align: right;\n",
       "    }\n",
       "</style>\n",
       "<table border=\"1\" class=\"dataframe\">\n",
       "  <thead>\n",
       "    <tr style=\"text-align: right;\">\n",
       "      <th></th>\n",
       "      <th>children</th>\n",
       "      <th>days_employed</th>\n",
       "      <th>dob_years</th>\n",
       "      <th>education</th>\n",
       "      <th>education_id</th>\n",
       "      <th>family_status</th>\n",
       "      <th>family_status_id</th>\n",
       "      <th>gender</th>\n",
       "      <th>income_type</th>\n",
       "      <th>debt</th>\n",
       "      <th>total_income</th>\n",
       "      <th>purpose</th>\n",
       "    </tr>\n",
       "  </thead>\n",
       "  <tbody>\n",
       "    <tr>\n",
       "      <th>0</th>\n",
       "      <td>1</td>\n",
       "      <td>-8437.673028</td>\n",
       "      <td>42</td>\n",
       "      <td>высшее</td>\n",
       "      <td>0</td>\n",
       "      <td>женат / замужем</td>\n",
       "      <td>0</td>\n",
       "      <td>F</td>\n",
       "      <td>сотрудник</td>\n",
       "      <td>0</td>\n",
       "      <td>253875.639453</td>\n",
       "      <td>покупка жилья</td>\n",
       "    </tr>\n",
       "    <tr>\n",
       "      <th>1</th>\n",
       "      <td>1</td>\n",
       "      <td>-4024.803754</td>\n",
       "      <td>36</td>\n",
       "      <td>среднее</td>\n",
       "      <td>1</td>\n",
       "      <td>женат / замужем</td>\n",
       "      <td>0</td>\n",
       "      <td>F</td>\n",
       "      <td>сотрудник</td>\n",
       "      <td>0</td>\n",
       "      <td>112080.014102</td>\n",
       "      <td>приобретение автомобиля</td>\n",
       "    </tr>\n",
       "    <tr>\n",
       "      <th>2</th>\n",
       "      <td>0</td>\n",
       "      <td>-5623.422610</td>\n",
       "      <td>33</td>\n",
       "      <td>Среднее</td>\n",
       "      <td>1</td>\n",
       "      <td>женат / замужем</td>\n",
       "      <td>0</td>\n",
       "      <td>M</td>\n",
       "      <td>сотрудник</td>\n",
       "      <td>0</td>\n",
       "      <td>145885.952297</td>\n",
       "      <td>покупка жилья</td>\n",
       "    </tr>\n",
       "    <tr>\n",
       "      <th>3</th>\n",
       "      <td>3</td>\n",
       "      <td>-4124.747207</td>\n",
       "      <td>32</td>\n",
       "      <td>среднее</td>\n",
       "      <td>1</td>\n",
       "      <td>женат / замужем</td>\n",
       "      <td>0</td>\n",
       "      <td>M</td>\n",
       "      <td>сотрудник</td>\n",
       "      <td>0</td>\n",
       "      <td>267628.550329</td>\n",
       "      <td>дополнительное образование</td>\n",
       "    </tr>\n",
       "    <tr>\n",
       "      <th>4</th>\n",
       "      <td>0</td>\n",
       "      <td>340266.072047</td>\n",
       "      <td>53</td>\n",
       "      <td>среднее</td>\n",
       "      <td>1</td>\n",
       "      <td>гражданский брак</td>\n",
       "      <td>1</td>\n",
       "      <td>F</td>\n",
       "      <td>пенсионер</td>\n",
       "      <td>0</td>\n",
       "      <td>158616.077870</td>\n",
       "      <td>сыграть свадьбу</td>\n",
       "    </tr>\n",
       "    <tr>\n",
       "      <th>5</th>\n",
       "      <td>0</td>\n",
       "      <td>-926.185831</td>\n",
       "      <td>27</td>\n",
       "      <td>высшее</td>\n",
       "      <td>0</td>\n",
       "      <td>гражданский брак</td>\n",
       "      <td>1</td>\n",
       "      <td>M</td>\n",
       "      <td>компаньон</td>\n",
       "      <td>0</td>\n",
       "      <td>255763.565419</td>\n",
       "      <td>покупка жилья</td>\n",
       "    </tr>\n",
       "    <tr>\n",
       "      <th>6</th>\n",
       "      <td>0</td>\n",
       "      <td>-2879.202052</td>\n",
       "      <td>43</td>\n",
       "      <td>высшее</td>\n",
       "      <td>0</td>\n",
       "      <td>женат / замужем</td>\n",
       "      <td>0</td>\n",
       "      <td>F</td>\n",
       "      <td>компаньон</td>\n",
       "      <td>0</td>\n",
       "      <td>240525.971920</td>\n",
       "      <td>операции с жильем</td>\n",
       "    </tr>\n",
       "    <tr>\n",
       "      <th>7</th>\n",
       "      <td>0</td>\n",
       "      <td>-152.779569</td>\n",
       "      <td>50</td>\n",
       "      <td>СРЕДНЕЕ</td>\n",
       "      <td>1</td>\n",
       "      <td>женат / замужем</td>\n",
       "      <td>0</td>\n",
       "      <td>M</td>\n",
       "      <td>сотрудник</td>\n",
       "      <td>0</td>\n",
       "      <td>135823.934197</td>\n",
       "      <td>образование</td>\n",
       "    </tr>\n",
       "    <tr>\n",
       "      <th>8</th>\n",
       "      <td>2</td>\n",
       "      <td>-6929.865299</td>\n",
       "      <td>35</td>\n",
       "      <td>ВЫСШЕЕ</td>\n",
       "      <td>0</td>\n",
       "      <td>гражданский брак</td>\n",
       "      <td>1</td>\n",
       "      <td>F</td>\n",
       "      <td>сотрудник</td>\n",
       "      <td>0</td>\n",
       "      <td>95856.832424</td>\n",
       "      <td>на проведение свадьбы</td>\n",
       "    </tr>\n",
       "    <tr>\n",
       "      <th>9</th>\n",
       "      <td>0</td>\n",
       "      <td>-2188.756445</td>\n",
       "      <td>41</td>\n",
       "      <td>среднее</td>\n",
       "      <td>1</td>\n",
       "      <td>женат / замужем</td>\n",
       "      <td>0</td>\n",
       "      <td>M</td>\n",
       "      <td>сотрудник</td>\n",
       "      <td>0</td>\n",
       "      <td>144425.938277</td>\n",
       "      <td>покупка жилья для семьи</td>\n",
       "    </tr>\n",
       "    <tr>\n",
       "      <th>10</th>\n",
       "      <td>2</td>\n",
       "      <td>-4171.483647</td>\n",
       "      <td>36</td>\n",
       "      <td>высшее</td>\n",
       "      <td>0</td>\n",
       "      <td>женат / замужем</td>\n",
       "      <td>0</td>\n",
       "      <td>M</td>\n",
       "      <td>компаньон</td>\n",
       "      <td>0</td>\n",
       "      <td>113943.491460</td>\n",
       "      <td>покупка недвижимости</td>\n",
       "    </tr>\n",
       "    <tr>\n",
       "      <th>11</th>\n",
       "      <td>0</td>\n",
       "      <td>-792.701887</td>\n",
       "      <td>40</td>\n",
       "      <td>среднее</td>\n",
       "      <td>1</td>\n",
       "      <td>женат / замужем</td>\n",
       "      <td>0</td>\n",
       "      <td>F</td>\n",
       "      <td>сотрудник</td>\n",
       "      <td>0</td>\n",
       "      <td>77069.234271</td>\n",
       "      <td>покупка коммерческой недвижимости</td>\n",
       "    </tr>\n",
       "    <tr>\n",
       "      <th>12</th>\n",
       "      <td>0</td>\n",
       "      <td>NaN</td>\n",
       "      <td>65</td>\n",
       "      <td>среднее</td>\n",
       "      <td>1</td>\n",
       "      <td>гражданский брак</td>\n",
       "      <td>1</td>\n",
       "      <td>M</td>\n",
       "      <td>пенсионер</td>\n",
       "      <td>0</td>\n",
       "      <td>NaN</td>\n",
       "      <td>сыграть свадьбу</td>\n",
       "    </tr>\n",
       "    <tr>\n",
       "      <th>13</th>\n",
       "      <td>0</td>\n",
       "      <td>-1846.641941</td>\n",
       "      <td>54</td>\n",
       "      <td>неоконченное высшее</td>\n",
       "      <td>2</td>\n",
       "      <td>женат / замужем</td>\n",
       "      <td>0</td>\n",
       "      <td>F</td>\n",
       "      <td>сотрудник</td>\n",
       "      <td>0</td>\n",
       "      <td>130458.228857</td>\n",
       "      <td>приобретение автомобиля</td>\n",
       "    </tr>\n",
       "    <tr>\n",
       "      <th>14</th>\n",
       "      <td>0</td>\n",
       "      <td>-1844.956182</td>\n",
       "      <td>56</td>\n",
       "      <td>высшее</td>\n",
       "      <td>0</td>\n",
       "      <td>гражданский брак</td>\n",
       "      <td>1</td>\n",
       "      <td>F</td>\n",
       "      <td>компаньон</td>\n",
       "      <td>1</td>\n",
       "      <td>165127.911772</td>\n",
       "      <td>покупка жилой недвижимости</td>\n",
       "    </tr>\n",
       "    <tr>\n",
       "      <th>15</th>\n",
       "      <td>1</td>\n",
       "      <td>-972.364419</td>\n",
       "      <td>26</td>\n",
       "      <td>среднее</td>\n",
       "      <td>1</td>\n",
       "      <td>женат / замужем</td>\n",
       "      <td>0</td>\n",
       "      <td>F</td>\n",
       "      <td>сотрудник</td>\n",
       "      <td>0</td>\n",
       "      <td>116820.904450</td>\n",
       "      <td>строительство собственной недвижимости</td>\n",
       "    </tr>\n",
       "    <tr>\n",
       "      <th>16</th>\n",
       "      <td>0</td>\n",
       "      <td>-1719.934226</td>\n",
       "      <td>35</td>\n",
       "      <td>среднее</td>\n",
       "      <td>1</td>\n",
       "      <td>женат / замужем</td>\n",
       "      <td>0</td>\n",
       "      <td>F</td>\n",
       "      <td>сотрудник</td>\n",
       "      <td>0</td>\n",
       "      <td>289202.704229</td>\n",
       "      <td>недвижимость</td>\n",
       "    </tr>\n",
       "    <tr>\n",
       "      <th>17</th>\n",
       "      <td>0</td>\n",
       "      <td>-2369.999720</td>\n",
       "      <td>33</td>\n",
       "      <td>высшее</td>\n",
       "      <td>0</td>\n",
       "      <td>гражданский брак</td>\n",
       "      <td>1</td>\n",
       "      <td>M</td>\n",
       "      <td>сотрудник</td>\n",
       "      <td>0</td>\n",
       "      <td>90410.586745</td>\n",
       "      <td>строительство недвижимости</td>\n",
       "    </tr>\n",
       "    <tr>\n",
       "      <th>18</th>\n",
       "      <td>0</td>\n",
       "      <td>400281.136913</td>\n",
       "      <td>53</td>\n",
       "      <td>среднее</td>\n",
       "      <td>1</td>\n",
       "      <td>вдовец / вдова</td>\n",
       "      <td>2</td>\n",
       "      <td>F</td>\n",
       "      <td>пенсионер</td>\n",
       "      <td>0</td>\n",
       "      <td>56823.777243</td>\n",
       "      <td>на покупку подержанного автомобиля</td>\n",
       "    </tr>\n",
       "    <tr>\n",
       "      <th>19</th>\n",
       "      <td>0</td>\n",
       "      <td>-10038.818549</td>\n",
       "      <td>48</td>\n",
       "      <td>СРЕДНЕЕ</td>\n",
       "      <td>1</td>\n",
       "      <td>в разводе</td>\n",
       "      <td>3</td>\n",
       "      <td>F</td>\n",
       "      <td>сотрудник</td>\n",
       "      <td>0</td>\n",
       "      <td>242831.107982</td>\n",
       "      <td>на покупку своего автомобиля</td>\n",
       "    </tr>\n",
       "  </tbody>\n",
       "</table>\n",
       "</div>"
      ],
      "text/plain": [
       "    children  days_employed  dob_years            education  education_id  \\\n",
       "0          1   -8437.673028         42               высшее             0   \n",
       "1          1   -4024.803754         36              среднее             1   \n",
       "2          0   -5623.422610         33              Среднее             1   \n",
       "3          3   -4124.747207         32              среднее             1   \n",
       "4          0  340266.072047         53              среднее             1   \n",
       "5          0    -926.185831         27               высшее             0   \n",
       "6          0   -2879.202052         43               высшее             0   \n",
       "7          0    -152.779569         50              СРЕДНЕЕ             1   \n",
       "8          2   -6929.865299         35               ВЫСШЕЕ             0   \n",
       "9          0   -2188.756445         41              среднее             1   \n",
       "10         2   -4171.483647         36               высшее             0   \n",
       "11         0    -792.701887         40              среднее             1   \n",
       "12         0            NaN         65              среднее             1   \n",
       "13         0   -1846.641941         54  неоконченное высшее             2   \n",
       "14         0   -1844.956182         56               высшее             0   \n",
       "15         1    -972.364419         26              среднее             1   \n",
       "16         0   -1719.934226         35              среднее             1   \n",
       "17         0   -2369.999720         33               высшее             0   \n",
       "18         0  400281.136913         53              среднее             1   \n",
       "19         0  -10038.818549         48              СРЕДНЕЕ             1   \n",
       "\n",
       "       family_status  family_status_id gender income_type  debt  \\\n",
       "0    женат / замужем                 0      F   сотрудник     0   \n",
       "1    женат / замужем                 0      F   сотрудник     0   \n",
       "2    женат / замужем                 0      M   сотрудник     0   \n",
       "3    женат / замужем                 0      M   сотрудник     0   \n",
       "4   гражданский брак                 1      F   пенсионер     0   \n",
       "5   гражданский брак                 1      M   компаньон     0   \n",
       "6    женат / замужем                 0      F   компаньон     0   \n",
       "7    женат / замужем                 0      M   сотрудник     0   \n",
       "8   гражданский брак                 1      F   сотрудник     0   \n",
       "9    женат / замужем                 0      M   сотрудник     0   \n",
       "10   женат / замужем                 0      M   компаньон     0   \n",
       "11   женат / замужем                 0      F   сотрудник     0   \n",
       "12  гражданский брак                 1      M   пенсионер     0   \n",
       "13   женат / замужем                 0      F   сотрудник     0   \n",
       "14  гражданский брак                 1      F   компаньон     1   \n",
       "15   женат / замужем                 0      F   сотрудник     0   \n",
       "16   женат / замужем                 0      F   сотрудник     0   \n",
       "17  гражданский брак                 1      M   сотрудник     0   \n",
       "18    вдовец / вдова                 2      F   пенсионер     0   \n",
       "19         в разводе                 3      F   сотрудник     0   \n",
       "\n",
       "     total_income                                 purpose  \n",
       "0   253875.639453                           покупка жилья  \n",
       "1   112080.014102                 приобретение автомобиля  \n",
       "2   145885.952297                           покупка жилья  \n",
       "3   267628.550329              дополнительное образование  \n",
       "4   158616.077870                         сыграть свадьбу  \n",
       "5   255763.565419                           покупка жилья  \n",
       "6   240525.971920                       операции с жильем  \n",
       "7   135823.934197                             образование  \n",
       "8    95856.832424                   на проведение свадьбы  \n",
       "9   144425.938277                 покупка жилья для семьи  \n",
       "10  113943.491460                    покупка недвижимости  \n",
       "11   77069.234271       покупка коммерческой недвижимости  \n",
       "12            NaN                         сыграть свадьбу  \n",
       "13  130458.228857                 приобретение автомобиля  \n",
       "14  165127.911772              покупка жилой недвижимости  \n",
       "15  116820.904450  строительство собственной недвижимости  \n",
       "16  289202.704229                            недвижимость  \n",
       "17   90410.586745              строительство недвижимости  \n",
       "18   56823.777243      на покупку подержанного автомобиля  \n",
       "19  242831.107982            на покупку своего автомобиля  "
      ]
     },
     "execution_count": 2,
     "metadata": {},
     "output_type": "execute_result"
    }
   ],
   "source": [
    "data.head(20)"
   ]
  },
  {
   "cell_type": "markdown",
   "id": "8ea2ea52",
   "metadata": {
    "deletable": false,
    "editable": false,
    "id": "1c12e233"
   },
   "source": [
    "**Задание 3. Выведите основную информацию о датафрейме с помощью метода `info()`.**"
   ]
  },
  {
   "cell_type": "code",
   "execution_count": 3,
   "id": "e2723621",
   "metadata": {
    "deletable": false,
    "id": "2b757bca",
    "outputId": "15376089-8dad-46c9-b520-c05248d43158"
   },
   "outputs": [
    {
     "name": "stdout",
     "output_type": "stream",
     "text": [
      "<class 'pandas.core.frame.DataFrame'>\n",
      "RangeIndex: 21525 entries, 0 to 21524\n",
      "Data columns (total 12 columns):\n",
      " #   Column            Non-Null Count  Dtype  \n",
      "---  ------            --------------  -----  \n",
      " 0   children          21525 non-null  int64  \n",
      " 1   days_employed     19351 non-null  float64\n",
      " 2   dob_years         21525 non-null  int64  \n",
      " 3   education         21525 non-null  object \n",
      " 4   education_id      21525 non-null  int64  \n",
      " 5   family_status     21525 non-null  object \n",
      " 6   family_status_id  21525 non-null  int64  \n",
      " 7   gender            21525 non-null  object \n",
      " 8   income_type       21525 non-null  object \n",
      " 9   debt              21525 non-null  int64  \n",
      " 10  total_income      19351 non-null  float64\n",
      " 11  purpose           21525 non-null  object \n",
      "dtypes: float64(2), int64(5), object(5)\n",
      "memory usage: 2.0+ MB\n"
     ]
    }
   ],
   "source": [
    "data.info()"
   ]
  },
  {
   "cell_type": "markdown",
   "id": "3a24b89a",
   "metadata": {
    "deletable": false,
    "editable": false,
    "id": "333ec665"
   },
   "source": [
    "## Предобработка данных"
   ]
  },
  {
   "cell_type": "markdown",
   "id": "5f196046",
   "metadata": {
    "deletable": false,
    "editable": false,
    "id": "02d92d53"
   },
   "source": [
    "### Удаление пропусков"
   ]
  },
  {
   "cell_type": "markdown",
   "id": "abbe92a3",
   "metadata": {
    "deletable": false,
    "editable": false,
    "id": "cd84967c"
   },
   "source": [
    "**Задание 4. Выведите количество пропущенных значений для каждого столбца. Используйте комбинацию двух методов.**"
   ]
  },
  {
   "cell_type": "code",
   "execution_count": 4,
   "id": "e9e1e6b6",
   "metadata": {
    "deletable": false,
    "id": "7f9b2309",
    "outputId": "81f4d817-781c-465c-ed15-91ce4446810d"
   },
   "outputs": [
    {
     "data": {
      "text/plain": [
       "children               0\n",
       "days_employed       2174\n",
       "dob_years              0\n",
       "education              0\n",
       "education_id           0\n",
       "family_status          0\n",
       "family_status_id       0\n",
       "gender                 0\n",
       "income_type            0\n",
       "debt                   0\n",
       "total_income        2174\n",
       "purpose                0\n",
       "dtype: int64"
      ]
     },
     "execution_count": 4,
     "metadata": {},
     "output_type": "execute_result"
    }
   ],
   "source": [
    "data.isna().sum()"
   ]
  },
  {
   "cell_type": "markdown",
   "id": "a7fc4cd9",
   "metadata": {
    "deletable": false,
    "editable": false,
    "id": "db86e27b"
   },
   "source": [
    "**Задание 5. В двух столбцах есть пропущенные значения. Один из них — `days_employed`. Пропуски в этом столбце вы обработаете на следующем этапе. Другой столбец с пропущенными значениями — `total_income` — хранит данные о доходах. На сумму дохода сильнее всего влияет тип занятости, поэтому заполнить пропуски в этом столбце нужно медианным значением по каждому типу из столбца `income_type`. Например, у человека с типом занятости `сотрудник` пропуск в столбце `total_income` должен быть заполнен медианным доходом среди всех записей с тем же типом.**"
   ]
  },
  {
   "cell_type": "code",
   "execution_count": 5,
   "id": "d9e50be0",
   "metadata": {
    "deletable": false,
    "id": "42006a93"
   },
   "outputs": [],
   "source": [
    "for t in data['income_type'].unique():\n",
    "    data.loc[(data['income_type'] == t) & (data['total_income'].isna()), 'total_income'] = \\\n",
    "    data.loc[(data['income_type'] == t), 'total_income'].median()"
   ]
  },
  {
   "cell_type": "markdown",
   "id": "ff7dc619",
   "metadata": {
    "deletable": false,
    "editable": false,
    "id": "89da5ece"
   },
   "source": [
    "### Обработка аномальных значений"
   ]
  },
  {
   "cell_type": "markdown",
   "id": "d4de76d7",
   "metadata": {
    "deletable": false,
    "editable": false,
    "id": "57964554"
   },
   "source": [
    "**Задание 6. В данных могут встречаться артефакты (аномалии) — значения, которые не отражают действительность и появились по какой-то ошибке. таким артефактом будет отрицательное количество дней трудового стажа в столбце `days_employed`. Для реальных данных это нормально. Обработайте значения в этом столбце: замените все отрицательные значения положительными с помощью метода `abs()`.**"
   ]
  },
  {
   "cell_type": "code",
   "execution_count": 6,
   "id": "0a813036",
   "metadata": {
    "deletable": false,
    "id": "f6f055bf"
   },
   "outputs": [],
   "source": [
    "data['days_employed'] = data['days_employed'].abs()"
   ]
  },
  {
   "cell_type": "markdown",
   "id": "dc2d35ca",
   "metadata": {
    "deletable": false,
    "editable": false,
    "id": "6107dd2f"
   },
   "source": [
    "**Задание 7. Для каждого типа занятости выведите медианное значение трудового стажа `days_employed` в днях.**"
   ]
  },
  {
   "cell_type": "code",
   "execution_count": 7,
   "id": "2586b0a0",
   "metadata": {
    "deletable": false,
    "id": "85a5faf6",
    "outputId": "801ef80e-522b-4668-f34e-565af7432bcf"
   },
   "outputs": [
    {
     "data": {
      "text/plain": [
       "income_type\n",
       "безработный        366413.652744\n",
       "в декрете            3296.759962\n",
       "госслужащий          2689.368353\n",
       "компаньон            1547.382223\n",
       "пенсионер          365213.306266\n",
       "предприниматель       520.848083\n",
       "сотрудник            1574.202821\n",
       "студент               578.751554\n",
       "Name: days_employed, dtype: float64"
      ]
     },
     "execution_count": 7,
     "metadata": {},
     "output_type": "execute_result"
    }
   ],
   "source": [
    "data.groupby('income_type')['days_employed'].agg('median')"
   ]
  },
  {
   "cell_type": "markdown",
   "id": "2e6bf49b",
   "metadata": {
    "deletable": false,
    "editable": false,
    "id": "38d1a030"
   },
   "source": [
    "У двух типов (безработные и пенсионеры) получатся аномально большие значения. Исправить такие значения сложно, поэтому оставьте их как есть. Тем более этот столбец не понадобится вам для исследования."
   ]
  },
  {
   "cell_type": "markdown",
   "id": "e414e875",
   "metadata": {
    "deletable": false,
    "editable": false,
    "id": "d8a9f147"
   },
   "source": [
    "**Задание 8. Выведите перечень уникальных значений столбца `children`.**"
   ]
  },
  {
   "cell_type": "code",
   "execution_count": 8,
   "id": "e4e1398b",
   "metadata": {
    "deletable": false,
    "id": "ef5056eb",
    "outputId": "6975b15c-7f95-4697-d16d-a0c79b657b03"
   },
   "outputs": [
    {
     "data": {
      "text/plain": [
       "array([ 1,  0,  3,  2, -1,  4, 20,  5])"
      ]
     },
     "execution_count": 8,
     "metadata": {},
     "output_type": "execute_result"
    }
   ],
   "source": [
    "data['children'].unique()"
   ]
  },
  {
   "cell_type": "markdown",
   "id": "a790826c",
   "metadata": {
    "deletable": false,
    "editable": false,
    "id": "40b9ebf2"
   },
   "source": [
    "**Задание 9. В столбце `children` есть два аномальных значения. Удалите строки, в которых встречаются такие аномальные значения из датафрейма `data`.**"
   ]
  },
  {
   "cell_type": "code",
   "execution_count": 9,
   "id": "0b8ff813",
   "metadata": {
    "deletable": false,
    "id": "3ff9801d"
   },
   "outputs": [],
   "source": [
    "data = data[(data['children'] != -1) & (data['children'] != 20)]"
   ]
  },
  {
   "cell_type": "markdown",
   "id": "4a969a9c",
   "metadata": {
    "deletable": false,
    "editable": false,
    "id": "bbc4d0ce"
   },
   "source": [
    "**Задание 10. Ещё раз выведите перечень уникальных значений столбца `children`, чтобы убедиться, что артефакты удалены.**"
   ]
  },
  {
   "cell_type": "code",
   "execution_count": 10,
   "id": "5c3f0815",
   "metadata": {
    "deletable": false,
    "id": "ad4fa8b7",
    "outputId": "b2097101-d49d-44d9-901b-32a65c9463d1"
   },
   "outputs": [
    {
     "data": {
      "text/plain": [
       "array([1, 0, 3, 2, 4, 5])"
      ]
     },
     "execution_count": 10,
     "metadata": {},
     "output_type": "execute_result"
    }
   ],
   "source": [
    "data['children'].unique()"
   ]
  },
  {
   "cell_type": "markdown",
   "id": "0ebe0614",
   "metadata": {
    "deletable": false,
    "editable": false,
    "id": "75440b63"
   },
   "source": [
    "### Удаление пропусков (продолжение)"
   ]
  },
  {
   "cell_type": "markdown",
   "id": "0cff2207",
   "metadata": {
    "deletable": false,
    "editable": false,
    "id": "f4ea573f"
   },
   "source": [
    "**Задание 11. Заполните пропуски в столбце `days_employed` медианными значениями по каждого типа занятости `income_type`.**"
   ]
  },
  {
   "cell_type": "code",
   "execution_count": 11,
   "id": "d2a2d648",
   "metadata": {
    "deletable": false,
    "id": "af6b1a7e"
   },
   "outputs": [],
   "source": [
    "for t in data['income_type'].unique():\n",
    "    data.loc[(data['income_type'] == t) & (data['days_employed'].isna()), 'days_employed'] = \\\n",
    "    data.loc[(data['income_type'] == t), 'days_employed'].median()"
   ]
  },
  {
   "cell_type": "markdown",
   "id": "529330b3",
   "metadata": {
    "deletable": false,
    "editable": false,
    "id": "2753f40d"
   },
   "source": [
    "**Задание 12. Убедитесь, что все пропуски заполнены. Проверьте себя и ещё раз выведите количество пропущенных значений для каждого столбца с помощью двух методов.**"
   ]
  },
  {
   "cell_type": "code",
   "execution_count": 12,
   "id": "9747a36e",
   "metadata": {
    "deletable": false,
    "id": "55f78bc2",
    "outputId": "8da1e4e1-358e-4e87-98c9-f261bce0a7b2"
   },
   "outputs": [
    {
     "data": {
      "text/plain": [
       "children            0\n",
       "days_employed       0\n",
       "dob_years           0\n",
       "education           0\n",
       "education_id        0\n",
       "family_status       0\n",
       "family_status_id    0\n",
       "gender              0\n",
       "income_type         0\n",
       "debt                0\n",
       "total_income        0\n",
       "purpose             0\n",
       "dtype: int64"
      ]
     },
     "execution_count": 12,
     "metadata": {},
     "output_type": "execute_result"
    }
   ],
   "source": [
    "data.isna().sum()"
   ]
  },
  {
   "cell_type": "markdown",
   "id": "a0056a3f",
   "metadata": {
    "deletable": false,
    "editable": false,
    "id": "ddc81e43"
   },
   "source": [
    "### Изменение типов данных"
   ]
  },
  {
   "cell_type": "markdown",
   "id": "360e1404",
   "metadata": {
    "deletable": false,
    "editable": false,
    "id": "42d19d24"
   },
   "source": [
    "**Задание 13. Замените вещественный тип данных в столбце `total_income` на целочисленный с помощью метода `astype()`.**"
   ]
  },
  {
   "cell_type": "code",
   "execution_count": 13,
   "id": "1aad48a3",
   "metadata": {
    "deletable": false,
    "id": "920b65ad"
   },
   "outputs": [],
   "source": [
    "data['total_income'] = data['total_income'].astype(int)"
   ]
  },
  {
   "cell_type": "markdown",
   "id": "7c43f14e",
   "metadata": {
    "deletable": false,
    "editable": false,
    "id": "80c420ba"
   },
   "source": [
    "### Обработка дубликатов"
   ]
  },
  {
   "cell_type": "markdown",
   "id": "69b95628",
   "metadata": {
    "deletable": false,
    "editable": false
   },
   "source": [
    "**Задание 14. Обработайте неявные дубликаты в столбце `education`. В этом столбце есть одни и те же значения, но записанные по-разному: с использованием заглавных и строчных букв. Приведите их к нижнему регистру. Проверьте остальные столбцы.**"
   ]
  },
  {
   "cell_type": "code",
   "execution_count": 14,
   "id": "028b5856",
   "metadata": {
    "deletable": false
   },
   "outputs": [],
   "source": [
    "data['education'] = data['education'].str.lower()"
   ]
  },
  {
   "cell_type": "markdown",
   "id": "bcc9a6a2",
   "metadata": {
    "deletable": false,
    "editable": false,
    "id": "dc587695"
   },
   "source": [
    "**Задание 15. Выведите на экран количество строк-дубликатов в данных. Если такие строки присутствуют, удалите их.**"
   ]
  },
  {
   "cell_type": "code",
   "execution_count": 15,
   "id": "daa16c4b",
   "metadata": {
    "deletable": false,
    "id": "3ee445e4",
    "outputId": "9684deba-1934-42d1-99e1-cda61740f822"
   },
   "outputs": [
    {
     "data": {
      "text/plain": [
       "71"
      ]
     },
     "execution_count": 15,
     "metadata": {},
     "output_type": "execute_result"
    }
   ],
   "source": [
    "data.duplicated().sum()"
   ]
  },
  {
   "cell_type": "code",
   "execution_count": 16,
   "id": "3ebee4ec",
   "metadata": {
    "deletable": false,
    "id": "8575fe05"
   },
   "outputs": [],
   "source": [
    "data = data.drop_duplicates()"
   ]
  },
  {
   "cell_type": "markdown",
   "id": "6c45e5d8",
   "metadata": {
    "deletable": false,
    "editable": false,
    "id": "9904cf55"
   },
   "source": [
    "### Категоризация данных"
   ]
  },
  {
   "cell_type": "markdown",
   "id": "1db15666",
   "metadata": {
    "deletable": false,
    "editable": false,
    "id": "72fcc8a2"
   },
   "source": [
    "**Задание 16. На основании диапазонов, указанных ниже, создайте в датафрейме `data` столбец `total_income_category` с категориями:**\n",
    "\n",
    "- 0–30000 — `'E'`;\n",
    "- 30001–50000 — `'D'`;\n",
    "- 50001–200000 — `'C'`;\n",
    "- 200001–1000000 — `'B'`;\n",
    "- 1000001 и выше — `'A'`.\n",
    "\n",
    "\n",
    "**Например, кредитополучателю с доходом 25000 нужно назначить категорию `'E'`, а клиенту, получающему 235000, — `'B'`. Используйте собственную функцию с именем `categorize_income()` и метод `apply()`.**"
   ]
  },
  {
   "cell_type": "code",
   "execution_count": 17,
   "id": "bf422552",
   "metadata": {
    "deletable": false,
    "id": "e1771346"
   },
   "outputs": [],
   "source": [
    "def categorize_income(income):\n",
    "    try:\n",
    "        if 0 <= income <= 30000:\n",
    "            return 'E'\n",
    "        elif 30001 <= income <= 50000:\n",
    "            return 'D'\n",
    "        elif 50001 <= income <= 200000:\n",
    "            return 'C'\n",
    "        elif 200001 <= income <= 1000000:\n",
    "            return 'B'\n",
    "        elif income >= 1000001:\n",
    "            return 'A'\n",
    "    except:\n",
    "        pass"
   ]
  },
  {
   "cell_type": "code",
   "execution_count": 18,
   "id": "2920a970",
   "metadata": {
    "deletable": false,
    "id": "d5f3586d"
   },
   "outputs": [],
   "source": [
    "data['total_income_category'] = data['total_income'].apply(categorize_income)"
   ]
  },
  {
   "cell_type": "markdown",
   "id": "d12931c7",
   "metadata": {
    "deletable": false,
    "editable": false,
    "id": "dde49b5c"
   },
   "source": [
    "**Задание 17. Выведите на экран перечень уникальных целей взятия кредита из столбца `purpose`.**"
   ]
  },
  {
   "cell_type": "code",
   "execution_count": 19,
   "id": "9205bfab",
   "metadata": {
    "deletable": false,
    "id": "f67ce9b3",
    "outputId": "673c12d9-7d7e-4ae0-9812-c622c89dd244"
   },
   "outputs": [
    {
     "data": {
      "text/plain": [
       "array(['покупка жилья', 'приобретение автомобиля',\n",
       "       'дополнительное образование', 'сыграть свадьбу',\n",
       "       'операции с жильем', 'образование', 'на проведение свадьбы',\n",
       "       'покупка жилья для семьи', 'покупка недвижимости',\n",
       "       'покупка коммерческой недвижимости', 'покупка жилой недвижимости',\n",
       "       'строительство собственной недвижимости', 'недвижимость',\n",
       "       'строительство недвижимости', 'на покупку подержанного автомобиля',\n",
       "       'на покупку своего автомобиля',\n",
       "       'операции с коммерческой недвижимостью',\n",
       "       'строительство жилой недвижимости', 'жилье',\n",
       "       'операции со своей недвижимостью', 'автомобили',\n",
       "       'заняться образованием', 'сделка с подержанным автомобилем',\n",
       "       'получение образования', 'автомобиль', 'свадьба',\n",
       "       'получение дополнительного образования', 'покупка своего жилья',\n",
       "       'операции с недвижимостью', 'получение высшего образования',\n",
       "       'свой автомобиль', 'сделка с автомобилем',\n",
       "       'профильное образование', 'высшее образование',\n",
       "       'покупка жилья для сдачи', 'на покупку автомобиля', 'ремонт жилью',\n",
       "       'заняться высшим образованием'], dtype=object)"
      ]
     },
     "execution_count": 19,
     "metadata": {},
     "output_type": "execute_result"
    }
   ],
   "source": [
    "data['purpose'].unique()"
   ]
  },
  {
   "cell_type": "markdown",
   "id": "3a816b1d",
   "metadata": {
    "deletable": false,
    "editable": false,
    "id": "85d0aef0"
   },
   "source": [
    "**Задание 18. Создайте функцию, которая на основании данных из столбца `purpose` сформирует новый столбец `purpose_category`, в который войдут следующие категории:**\n",
    "\n",
    "- `'операции с автомобилем'`,\n",
    "- `'операции с недвижимостью'`,\n",
    "- `'проведение свадьбы'`,\n",
    "- `'получение образования'`.\n",
    "\n",
    "**Например, если в столбце `purpose` находится подстрока `'на покупку автомобиля'`, то в столбце `purpose_category` должна появиться строка `'операции с автомобилем'`.**\n",
    "\n",
    "**Используйте собственную функцию с именем `categorize_purpose()` и метод `apply()`. Изучите данные в столбце `purpose` и определите, какие подстроки помогут вам правильно определить категорию.**"
   ]
  },
  {
   "cell_type": "code",
   "execution_count": 20,
   "id": "07c2c15a",
   "metadata": {
    "deletable": false,
    "id": "e149fab4"
   },
   "outputs": [],
   "source": [
    "def categorize_purpose(row):\n",
    "    try:\n",
    "        if 'автом' in row:\n",
    "            return 'операции с автомобилем'\n",
    "        elif 'жил' in row or 'недвиж' in row:\n",
    "            return 'операции с недвижимостью'\n",
    "        elif 'свад' in row:\n",
    "            return 'проведение свадьбы'\n",
    "        elif 'образов' in row:\n",
    "            return 'получение образования'\n",
    "    except:\n",
    "        return 'нет категории'"
   ]
  },
  {
   "cell_type": "code",
   "execution_count": 21,
   "id": "63a6ee00",
   "metadata": {
    "deletable": false,
    "id": "bf36e69b"
   },
   "outputs": [],
   "source": [
    "data['purpose_category'] = data['purpose'].apply(categorize_purpose)"
   ]
  },
  {
   "cell_type": "markdown",
   "id": "e3138df7",
   "metadata": {
    "deletable": false,
    "editable": false,
    "id": "09b242bf"
   },
   "source": [
    "### Шаг 3. Исследуйте данные и ответьте на вопросы"
   ]
  },
  {
   "cell_type": "markdown",
   "id": "f28bf650",
   "metadata": {
    "deletable": false,
    "editable": false,
    "id": "c5d66278"
   },
   "source": [
    "#### 3.1 Есть ли зависимость между количеством детей и возвратом кредита в срок?"
   ]
  },
  {
   "cell_type": "code",
   "execution_count": 22,
   "id": "1ce27505",
   "metadata": {},
   "outputs": [],
   "source": [
    "import matplotlib.pyplot as plt\n",
    "import numpy as np\n",
    "from sklearn.preprocessing import LabelEncoder\n",
    "import seaborn as sns\n",
    "import warnings; warnings.filterwarnings(action='once')"
   ]
  },
  {
   "cell_type": "code",
   "execution_count": 23,
   "id": "6edc1982",
   "metadata": {
    "deletable": false,
    "id": "2cacfc4a"
   },
   "outputs": [
    {
     "data": {
      "image/png": "[encoded data removed]",
      "text/plain": [
       "<Figure size 432x288 with 1 Axes>"
      ]
     },
     "metadata": {
      "needs_background": "light"
     },
     "output_type": "display_data"
    },
    {
     "data": {
      "image/png": "[encoded data removed]",
      "text/plain": [
       "<Figure size 432x432 with 3 Axes>"
      ]
     },
     "metadata": {
      "needs_background": "light"
     },
     "output_type": "display_data"
    }
   ],
   "source": [
    "'''Визуализация корреляции между количеством детей и возвратом кредита в срок'''\n",
    "xs = data['children']\n",
    "ys = data['debt'].apply( np.log )\n",
    "pd.DataFrame(np.array([xs,ys]).T).plot.scatter(0, 1, s=12, grid=True)\n",
    "plt.xlabel('количество детей')\n",
    "plt.ylabel('возврат кредита в срок')\n",
    "plt.show()\n",
    "\n",
    "sns.jointplot(x='children', y='debt', data=data, kind='scatter');"
   ]
  },
  {
   "cell_type": "code",
   "execution_count": 24,
   "id": "642c5eab",
   "metadata": {},
   "outputs": [
    {
     "name": "stdout",
     "output_type": "stream",
     "text": [
      "Корреляция Пирсона: 0.024643415439591042\n",
      "Ковариация: 0.005064387866086666\n"
     ]
    }
   ],
   "source": [
    "print('Корреляция Пирсона:', data['children'].corr(data['debt']))\n",
    "print('Ковариация:', data['children'].cov(data['debt']))"
   ]
  },
  {
   "cell_type": "markdown",
   "id": "538e40b1",
   "metadata": {
    "deletable": false,
    "id": "3a6b99ec"
   },
   "source": [
    "**Вывод:** Корреляция Пирсона говорит нам, что линейные связи почти отсутвуют, возможны не линейные!"
   ]
  },
  {
   "cell_type": "markdown",
   "id": "501e3ab1",
   "metadata": {},
   "source": [
    "<div class=\"alert-danger\"> \n",
    "<b>Комментарий ревьюера ❌</b> \n",
    "    \n",
    "Корреляция между категориальными переменными не может быть измерена с помощью коэффициентов Пирсона\n",
    "    \n",
    "Здесь стоит построить сводные таблицы\n",
    "    \n",
    "Комментарий относится ко всем пунктам"
   ]
  },
  {
   "cell_type": "markdown",
   "id": "da4bb05b",
   "metadata": {},
   "source": [
    "<span style=\"color:blue\"> **Второй вариант решения**.</span>"
   ]
  },
  {
   "cell_type": "code",
   "execution_count": 25,
   "id": "00137c0f",
   "metadata": {},
   "outputs": [
    {
     "data": {
      "text/html": [
       "<div>\n",
       "<style scoped>\n",
       "    .dataframe tbody tr th:only-of-type {\n",
       "        vertical-align: middle;\n",
       "    }\n",
       "\n",
       "    .dataframe tbody tr th {\n",
       "        vertical-align: top;\n",
       "    }\n",
       "\n",
       "    .dataframe thead th {\n",
       "        text-align: right;\n",
       "    }\n",
       "</style>\n",
       "<table border=\"1\" class=\"dataframe\">\n",
       "  <thead>\n",
       "    <tr style=\"text-align: right;\">\n",
       "      <th>debt</th>\n",
       "      <th>0</th>\n",
       "      <th>1</th>\n",
       "    </tr>\n",
       "    <tr>\n",
       "      <th>children</th>\n",
       "      <th></th>\n",
       "      <th></th>\n",
       "    </tr>\n",
       "  </thead>\n",
       "  <tbody>\n",
       "    <tr>\n",
       "      <th>0</th>\n",
       "      <td>13028</td>\n",
       "      <td>1063</td>\n",
       "    </tr>\n",
       "    <tr>\n",
       "      <th>1</th>\n",
       "      <td>4364</td>\n",
       "      <td>444</td>\n",
       "    </tr>\n",
       "    <tr>\n",
       "      <th>2</th>\n",
       "      <td>1858</td>\n",
       "      <td>194</td>\n",
       "    </tr>\n",
       "    <tr>\n",
       "      <th>3</th>\n",
       "      <td>303</td>\n",
       "      <td>27</td>\n",
       "    </tr>\n",
       "    <tr>\n",
       "      <th>4</th>\n",
       "      <td>37</td>\n",
       "      <td>4</td>\n",
       "    </tr>\n",
       "    <tr>\n",
       "      <th>5</th>\n",
       "      <td>9</td>\n",
       "      <td>0</td>\n",
       "    </tr>\n",
       "  </tbody>\n",
       "</table>\n",
       "</div>"
      ],
      "text/plain": [
       "debt          0     1\n",
       "children             \n",
       "0         13028  1063\n",
       "1          4364   444\n",
       "2          1858   194\n",
       "3           303    27\n",
       "4            37     4\n",
       "5             9     0"
      ]
     },
     "execution_count": 25,
     "metadata": {},
     "output_type": "execute_result"
    }
   ],
   "source": [
    "pd.crosstab(data['children'], data['debt'])"
   ]
  },
  {
   "cell_type": "code",
   "execution_count": 26,
   "id": "1d4d6578",
   "metadata": {},
   "outputs": [
    {
     "data": {
      "image/png": "[encoded data removed]",
      "text/plain": [
       "<Figure size 432x288 with 1 Axes>"
      ]
     },
     "metadata": {
      "needs_background": "light"
     },
     "output_type": "display_data"
    }
   ],
   "source": [
    "sns.heatmap(pd.crosstab(data['children'], data['debt']), \n",
    "            cmap=\"YlGnBu\", annot=True, cbar=False);"
   ]
  },
  {
   "cell_type": "code",
   "execution_count": 27,
   "id": "ecff5f03",
   "metadata": {},
   "outputs": [
    {
     "data": {
      "text/plain": [
       "(20.117395586863267,\n",
       " 0.0011878936268035906,\n",
       " 5,\n",
       " array([[1.29468618e+04, 1.14413820e+03],\n",
       "        [4.41760780e+03, 3.90392199e+02],\n",
       "        [1.88538503e+03, 1.66614974e+02],\n",
       "        [3.03205194e+02, 2.67948057e+01],\n",
       "        [3.76709484e+01, 3.32905162e+00],\n",
       "        [8.26923257e+00, 7.30767428e-01]]))"
      ]
     },
     "execution_count": 27,
     "metadata": {},
     "output_type": "execute_result"
    }
   ],
   "source": [
    "from scipy.stats import chi2_contingency, fisher_exact\n",
    "chi2_contingency(pd.crosstab(data['children'], data['debt']))"
   ]
  },
  {
   "cell_type": "markdown",
   "id": "51399d04",
   "metadata": {},
   "source": [
    "<span style=\"color:blue\"> Статистика теста: хи-квадрат = 20.117, р-значение = 0.0011 степени свободы = 5. Поскольку p-значение (0.0011) теста меньше 0,05, мы можем сказать, что существует связь между количеством детей и возвратом кредита в срок.</span>"
   ]
  },
  {
   "cell_type": "code",
   "execution_count": 50,
   "id": "2beb9010",
   "metadata": {},
   "outputs": [
    {
     "data": {
      "text/html": [
       "<div>\n",
       "<style scoped>\n",
       "    .dataframe tbody tr th:only-of-type {\n",
       "        vertical-align: middle;\n",
       "    }\n",
       "\n",
       "    .dataframe tbody tr th {\n",
       "        vertical-align: top;\n",
       "    }\n",
       "\n",
       "    .dataframe thead th {\n",
       "        text-align: right;\n",
       "    }\n",
       "</style>\n",
       "<table border=\"1\" class=\"dataframe\">\n",
       "  <thead>\n",
       "    <tr style=\"text-align: right;\">\n",
       "      <th></th>\n",
       "      <th>Количество записей</th>\n",
       "      <th>Доля просроченых заемов</th>\n",
       "    </tr>\n",
       "    <tr>\n",
       "      <th>children</th>\n",
       "      <th></th>\n",
       "      <th></th>\n",
       "    </tr>\n",
       "  </thead>\n",
       "  <tbody>\n",
       "    <tr>\n",
       "      <th>0</th>\n",
       "      <td>14091.0</td>\n",
       "      <td>7.54%</td>\n",
       "    </tr>\n",
       "    <tr>\n",
       "      <th>1</th>\n",
       "      <td>4808.0</td>\n",
       "      <td>9.23%</td>\n",
       "    </tr>\n",
       "    <tr>\n",
       "      <th>2</th>\n",
       "      <td>2052.0</td>\n",
       "      <td>9.45%</td>\n",
       "    </tr>\n",
       "    <tr>\n",
       "      <th>3</th>\n",
       "      <td>330.0</td>\n",
       "      <td>8.18%</td>\n",
       "    </tr>\n",
       "    <tr>\n",
       "      <th>4</th>\n",
       "      <td>41.0</td>\n",
       "      <td>9.76%</td>\n",
       "    </tr>\n",
       "    <tr>\n",
       "      <th>5</th>\n",
       "      <td>9.0</td>\n",
       "      <td>0.00%</td>\n",
       "    </tr>\n",
       "  </tbody>\n",
       "</table>\n",
       "</div>"
      ],
      "text/plain": [
       "          Количество записей Доля просроченых заемов\n",
       "children                                            \n",
       "0                    14091.0                   7.54%\n",
       "1                     4808.0                   9.23%\n",
       "2                     2052.0                   9.45%\n",
       "3                      330.0                   8.18%\n",
       "4                       41.0                   9.76%\n",
       "5                        9.0                   0.00%"
      ]
     },
     "execution_count": 50,
     "metadata": {},
     "output_type": "execute_result"
    }
   ],
   "source": [
    "children_dept = data.pivot_table(index = ['children'], values='debt', aggfunc = ('mean', lambda i:\n",
    "                                                                       i.count()))\n",
    "\n",
    "def percent(x):\n",
    "    return \"{0:.2%}\".format(x)\n",
    "\n",
    "children_dept['mean'] = children_dept['mean'].apply(percent)\n",
    "children_dept = children_dept.rename(columns={\"<lambda_0>\": \"Количество записей\", \"mean\": \"Доля просроченых заемов\"})\n",
    "children_dept.sort_values(by='Количество записей', ascending=False)"
   ]
  },
  {
   "cell_type": "markdown",
   "id": "947d7c40",
   "metadata": {},
   "source": [
    "<span style=\"color:blue\"> **Вывод:** Заемщики, не имеющие детей, менее склонны к просрочке по выплатам кредита, возможны кредиты меньшего размера и их легче отдавать. На втором месте расположились клиенты с 3-я детьми. На 3 ,4 и 5 местах расположились семьи с 1-м, 2-я и 4-я детьм соотвественно, опираясь на логику описанную в предидущем предложении, могу предположить, что семьи с 1-м и 2-я детьми берут кредит разово, поэтому не сильно ориентируются на срок выплат.</span>"
   ]
  },
  {
   "cell_type": "markdown",
   "id": "4dc21f51",
   "metadata": {},
   "source": [
    "<div class=\"alert-success\"> \n",
    "<b>Комментарий ревьюера 👍 Вторая итерация </b>\n",
    "\n",
    "Теперь здорово, только столбец среднее можно во что-то иное переименовать - в долю, например"
   ]
  },
  {
   "cell_type": "markdown",
   "id": "d07e50e1",
   "metadata": {
    "deletable": false,
    "editable": false,
    "id": "97be82ca"
   },
   "source": [
    "#### 3.2 Есть ли зависимость между семейным положением и возвратом кредита в срок?"
   ]
  },
  {
   "cell_type": "code",
   "execution_count": 30,
   "id": "e3d46243",
   "metadata": {
    "deletable": false,
    "id": "dc3f7ee8"
   },
   "outputs": [
    {
     "data": {
      "image/png": "[encoded data removed]",
      "text/plain": [
       "<Figure size 432x288 with 1 Axes>"
      ]
     },
     "metadata": {
      "needs_background": "light"
     },
     "output_type": "display_data"
    },
    {
     "data": {
      "image/png": "[encoded data removed]",
      "text/plain": [
       "<Figure size 432x432 with 3 Axes>"
      ]
     },
     "metadata": {
      "needs_background": "light"
     },
     "output_type": "display_data"
    }
   ],
   "source": [
    "'''Визуализация корреляции  между семейным положением и возвратом кредита в срок'''\n",
    "le = LabelEncoder()\n",
    "data['family_status_label'] = le.fit_transform(data['family_status'])\n",
    "xs = data['family_status_label']\n",
    "ys = data['debt'].apply( np.log )\n",
    "pd.DataFrame(np.array([xs,ys]).T).plot.scatter(0, 1, s=12, grid=True)\n",
    "plt.xlabel('семейное положение ')\n",
    "plt.ylabel('возврат кредита в срок')\n",
    "plt.show()\n",
    "\n",
    "sns.jointplot(x='family_status_label', y='debt', data=data, kind='scatter');"
   ]
  },
  {
   "cell_type": "code",
   "execution_count": 31,
   "id": "d24e392f",
   "metadata": {},
   "outputs": [
    {
     "name": "stdout",
     "output_type": "stream",
     "text": [
      "Корреляция Пирсона: -0.020181120162786788\n",
      "Ковариация: -0.007837357298858856\n"
     ]
    }
   ],
   "source": [
    "print('Корреляция Пирсона:', data['family_status_label'].corr(data['debt']))\n",
    "print('Ковариация:', data['family_status_label'].cov(data['debt']))"
   ]
  },
  {
   "cell_type": "markdown",
   "id": "a2b18ca5",
   "metadata": {
    "deletable": false,
    "id": "1cef7837"
   },
   "source": [
    "**Вывод:** Линейные связи отрицательные, возможно такие параметры будут ухудшать предсказания модели"
   ]
  },
  {
   "cell_type": "markdown",
   "id": "735330b5",
   "metadata": {},
   "source": [
    "<div class=\"alert-danger\"> \n",
    "<b>Комментарий ревьюера ❌</b> \n",
    "\n",
    "Выводы тоже стоит улучшить. Сейчас ты только говоришь, что есть линейные связи (или их нет), но что это говорит нам? Какая категория чаще становится должником, чем другая? Сейчас выводы не особо информативны"
   ]
  },
  {
   "cell_type": "markdown",
   "id": "cd25b0d4",
   "metadata": {},
   "source": [
    "<span style=\"color:blue\"> **Второй вариант решения**.</span>"
   ]
  },
  {
   "cell_type": "code",
   "execution_count": 32,
   "id": "08ed939d",
   "metadata": {},
   "outputs": [
    {
     "data": {
      "text/html": [
       "<div>\n",
       "<style scoped>\n",
       "    .dataframe tbody tr th:only-of-type {\n",
       "        vertical-align: middle;\n",
       "    }\n",
       "\n",
       "    .dataframe tbody tr th {\n",
       "        vertical-align: top;\n",
       "    }\n",
       "\n",
       "    .dataframe thead th {\n",
       "        text-align: right;\n",
       "    }\n",
       "</style>\n",
       "<table border=\"1\" class=\"dataframe\">\n",
       "  <thead>\n",
       "    <tr style=\"text-align: right;\">\n",
       "      <th>debt</th>\n",
       "      <th>0</th>\n",
       "      <th>1</th>\n",
       "    </tr>\n",
       "    <tr>\n",
       "      <th>family_status</th>\n",
       "      <th></th>\n",
       "      <th></th>\n",
       "    </tr>\n",
       "  </thead>\n",
       "  <tbody>\n",
       "    <tr>\n",
       "      <th>Не женат / не замужем</th>\n",
       "      <td>2523</td>\n",
       "      <td>273</td>\n",
       "    </tr>\n",
       "    <tr>\n",
       "      <th>в разводе</th>\n",
       "      <td>1105</td>\n",
       "      <td>84</td>\n",
       "    </tr>\n",
       "    <tr>\n",
       "      <th>вдовец / вдова</th>\n",
       "      <td>888</td>\n",
       "      <td>63</td>\n",
       "    </tr>\n",
       "    <tr>\n",
       "      <th>гражданский брак</th>\n",
       "      <td>3749</td>\n",
       "      <td>385</td>\n",
       "    </tr>\n",
       "    <tr>\n",
       "      <th>женат / замужем</th>\n",
       "      <td>11334</td>\n",
       "      <td>927</td>\n",
       "    </tr>\n",
       "  </tbody>\n",
       "</table>\n",
       "</div>"
      ],
      "text/plain": [
       "debt                       0    1\n",
       "family_status                    \n",
       "Не женат / не замужем   2523  273\n",
       "в разводе               1105   84\n",
       "вдовец / вдова           888   63\n",
       "гражданский брак        3749  385\n",
       "женат / замужем        11334  927"
      ]
     },
     "execution_count": 32,
     "metadata": {},
     "output_type": "execute_result"
    }
   ],
   "source": [
    "pd.crosstab(data['family_status'], data['debt'])"
   ]
  },
  {
   "cell_type": "code",
   "execution_count": 33,
   "id": "db6ee2f9",
   "metadata": {},
   "outputs": [
    {
     "data": {
      "image/png": "[encoded data removed]",
      "text/plain": [
       "<Figure size 432x288 with 1 Axes>"
      ]
     },
     "metadata": {
      "needs_background": "light"
     },
     "output_type": "display_data"
    }
   ],
   "source": [
    "sns.heatmap(pd.crosstab(data['family_status'], data['debt']), \n",
    "            cmap=\"YlGnBu\", annot=True, cbar=False);"
   ]
  },
  {
   "cell_type": "code",
   "execution_count": 34,
   "id": "9781c709",
   "metadata": {},
   "outputs": [
    {
     "data": {
      "text/plain": [
       "(27.784522630372297,\n",
       " 1.3792030784697729e-05,\n",
       " 4,\n",
       " array([[ 2568.97491913,   227.02508087],\n",
       "        [ 1092.45750316,    96.54249684],\n",
       "        [  873.78224181,    77.21775819],\n",
       "        [ 3798.33416155,   335.66583845],\n",
       "        [11265.45117435,   995.54882565]]))"
      ]
     },
     "execution_count": 34,
     "metadata": {},
     "output_type": "execute_result"
    }
   ],
   "source": [
    "chi2_contingency(pd.crosstab(data['family_status'], data['debt']))"
   ]
  },
  {
   "cell_type": "markdown",
   "id": "bff3c96d",
   "metadata": {},
   "source": [
    "<span style=\"color:blue\"> Статистика теста: хи-квадрат = 27.784, р-значение = 1.3792-05 степени свободы = 4. Поскольку p-значение (1.3792-05) теста меньше 0,05, мы можем сказать, что существует связь между семейным положением и возвратом кредита в срок.</span>"
   ]
  },
  {
   "cell_type": "code",
   "execution_count": 35,
   "id": "51a67af9",
   "metadata": {},
   "outputs": [
    {
     "data": {
      "text/html": [
       "<div>\n",
       "<style scoped>\n",
       "    .dataframe tbody tr th:only-of-type {\n",
       "        vertical-align: middle;\n",
       "    }\n",
       "\n",
       "    .dataframe tbody tr th {\n",
       "        vertical-align: top;\n",
       "    }\n",
       "\n",
       "    .dataframe thead th {\n",
       "        text-align: right;\n",
       "    }\n",
       "</style>\n",
       "<table border=\"1\" class=\"dataframe\">\n",
       "  <thead>\n",
       "    <tr style=\"text-align: right;\">\n",
       "      <th></th>\n",
       "      <th>Количество записей</th>\n",
       "      <th>Среднее</th>\n",
       "    </tr>\n",
       "    <tr>\n",
       "      <th>family_status</th>\n",
       "      <th></th>\n",
       "      <th></th>\n",
       "    </tr>\n",
       "  </thead>\n",
       "  <tbody>\n",
       "    <tr>\n",
       "      <th>женат / замужем</th>\n",
       "      <td>12261.0</td>\n",
       "      <td>7.56%</td>\n",
       "    </tr>\n",
       "    <tr>\n",
       "      <th>гражданский брак</th>\n",
       "      <td>4134.0</td>\n",
       "      <td>9.31%</td>\n",
       "    </tr>\n",
       "    <tr>\n",
       "      <th>Не женат / не замужем</th>\n",
       "      <td>2796.0</td>\n",
       "      <td>9.76%</td>\n",
       "    </tr>\n",
       "    <tr>\n",
       "      <th>в разводе</th>\n",
       "      <td>1189.0</td>\n",
       "      <td>7.06%</td>\n",
       "    </tr>\n",
       "    <tr>\n",
       "      <th>вдовец / вдова</th>\n",
       "      <td>951.0</td>\n",
       "      <td>6.62%</td>\n",
       "    </tr>\n",
       "  </tbody>\n",
       "</table>\n",
       "</div>"
      ],
      "text/plain": [
       "                       Количество записей Среднее\n",
       "family_status                                    \n",
       "женат / замужем                   12261.0   7.56%\n",
       "гражданский брак                   4134.0   9.31%\n",
       "Не женат / не замужем              2796.0   9.76%\n",
       "в разводе                          1189.0   7.06%\n",
       "вдовец / вдова                      951.0   6.62%"
      ]
     },
     "execution_count": 35,
     "metadata": {},
     "output_type": "execute_result"
    }
   ],
   "source": [
    "debt_from_family_status = data.pivot_table(index = ['family_status'], values='debt', aggfunc = ('mean', lambda i:\n",
    "                                                                       i.count()))\n",
    "\n",
    "def percent(x):\n",
    "    return \"{0:.2%}\".format(x)\n",
    "\n",
    "debt_from_family_status['mean'] = debt_from_family_status['mean'].apply(percent)\n",
    "debt_from_family_status = debt_from_family_status.rename(columns={\"<lambda_0>\": \"Количество записей\", \"mean\": \"Среднее\"})\n",
    "debt_from_family_status.sort_values(by='Количество записей', ascending=False)"
   ]
  },
  {
   "cell_type": "markdown",
   "id": "a91252fd",
   "metadata": {},
   "source": [
    "<span style=\"color:blue\"> **Вывод:** Люди не в браке и не бывавшие в браке имеют больший процент невозвратов в срок. Как видно из таблицы, вдовец/вдова самые отвественные из клиентов.</span>"
   ]
  },
  {
   "cell_type": "markdown",
   "id": "e4617a81",
   "metadata": {},
   "source": [
    "<div class=\"alert-success\"> \n",
    "<b>Комментарий ревьюера 👍 Вторая итерация </b>\n",
    "\n",
    "Выводы стали лучше"
   ]
  },
  {
   "cell_type": "markdown",
   "id": "61e4a1bb",
   "metadata": {
    "deletable": false,
    "editable": false,
    "id": "1e8b2fca"
   },
   "source": [
    "#### 3.3 Есть ли зависимость между уровнем дохода и возвратом кредита в срок?"
   ]
  },
  {
   "cell_type": "code",
   "execution_count": 36,
   "id": "b19cac97",
   "metadata": {
    "deletable": false,
    "id": "cd7e3720"
   },
   "outputs": [
    {
     "data": {
      "image/png": "[encoded data removed]",
      "text/plain": [
       "<Figure size 432x288 with 1 Axes>"
      ]
     },
     "metadata": {
      "needs_background": "light"
     },
     "output_type": "display_data"
    },
    {
     "data": {
      "image/png": "[encoded data removed]",
      "text/plain": [
       "<Figure size 432x432 with 3 Axes>"
      ]
     },
     "metadata": {
      "needs_background": "light"
     },
     "output_type": "display_data"
    }
   ],
   "source": [
    "'''Визуализация корреляции  между уровнем дохода и возвратом кредита в срок'''\n",
    "\n",
    "xs = data['total_income']\n",
    "ys = data['debt'].apply( np.log )\n",
    "pd.DataFrame(np.array([xs,ys]).T).plot.scatter(0, 1, s=12, grid=True)\n",
    "plt.xlabel('уровень дохода ')\n",
    "plt.ylabel('возврат кредита в срок')\n",
    "plt.show()\n",
    "\n",
    "sns.jointplot(x='debt', y='total_income', data=data, kind='scatter');"
   ]
  },
  {
   "cell_type": "code",
   "execution_count": 37,
   "id": "84670c0b",
   "metadata": {},
   "outputs": [
    {
     "name": "stdout",
     "output_type": "stream",
     "text": [
      "Корреляция Пирсона: -0.012671098818189926\n",
      "Ковариация: -340.2666981728374\n"
     ]
    }
   ],
   "source": [
    "print('Корреляция Пирсона:', data['total_income'].corr(data['debt']))\n",
    "print('Ковариация:', data['total_income'].cov(data['debt']))"
   ]
  },
  {
   "cell_type": "markdown",
   "id": "86cb49ff",
   "metadata": {
    "deletable": false,
    "id": "e8593def"
   },
   "source": [
    "**Вывод:** Линейные связи отрицательные, возможно такие параметры будут ухудшать предсказания модели"
   ]
  },
  {
   "cell_type": "markdown",
   "id": "072edf5b",
   "metadata": {},
   "source": [
    "<div class=\"alert-danger\"> \n",
    "<b>Комментарий ревьюера ❌</b> \n",
    "\n",
    "То же самое касается графиков - каждый первый график в пунктах непонятно что отображает. Уровень дохода - 1, 1.5, 2. О чем это говорит? Возвраты кредита у всех по нулям, и так в каждом пункте"
   ]
  },
  {
   "cell_type": "markdown",
   "id": "38d8226b",
   "metadata": {},
   "source": [
    "<span style=\"color:blue\"> **Второй вариант решения**.</span>"
   ]
  },
  {
   "cell_type": "code",
   "execution_count": 38,
   "id": "15958e40",
   "metadata": {},
   "outputs": [
    {
     "name": "stderr",
     "output_type": "stream",
     "text": [
      "/opt/conda/lib/python3.9/site-packages/seaborn/_decorators.py:36: FutureWarning: Pass the following variable as a keyword arg: x. From version 0.12, the only valid positional argument will be `data`, and passing other arguments without an explicit keyword will result in an error or misinterpretation.\n",
      "  warnings.warn(\n"
     ]
    },
    {
     "data": {
      "image/png": "[encoded data removed]",
      "text/plain": [
       "<Figure size 432x288 with 1 Axes>"
      ]
     },
     "metadata": {
      "needs_background": "light"
     },
     "output_type": "display_data"
    }
   ],
   "source": [
    "sns.boxplot(data['total_income']);"
   ]
  },
  {
   "cell_type": "code",
   "execution_count": 39,
   "id": "bb3d88a1",
   "metadata": {},
   "outputs": [
    {
     "data": {
      "image/png": "[encoded data removed]",
      "text/plain": [
       "<Figure size 648x432 with 1 Axes>"
      ]
     },
     "metadata": {
      "needs_background": "light"
     },
     "output_type": "display_data"
    }
   ],
   "source": [
    "fig, ax = plt.subplots(figsize=(9, 6))\n",
    "ax.set_title('Распределение зарплат', fontsize=15)\n",
    "sns.histplot(data.total_income,\n",
    "             bins=30,\n",
    "             ax=ax, \n",
    "             color='green',\n",
    "             edgecolor='darkgreen');"
   ]
  },
  {
   "cell_type": "markdown",
   "id": "0ddfdb54",
   "metadata": {},
   "source": [
    "<span style=\"color:blue\"> Сейчас сложно сказать есть ли тут выбросы, скорее всего последние две точки точно, но уже понятен разброс зарплат. Этот коментарий к гипотизе о среднем значении при дальнейшем использовании датасета</span>"
   ]
  },
  {
   "cell_type": "code",
   "execution_count": 40,
   "id": "27facc65",
   "metadata": {},
   "outputs": [
    {
     "data": {
      "text/html": [
       "<div>\n",
       "<style scoped>\n",
       "    .dataframe tbody tr th:only-of-type {\n",
       "        vertical-align: middle;\n",
       "    }\n",
       "\n",
       "    .dataframe tbody tr th {\n",
       "        vertical-align: top;\n",
       "    }\n",
       "\n",
       "    .dataframe thead th {\n",
       "        text-align: right;\n",
       "    }\n",
       "</style>\n",
       "<table border=\"1\" class=\"dataframe\">\n",
       "  <thead>\n",
       "    <tr style=\"text-align: right;\">\n",
       "      <th></th>\n",
       "      <th>Количество записей</th>\n",
       "      <th>Среднее по задолжностям</th>\n",
       "    </tr>\n",
       "    <tr>\n",
       "      <th>total_income_id</th>\n",
       "      <th></th>\n",
       "      <th></th>\n",
       "    </tr>\n",
       "  </thead>\n",
       "  <tbody>\n",
       "    <tr>\n",
       "      <th>выше среднего</th>\n",
       "      <td>6914.0</td>\n",
       "      <td>8.72%</td>\n",
       "    </tr>\n",
       "    <tr>\n",
       "      <th>очень высокий</th>\n",
       "      <td>5336.0</td>\n",
       "      <td>7.14%</td>\n",
       "    </tr>\n",
       "    <tr>\n",
       "      <th>средний</th>\n",
       "      <td>4304.0</td>\n",
       "      <td>8.32%</td>\n",
       "    </tr>\n",
       "    <tr>\n",
       "      <th>высокий</th>\n",
       "      <td>3741.0</td>\n",
       "      <td>8.58%</td>\n",
       "    </tr>\n",
       "    <tr>\n",
       "      <th>низкий</th>\n",
       "      <td>1036.0</td>\n",
       "      <td>6.66%</td>\n",
       "    </tr>\n",
       "  </tbody>\n",
       "</table>\n",
       "</div>"
      ],
      "text/plain": [
       "                 Количество записей Среднее по задолжностям\n",
       "total_income_id                                            \n",
       "выше среднего                6914.0                   8.72%\n",
       "очень высокий                5336.0                   7.14%\n",
       "средний                      4304.0                   8.32%\n",
       "высокий                      3741.0                   8.58%\n",
       "низкий                       1036.0                   6.66%"
      ]
     },
     "execution_count": 40,
     "metadata": {},
     "output_type": "execute_result"
    }
   ],
   "source": [
    "def replace_income(total_income):\n",
    "    if total_income >= 20667 and total_income <= 64145:\n",
    "        return 'низкий'\n",
    "    if total_income > 64145 and total_income <= 107623:\n",
    "        return 'средний'\n",
    "    if total_income > 107623 and total_income <= 156044:\n",
    "        return 'выше среднего'\n",
    "    if total_income > 156044 and total_income <= 195813:\n",
    "        return 'высокий'\n",
    "    if total_income > 195813:\n",
    "        return 'очень высокий'\n",
    "    \n",
    "data['total_income_id'] = data['total_income'].apply(replace_income)\n",
    "\n",
    "income = data.pivot_table(index = 'total_income_id', values='debt', aggfunc = ('mean', lambda X:\n",
    "                                                                       X.count()))\n",
    "def percent(x):\n",
    "    return \"{0:.2%}\".format(x)\n",
    "\n",
    "income['mean'] = income['mean'].apply(percent)\n",
    "income = income.rename(columns={\"<lambda_0>\": \"Количество записей\", \"mean\": \"Среднее по задолжностям\"})\n",
    "income.sort_values(by='Количество записей', ascending=False)"
   ]
  },
  {
   "cell_type": "markdown",
   "id": "7aefc7b0",
   "metadata": {},
   "source": [
    "<span style=\"color:blue\"> **Вывод:** Зависимости между уровнем дохода и возвратом кредита в срок нет!.</span>"
   ]
  },
  {
   "cell_type": "markdown",
   "id": "ace67a3b",
   "metadata": {
    "deletable": false,
    "editable": false,
    "id": "99ecbd1f"
   },
   "source": [
    "#### 3.4 Как разные цели кредита влияют на его возврат в срок?"
   ]
  },
  {
   "cell_type": "code",
   "execution_count": 41,
   "id": "de8f1be8",
   "metadata": {
    "deletable": false,
    "id": "2b687290"
   },
   "outputs": [
    {
     "data": {
      "image/png": "[encoded data removed]",
      "text/plain": [
       "<Figure size 432x288 with 1 Axes>"
      ]
     },
     "metadata": {
      "needs_background": "light"
     },
     "output_type": "display_data"
    },
    {
     "data": {
      "image/png": "[encoded data removed]",
      "text/plain": [
       "<Figure size 432x432 with 3 Axes>"
      ]
     },
     "metadata": {
      "needs_background": "light"
     },
     "output_type": "display_data"
    }
   ],
   "source": [
    "'''Визуализация корреляции  целями кредита и возвратом кредита в срок'''\n",
    "le = LabelEncoder()\n",
    "data['purpose_label'] = le.fit_transform(data['purpose'])\n",
    "xs = data['purpose_label']\n",
    "ys = data['debt'].apply( np.log )\n",
    "pd.DataFrame(np.array([xs,ys]).T).plot.scatter(0, 1, s=12, grid=True)\n",
    "plt.xlabel('цели кредита')\n",
    "plt.ylabel('возврат кредита в срок')\n",
    "plt.show()\n",
    "\n",
    "sns.jointplot(x='purpose_label', y='debt', data=data, kind='scatter');"
   ]
  },
  {
   "cell_type": "code",
   "execution_count": 42,
   "id": "b9e9c0b9",
   "metadata": {},
   "outputs": [
    {
     "name": "stdout",
     "output_type": "stream",
     "text": [
      "Корреляция Пирсона: 0.0014427971518219777\n",
      "Ковариация: 0.004263480558692404\n"
     ]
    }
   ],
   "source": [
    "print('Корреляция Пирсона:', data['purpose_label'].corr(data['debt']))\n",
    "print('Ковариация:', data['purpose_label'].cov(data['debt']))"
   ]
  },
  {
   "cell_type": "markdown",
   "id": "41f91126",
   "metadata": {
    "deletable": false,
    "id": "b4bb2ce6"
   },
   "source": [
    "**Вывод:**  Корреляция Пирсона говорит нам, что линейные связи почти отсутвуют, возможны не линейные!"
   ]
  },
  {
   "cell_type": "markdown",
   "id": "8434dacd",
   "metadata": {},
   "source": [
    "<span style=\"color:blue\"> **Второй вариант решения**.</span>"
   ]
  },
  {
   "cell_type": "code",
   "execution_count": 43,
   "id": "e95c8d2e",
   "metadata": {},
   "outputs": [
    {
     "data": {
      "text/html": [
       "<div>\n",
       "<style scoped>\n",
       "    .dataframe tbody tr th:only-of-type {\n",
       "        vertical-align: middle;\n",
       "    }\n",
       "\n",
       "    .dataframe tbody tr th {\n",
       "        vertical-align: top;\n",
       "    }\n",
       "\n",
       "    .dataframe thead th {\n",
       "        text-align: right;\n",
       "    }\n",
       "</style>\n",
       "<table border=\"1\" class=\"dataframe\">\n",
       "  <thead>\n",
       "    <tr style=\"text-align: right;\">\n",
       "      <th></th>\n",
       "      <th>Количество записей</th>\n",
       "      <th>Среднее по задолжностям</th>\n",
       "    </tr>\n",
       "    <tr>\n",
       "      <th>purpose_category</th>\n",
       "      <th></th>\n",
       "      <th></th>\n",
       "    </tr>\n",
       "  </thead>\n",
       "  <tbody>\n",
       "    <tr>\n",
       "      <th>операции с недвижимостью</th>\n",
       "      <td>10751.0</td>\n",
       "      <td>7.26%</td>\n",
       "    </tr>\n",
       "    <tr>\n",
       "      <th>операции с автомобилем</th>\n",
       "      <td>4279.0</td>\n",
       "      <td>9.35%</td>\n",
       "    </tr>\n",
       "    <tr>\n",
       "      <th>получение образования</th>\n",
       "      <td>3988.0</td>\n",
       "      <td>9.25%</td>\n",
       "    </tr>\n",
       "    <tr>\n",
       "      <th>проведение свадьбы</th>\n",
       "      <td>2313.0</td>\n",
       "      <td>7.91%</td>\n",
       "    </tr>\n",
       "  </tbody>\n",
       "</table>\n",
       "</div>"
      ],
      "text/plain": [
       "                          Количество записей Среднее по задолжностям\n",
       "purpose_category                                                    \n",
       "операции с недвижимостью             10751.0                   7.26%\n",
       "операции с автомобилем                4279.0                   9.35%\n",
       "получение образования                 3988.0                   9.25%\n",
       "проведение свадьбы                    2313.0                   7.91%"
      ]
     },
     "execution_count": 43,
     "metadata": {},
     "output_type": "execute_result"
    }
   ],
   "source": [
    "purpose_category = data.pivot_table(index = ['purpose_category'], values='debt', aggfunc = ('mean', lambda X:\n",
    "                                                                       X.count()))\n",
    "def percent(x):\n",
    "    return \"{0:.2%}\".format(x)\n",
    "\n",
    "purpose_category['mean'] = purpose_category['mean'].apply(percent)\n",
    "purpose_category = purpose_category.rename(columns={\"<lambda_0>\": \"Количество записей\", \"mean\": \"Среднее по задолжностям\"})\n",
    "purpose_category.sort_values(by='Количество записей', ascending=False)"
   ]
  },
  {
   "cell_type": "code",
   "execution_count": 44,
   "id": "d6e71f9d",
   "metadata": {},
   "outputs": [
    {
     "data": {
      "image/png": "[encoded data removed]",
      "text/plain": [
       "<Figure size 936x648 with 1 Axes>"
      ]
     },
     "metadata": {
      "needs_background": "light"
     },
     "output_type": "display_data"
    }
   ],
   "source": [
    "fig, ax = plt.subplots(figsize=(13, 9))\n",
    "ax.set_title('Распределение целей кредита', fontsize=15)\n",
    "sns.histplot(data.purpose_category,\n",
    "             bins=30,\n",
    "             ax=ax, \n",
    "             color='green',\n",
    "             edgecolor='darkgreen', binwidth=0.05);"
   ]
  },
  {
   "cell_type": "markdown",
   "id": "65f36540",
   "metadata": {},
   "source": [
    "<span style=\"color:blue\"> **Вывод:** Так 4 наших категорий, чаще всего платят в срок с целью кредита недвижимость, чаще просрочка у тех кому нужен кредит на авто и образование. Кредиты на свадьбу просрачивают реже .</span>"
   ]
  },
  {
   "cell_type": "markdown",
   "id": "f807d290",
   "metadata": {},
   "source": [
    "<div class=\"alert-success\"> \n",
    "<b>Комментарий ревьюера 👍 Вторая итерация </b>\n",
    "\n",
    "Абсолютные значения не очень информативны. Мы делаем выводы по относительным, проценты/доли\n",
    "\n",
    "Привожу оптимальный код для построения информативного графика:"
   ]
  },
  {
   "cell_type": "code",
   "execution_count": 46,
   "id": "6c629238",
   "metadata": {},
   "outputs": [
    {
     "data": {
      "image/png": "[encoded data removed]",
      "text/plain": [
       "<Figure size 864x432 with 1 Axes>"
      ]
     },
     "metadata": {
      "needs_background": "light"
     },
     "output_type": "display_data"
    }
   ],
   "source": [
    "# Код ревьюера\n",
    "\n",
    "import matplotlib.pyplot as plt\n",
    "\n",
    "# группируем данные по цели кредита ('purpose_category'), затем применяем агрегирующие функции к столбцу 'debt'\n",
    "grouped_data = data.groupby('purpose_category')['debt'].agg(['count', 'mean', 'sum'])\n",
    "# функция reset_index используется для преобразования индекса в столбец данных\n",
    "grouped_data.reset_index(inplace=True)\n",
    "# задаем размер графика\n",
    "plt.figure(figsize=(12, 6))  \n",
    "# используем график к таблице, выбираем интересующие нас столбцы (проценты по одной оси и цель кредита по другой)\n",
    "plt.bar(grouped_data['purpose_category'], grouped_data['mean']*100) # умножаем на 100, чтобы перевести в проценты\n",
    "# подписываем\n",
    "plt.title(\"Влияние цели кредита на процент просроченных кредитов\")\n",
    "plt.xlabel(\"Цель кредита у клиента\")\n",
    "plt.ylabel(\"Просрочено платежей, %\")\n",
    "plt.xticks(grouped_data['purpose_category'])\n",
    "plt.show()"
   ]
  },
  {
   "cell_type": "markdown",
   "id": "bc3e4e0a",
   "metadata": {},
   "source": [
    "**Из диаграммы кореляции видно все зависимости**"
   ]
  },
  {
   "cell_type": "code",
   "execution_count": 47,
   "id": "a897eb55",
   "metadata": {},
   "outputs": [
    {
     "data": {
      "image/png": "[encoded data removed]",
      "text/plain": [
       "<Figure size 960x800 with 2 Axes>"
      ]
     },
     "metadata": {
      "needs_background": "light"
     },
     "output_type": "display_data"
    }
   ],
   "source": [
    "df = data.select_dtypes(include=[np.number])\n",
    "\n",
    "plt.figure(figsize=(12,10), dpi= 80)\n",
    "sns.heatmap(df.corr(), xticklabels=df.corr().columns, yticklabels=df.corr().columns, cmap='RdYlGn', center=0, annot=True)\n",
    "\n",
    "# Decorations\n",
    "plt.title('Correlogram of mtcars', fontsize=22)\n",
    "plt.xticks(fontsize=12)\n",
    "plt.yticks(fontsize=12)\n",
    "plt.show()"
   ]
  },
  {
   "cell_type": "markdown",
   "id": "b2e92016",
   "metadata": {},
   "source": [
    "**Вывод** понять взаимосвязь между всеми возможными парами числовых переменных в двумерном анализе возможно таким образом"
   ]
  },
  {
   "cell_type": "code",
   "execution_count": 46,
   "id": "3ae0fd9c",
   "metadata": {},
   "outputs": [
    {
     "data": {
      "text/plain": [
       "<Figure size 800x640 with 0 Axes>"
      ]
     },
     "metadata": {},
     "output_type": "display_data"
    },
    {
     "data": {
      "image/png": "[encoded data removed]",
      "text/plain": [
       "<Figure size 1620x1620 with 90 Axes>"
      ]
     },
     "metadata": {
      "needs_background": "light"
     },
     "output_type": "display_data"
    }
   ],
   "source": [
    "plt.figure(figsize=(10,8), dpi= 80)\n",
    "sns.pairplot(df, kind=\"reg\")\n",
    "plt.show()"
   ]
  },
  {
   "cell_type": "markdown",
   "id": "34e60cd4",
   "metadata": {
    "deletable": false,
    "editable": false,
    "id": "09c3ac4c"
   },
   "source": [
    "#### 3.5 Приведите возможные причины появления пропусков в исходных данных."
   ]
  },
  {
   "cell_type": "markdown",
   "id": "62181467",
   "metadata": {
    "deletable": false,
    "id": "9da2ceda"
   },
   "source": [
    "*Ответ:* Ошибки ввода данных, сокрытие информации, фрод"
   ]
  },
  {
   "cell_type": "markdown",
   "id": "f7baaba5",
   "metadata": {},
   "source": [
    "<div class=\"alert-warning\"> \n",
    "<b>Комментарий ревьюера 💡</b> \n",
    "    \n",
    "Согласен с названными тобою возможными причинами пропусков, но можно расписать это подробнее. Например, что конкретно подразумевается под фродом?"
   ]
  },
  {
   "cell_type": "markdown",
   "id": "d27f08b1",
   "metadata": {},
   "source": [
    "<span style=\"color:blue\"> **Второй вариант решения**.</span>"
   ]
  },
  {
   "cell_type": "markdown",
   "id": "4f35434a",
   "metadata": {},
   "source": [
    "<span style=\"color:blue\"> **Вывод:** Фрод — это мошенничество в банковской сфере. Пропуски бывают: Полностью случайные,Такие пропуски возникают, например, если измерительный прибор неисправен и случайным образом не записал часть наблюдений. Случайные пропуски, вероятность появления пропуска зависит от некоторой известной нам переменной. Например, отсутствие ответа на определенный вопрос анкеты может зависеть от возраста респондента. Неслучайные пропуски вероятность появления пропуска зависит, в том числе, от фактора, о котором мы ничего не знаем. Например, у весов может быть верхний предел измерения и любой образец выше этого предела автоматически не записывается. </span>"
   ]
  },
  {
   "cell_type": "markdown",
   "id": "ab818316",
   "metadata": {},
   "source": [
    "<div class=\"alert-success\"> \n",
    "<b>Комментарий ревьюера 👍 Вторая итерация </b>\n",
    "\n",
    "Стало подробнее. \" Фрод — это мошенничество в банковской сфере\" - я имел в виду вопрос, какой конкретно фрод в данном случае"
   ]
  },
  {
   "cell_type": "markdown",
   "id": "aa119324",
   "metadata": {},
   "source": [
    "<span style=\"color:blue\"> **Третий вариант решения**.</span>"
   ]
  },
  {
   "cell_type": "markdown",
   "id": "6648bca2",
   "metadata": {},
   "source": [
    "<span style=\"color:blue\"> **Вывод:** Хищение денежных средств заемщиком путем представления банку или иному кредитору заведомо ложных и (или) недостоверных сведений. Завышение доходов, обман в статусе заемщика.</span>"
   ]
  },
  {
   "cell_type": "markdown",
   "id": "0051a818",
   "metadata": {
    "deletable": false,
    "editable": false,
    "id": "7b0487d6"
   },
   "source": [
    "#### 3.6 Объясните, почему заполнить пропуски медианным значением — лучшее решение для количественных переменных."
   ]
  },
  {
   "cell_type": "markdown",
   "id": "ca99e93e",
   "metadata": {
    "deletable": false,
    "id": "7ecf2b8e"
   },
   "source": [
    "*Ответ:* Медиана более стабильная характеристика, так как на нее не влияют случайные выбросы и шум. Если данные имеют нормальное распределение и их количество велико, то медиана будет равняться среднему значению."
   ]
  },
  {
   "cell_type": "markdown",
   "id": "f51bc040",
   "metadata": {},
   "source": [
    "<div class=\"alert-success\"> \n",
    "<b>Комментарий ревьюера 👍 </b>\n",
    "    \n",
    "Дело именно в том, что среднее сильно реагирует на выбросы, тем самым искажая наши данные, в отличие от медианы"
   ]
  },
  {
   "cell_type": "markdown",
   "id": "26bacd8a",
   "metadata": {
    "deletable": false,
    "editable": false,
    "id": "6db5255a"
   },
   "source": [
    "### Шаг 4: общий вывод."
   ]
  },
  {
   "cell_type": "markdown",
   "id": "295d060b",
   "metadata": {
    "deletable": false,
    "id": "bad65432"
   },
   "source": [
    "Изученые переменные слабо коррелируют. Корреляция Пирсона измеряет лишь линейные связи. Между переменными может существовать еще некая нелинейная связь."
   ]
  },
  {
   "cell_type": "markdown",
   "id": "72a9cac2",
   "metadata": {},
   "source": [
    "<div class=\"alert-danger\"> \n",
    "<b>Комментарий ревьюера ❌</b> \n",
    "    \n",
    "Нужно расширить вывод. Заказчик, зачастую, читает только общий вывод исследования - поэтому он должен быть максимально информативным и иметь итоги и рекомендации. Можно написать, с какими данными была проведена работа, что было сделано тобоею в проекте. Также стоит пройтись по каждой характеристике (кол-во детей, уровень дохода и т.д.), расписать, какие там были зависимости найдены, кто там главные должники. Можно составить портреты идеального и нежелательного клиентов. Представь, что ты готовишь какие-то рекомендации бизнесу, поэтому презентовать им несколько предложений - не лучший вариант.\n",
    "    \n",
    "Что можно и нужно добавить:\n",
    "1. Написать, с какими данными была проведена работа, что было тобою сделано в проекте\n",
    "2. Зависимости по каждой характеристике (кол-во детей, уровень дохода и т.д.)\n",
    "3. Портреты идеального и нежелательного клиентов\n",
    "4. Итоговые рекомендации для заказчика по сбору данных и скорингу"
   ]
  },
  {
   "cell_type": "markdown",
   "id": "47ac9962",
   "metadata": {},
   "source": [
    "<div class=\"alert-danger\"> \n",
    "<b>Комментарий ревьюера ❌</b>\n",
    "    \n",
    "Тобою проделана большая работа, ты молодец!\n",
    "\n",
    "Сперва похвалю за наличие везде промежуточных выводов, комментариев. Показываешь хорошие навыки владения инструментами Питона. Даны в целом верные ответы на поставленные вопросы.\n",
    "    \n",
    "Что обязательно стоит доработать: расширить общий вывод, добавить сводные таблицы, улучшить выводы и графики. Также желательно поработать над желтыми комментариями. По визуализации могу посоветовать следующие материалы: 1. https://github.com/esokolov/ml-course-hse/blob/master/2022-fall/seminars/sem02-charts.ipynb 2. https://github.com/Palladain/Deep_Python/blob/main/Lectures/Lecture_3/Lecture_3_Python.ipynb\n",
    "    \n",
    "Буду ждать доработок :) Удачи!"
   ]
  },
  {
   "cell_type": "markdown",
   "id": "cacda0da",
   "metadata": {},
   "source": [
    "<span style=\"color:blue\"> **Второй вариант решения**.</span>"
   ]
  },
  {
   "cell_type": "markdown",
   "id": "f330fe5c",
   "metadata": {},
   "source": [
    "<span style=\"color:blue\">Все категории имеют зависимость с выплатой кредита в срок.</span> \n",
    "\n",
    " 1. Семейное положение - 32,6% \n",
    " 2. Уровень дохода - 28,2%\n",
    " 3. Количество детей в семье - 23.1%\n",
    " 4. Цели на кредит - 22.8%\n",
    "  \n",
    "<span style=\"color:blue\">Общий вывод - семейный статус влияет на вероятность платежей по кредиту в срок - люди, бывший в браке чаще плятят в срок чем те, кто не бывали в браке, причем разведенные и овдовевшие платят в срок чаще, чем люди в браке. Чем больше детей, тем чаще платят не в срок, бездетные реже просрачивают оплату.</span>"
   ]
  },
  {
   "cell_type": "markdown",
   "id": "5ee77dd7",
   "metadata": {},
   "source": [
    "<div class=\"alert-danger\"> \n",
    "<b>Комментарий ревьюера ❌ Вторая итерация </b> \n",
    "    \n",
    "Вывод все еще нужно расширить.\n",
    "    \n",
    "Здорово, что есть формулировки зависимостей, но вот что еще можно и нужно добавить:\n",
    "1. Написать, с какими данными была проведена работа, что было тобою сделано в проекте\n",
    "2. Портреты идеального и нежелательного клиентов\n",
    "3. Итоговые рекомендации для заказчика по сбору данных и скорингу"
   ]
  },
  {
   "cell_type": "markdown",
   "id": "f4bdb077",
   "metadata": {},
   "source": [
    "<div class=\"alert-danger\"> \n",
    "<b>Комментарий ревьюера ❌ Вторая итерация </b> \n",
    "    \n",
    "    \n",
    "Осталось доработать общий вывод"
   ]
  },
  {
   "cell_type": "markdown",
   "id": "141794d6",
   "metadata": {},
   "source": [
    "<span style=\"color:blue\"> **Треий вариант решения**.</span>"
   ]
  },
  {
   "cell_type": "markdown",
   "id": "44f22634",
   "metadata": {},
   "source": [
    "<span style=\"color:blue\"> **Вывод**: Входные данные от банка — статистика о платёжеспособности клиентов. Результаты исследования будут учтены при построении модели кредитного скоринга — специальной системы, которая оценивает способность потенциального заёмщика вернуть кредит банку.</span>"
   ]
  },
  {
   "cell_type": "markdown",
   "id": "753d3117",
   "metadata": {},
   "source": [
    "<span style=\"color:blue\"> \n",
    "    Сделана предобработка данных: \n",
    "    1. Замена типов данных для анализа\n",
    "    2. Обработка дубликатов\n",
    "    3. Лемматизация целей\n",
    "    4.  Категоризация данных\n",
    "    5. Определение зависимостей\n",
    "</span>"
   ]
  },
  {
   "cell_type": "markdown",
   "id": "84794414",
   "metadata": {},
   "source": [
    "<span style=\"color:blue\">\n",
    "    1. Колонка children - Идеальным клиентом считается: Взрослая семья с 5-ю детьми. Худшим клиентом является: Молодая семья  с (4+) - детьми. Разница между минимальным и максимальным средними значениями равна 64%.\n",
    "   </span>"
   ]
  },
  {
   "cell_type": "markdown",
   "id": "a80eb162",
   "metadata": {},
   "source": [
    "<span style=\"color:blue\">\n",
    "    2. Колонка family_status - Идеальным клиентом считается: Врозслый человек в разводе. Худшим клиентом является: Молодые люди в разводе. Разница между минимальным и максимальным средними значениями равна 56,6%.\n",
    "    </span>"
   ]
  },
  {
   "cell_type": "markdown",
   "id": "d0214f94",
   "metadata": {},
   "source": [
    "<span style=\"color:blue\">\n",
    "    3. Колонка total_income - Идеальным клиентом считается: Врозслый человек c низким доходом. Худшим клиентом является: Молодые люди с доходом выше среднего. Разница между минимальным и максимальным средними значениями равна 52%.\n",
    "</span>"
   ]
  },
  {
   "cell_type": "markdown",
   "id": "8da2c8a6",
   "metadata": {},
   "source": [
    "<span style=\"color:blue\">\n",
    "    4. Колонка purpose - Идеальным клиентом считается: Врозслый человек c целью покупки недвижимости. Худшим клиентом является: Молодые люди с целью образование. Разница между минимальным и максимальным средними значениями равна 48,4%. Исходя из этого анализа большую зависимость имеет Категория - children.\n",
    "</span>"
   ]
  },
  {
   "cell_type": "markdown",
   "id": "8f6f7194",
   "metadata": {},
   "source": [
    "<span style=\"color:blue\">В целом, бездетные семья реже допускает задержки в платежах по кредиту, % должников держится на уровне 7.54%, но данные не однозначные, возможно, нужна большая выборка, чем та, которую мы имеем. У группы клиентов, которые находятся или когда-либо находились в браке % должников на уровне 7% - это ниже на 2.1% ниже, чем у людей никогда не состоявших в официальном браке. Уровень дохода напрямую коррелирует с возвратом кредита в срок - в зоне риска по просрочке платежа люди со средним заработком.\n",
    "Чаще всего возвращают в срок кредиты на собственное жилье, а больше всего задержек по кредитам на автомобили и образование. У групп клиентов, целью кредита у которых является автомобиль и образование: 9.3% должников (на 1.2% выше среднего).\n",
    "Резюмируя можно сказать, что разброс значений по просроченным платежам не превышает двух процентов (от 7 до 9%), что означает разницу в вероятности просрочки платежа на 20%.</span>"
   ]
  },
  {
   "cell_type": "markdown",
   "id": "f631ecae",
   "metadata": {},
   "source": [
    "<div class=\"alert-success\"> \n",
    "<b>Комментарий ревьюера 👍 Третья итерация </b>\n",
    "\n",
    "Вывод стал информативнее и подробнее"
   ]
  },
  {
   "cell_type": "markdown",
   "id": "44df5e25",
   "metadata": {},
   "source": [
    "<div class=\"alert-success\"> \n",
    "<b>Комментарий ревьюера 👍 Третья итерация </b>\n",
    "\n",
    "Все критические ошибки исправлены, проект стал еще лучше, принимаю. Успехов в дальнейшей учебе!"
   ]
  }
 ],
 "metadata": {
  "ExecuteTimeLog": [
   {
    "duration": 499,
    "start_time": "2024-04-17T12:05:55.191Z"
   },
   {
    "duration": 25,
    "start_time": "2024-04-17T12:05:58.790Z"
   },
   {
    "duration": 17,
    "start_time": "2024-04-17T12:06:00.855Z"
   },
   {
    "duration": 12,
    "start_time": "2024-04-17T12:06:03.182Z"
   },
   {
    "duration": 40,
    "start_time": "2024-04-17T12:06:06.218Z"
   },
   {
    "duration": 4,
    "start_time": "2024-04-17T12:06:07.204Z"
   },
   {
    "duration": 7,
    "start_time": "2024-04-17T12:06:08.353Z"
   },
   {
    "duration": 5,
    "start_time": "2024-04-17T12:06:09.820Z"
   },
   {
    "duration": 7,
    "start_time": "2024-04-17T12:06:10.892Z"
   },
   {
    "duration": 5,
    "start_time": "2024-04-17T12:06:11.870Z"
   },
   {
    "duration": 40,
    "start_time": "2024-04-17T12:06:19.785Z"
   },
   {
    "duration": 11,
    "start_time": "2024-04-17T12:06:24.767Z"
   },
   {
    "duration": 5,
    "start_time": "2024-04-17T12:06:26.345Z"
   },
   {
    "duration": 13,
    "start_time": "2024-04-17T12:06:27.331Z"
   },
   {
    "duration": 21,
    "start_time": "2024-04-17T12:06:27.997Z"
   },
   {
    "duration": 19,
    "start_time": "2024-04-17T12:06:28.335Z"
   },
   {
    "duration": 5,
    "start_time": "2024-04-17T12:06:29.769Z"
   },
   {
    "duration": 13,
    "start_time": "2024-04-17T12:06:31.217Z"
   },
   {
    "duration": 6,
    "start_time": "2024-04-17T12:06:32.171Z"
   },
   {
    "duration": 4,
    "start_time": "2024-04-17T12:06:33.292Z"
   },
   {
    "duration": 8,
    "start_time": "2024-04-17T12:06:33.636Z"
   },
   {
    "duration": 3,
    "start_time": "2024-04-17T12:06:34.963Z"
   },
   {
    "duration": 13,
    "start_time": "2024-04-17T12:07:00.230Z"
   },
   {
    "duration": 486,
    "start_time": "2024-04-17T12:11:02.133Z"
   },
   {
    "duration": 9,
    "start_time": "2024-04-17T12:16:58.310Z"
   },
   {
    "duration": 9,
    "start_time": "2024-04-17T12:17:10.310Z"
   },
   {
    "duration": 94,
    "start_time": "2024-04-17T12:17:16.546Z"
   },
   {
    "duration": 18,
    "start_time": "2024-04-17T12:17:17.550Z"
   },
   {
    "duration": 18,
    "start_time": "2024-04-17T12:17:18.391Z"
   },
   {
    "duration": 10,
    "start_time": "2024-04-17T12:17:19.624Z"
   },
   {
    "duration": 41,
    "start_time": "2024-04-17T12:17:20.158Z"
   },
   {
    "duration": 4,
    "start_time": "2024-04-17T12:17:20.962Z"
   },
   {
    "duration": 10,
    "start_time": "2024-04-17T12:17:21.456Z"
   },
   {
    "duration": 5,
    "start_time": "2024-04-17T12:17:22.333Z"
   },
   {
    "duration": 6,
    "start_time": "2024-04-17T12:17:22.846Z"
   },
   {
    "duration": 6,
    "start_time": "2024-04-17T12:17:23.376Z"
   },
   {
    "duration": 39,
    "start_time": "2024-04-17T12:17:24.426Z"
   },
   {
    "duration": 12,
    "start_time": "2024-04-17T12:17:25.026Z"
   },
   {
    "duration": 3,
    "start_time": "2024-04-17T12:17:26.239Z"
   },
   {
    "duration": 14,
    "start_time": "2024-04-17T12:17:27.211Z"
   },
   {
    "duration": 20,
    "start_time": "2024-04-17T12:17:27.802Z"
   },
   {
    "duration": 19,
    "start_time": "2024-04-17T12:17:28.104Z"
   },
   {
    "duration": 4,
    "start_time": "2024-04-17T12:17:28.938Z"
   },
   {
    "duration": 15,
    "start_time": "2024-04-17T12:17:29.242Z"
   },
   {
    "duration": 6,
    "start_time": "2024-04-17T12:17:29.823Z"
   },
   {
    "duration": 6,
    "start_time": "2024-04-17T12:17:30.580Z"
   },
   {
    "duration": 15,
    "start_time": "2024-04-17T12:17:30.903Z"
   },
   {
    "duration": 3,
    "start_time": "2024-04-17T12:17:31.942Z"
   },
   {
    "duration": 8,
    "start_time": "2024-04-17T12:17:32.706Z"
   },
   {
    "duration": 2,
    "start_time": "2024-04-17T12:17:51.131Z"
   },
   {
    "duration": 176,
    "start_time": "2024-04-17T12:17:51.621Z"
   },
   {
    "duration": 151,
    "start_time": "2024-04-17T12:18:09.592Z"
   },
   {
    "duration": 157,
    "start_time": "2024-04-17T12:18:39.876Z"
   },
   {
    "duration": 222,
    "start_time": "2024-04-17T12:18:53.758Z"
   },
   {
    "duration": 173,
    "start_time": "2024-04-17T12:19:11.513Z"
   },
   {
    "duration": 6,
    "start_time": "2024-04-17T12:21:08.906Z"
   },
   {
    "duration": 5,
    "start_time": "2024-04-17T12:24:39.522Z"
   },
   {
    "duration": 5,
    "start_time": "2024-04-17T12:26:13.711Z"
   },
   {
    "duration": 184,
    "start_time": "2024-04-17T12:28:21.478Z"
   },
   {
    "duration": 5,
    "start_time": "2024-04-17T12:28:34.554Z"
   },
   {
    "duration": 746,
    "start_time": "2024-04-17T12:32:28.831Z"
   },
   {
    "duration": 47,
    "start_time": "2024-04-17T12:33:36.428Z"
   },
   {
    "duration": 183,
    "start_time": "2024-04-17T12:34:37.646Z"
   },
   {
    "duration": 13,
    "start_time": "2024-04-17T12:35:30.213Z"
   },
   {
    "duration": 20,
    "start_time": "2024-04-17T12:35:45.567Z"
   },
   {
    "duration": 14,
    "start_time": "2024-04-17T12:36:01.271Z"
   },
   {
    "duration": 661,
    "start_time": "2024-04-17T12:36:19.538Z"
   },
   {
    "duration": 188,
    "start_time": "2024-04-17T12:37:44.802Z"
   },
   {
    "duration": 77,
    "start_time": "2024-04-17T12:38:14.271Z"
   },
   {
    "duration": 16,
    "start_time": "2024-04-17T12:38:14.865Z"
   },
   {
    "duration": 16,
    "start_time": "2024-04-17T12:38:15.786Z"
   },
   {
    "duration": 12,
    "start_time": "2024-04-17T12:38:17.290Z"
   },
   {
    "duration": 48,
    "start_time": "2024-04-17T12:38:18.128Z"
   },
   {
    "duration": 3,
    "start_time": "2024-04-17T12:38:19.278Z"
   },
   {
    "duration": 8,
    "start_time": "2024-04-17T12:38:20.024Z"
   },
   {
    "duration": 6,
    "start_time": "2024-04-17T12:38:21.251Z"
   },
   {
    "duration": 6,
    "start_time": "2024-04-17T12:38:21.929Z"
   },
   {
    "duration": 5,
    "start_time": "2024-04-17T12:38:22.651Z"
   },
   {
    "duration": 37,
    "start_time": "2024-04-17T12:38:23.873Z"
   },
   {
    "duration": 12,
    "start_time": "2024-04-17T12:38:24.887Z"
   },
   {
    "duration": 4,
    "start_time": "2024-04-17T12:38:27.555Z"
   },
   {
    "duration": 13,
    "start_time": "2024-04-17T12:38:29.026Z"
   },
   {
    "duration": 21,
    "start_time": "2024-04-17T12:38:30.268Z"
   },
   {
    "duration": 18,
    "start_time": "2024-04-17T12:38:30.937Z"
   },
   {
    "duration": 3,
    "start_time": "2024-04-17T12:38:32.969Z"
   },
   {
    "duration": 11,
    "start_time": "2024-04-17T12:38:33.447Z"
   },
   {
    "duration": 8,
    "start_time": "2024-04-17T12:38:34.255Z"
   },
   {
    "duration": 4,
    "start_time": "2024-04-17T12:38:35.269Z"
   },
   {
    "duration": 9,
    "start_time": "2024-04-17T12:38:35.657Z"
   },
   {
    "duration": 3,
    "start_time": "2024-04-17T12:38:37.449Z"
   },
   {
    "duration": 145,
    "start_time": "2024-04-17T12:38:40.183Z"
   },
   {
    "duration": 5,
    "start_time": "2024-04-17T12:38:41.883Z"
   },
   {
    "duration": 1158,
    "start_time": "2024-04-17T12:38:51.385Z"
   },
   {
    "duration": 6,
    "start_time": "2024-04-17T12:40:20.848Z"
   },
   {
    "duration": 173,
    "start_time": "2024-04-17T12:42:40.336Z"
   },
   {
    "duration": 6,
    "start_time": "2024-04-17T12:43:09.233Z"
   },
   {
    "duration": 130,
    "start_time": "2024-04-17T12:45:52.263Z"
   },
   {
    "duration": 159,
    "start_time": "2024-04-17T12:45:58.899Z"
   },
   {
    "duration": 134,
    "start_time": "2024-04-17T12:46:03.937Z"
   },
   {
    "duration": 296,
    "start_time": "2024-04-17T12:48:23.737Z"
   },
   {
    "duration": 53,
    "start_time": "2024-04-17T12:48:44.090Z"
   },
   {
    "duration": 49,
    "start_time": "2024-04-17T13:37:07.001Z"
   },
   {
    "duration": 450,
    "start_time": "2024-04-17T13:37:36.241Z"
   },
   {
    "duration": 23,
    "start_time": "2024-04-17T13:37:37.977Z"
   },
   {
    "duration": 16,
    "start_time": "2024-04-17T13:37:38.961Z"
   },
   {
    "duration": 11,
    "start_time": "2024-04-17T13:37:40.082Z"
   },
   {
    "duration": 51,
    "start_time": "2024-04-17T13:37:40.651Z"
   },
   {
    "duration": 4,
    "start_time": "2024-04-17T13:37:41.656Z"
   },
   {
    "duration": 8,
    "start_time": "2024-04-17T13:37:42.463Z"
   },
   {
    "duration": 4,
    "start_time": "2024-04-17T13:37:43.609Z"
   },
   {
    "duration": 9,
    "start_time": "2024-04-17T13:37:44.569Z"
   },
   {
    "duration": 5,
    "start_time": "2024-04-17T13:37:45.437Z"
   },
   {
    "duration": 38,
    "start_time": "2024-04-17T13:37:46.613Z"
   },
   {
    "duration": 13,
    "start_time": "2024-04-17T13:37:47.299Z"
   },
   {
    "duration": 5,
    "start_time": "2024-04-17T13:37:48.879Z"
   },
   {
    "duration": 17,
    "start_time": "2024-04-17T13:37:50.559Z"
   },
   {
    "duration": 23,
    "start_time": "2024-04-17T13:37:51.632Z"
   },
   {
    "duration": 18,
    "start_time": "2024-04-17T13:37:52.637Z"
   },
   {
    "duration": 4,
    "start_time": "2024-04-17T13:37:54.498Z"
   },
   {
    "duration": 11,
    "start_time": "2024-04-17T13:37:55.050Z"
   },
   {
    "duration": 6,
    "start_time": "2024-04-17T13:37:55.869Z"
   },
   {
    "duration": 3,
    "start_time": "2024-04-17T13:37:57.354Z"
   },
   {
    "duration": 9,
    "start_time": "2024-04-17T13:37:57.907Z"
   },
   {
    "duration": 1039,
    "start_time": "2024-04-17T13:37:59.537Z"
   },
   {
    "duration": 178,
    "start_time": "2024-04-17T13:38:00.578Z"
   },
   {
    "duration": 6,
    "start_time": "2024-04-17T13:38:01.919Z"
   },
   {
    "duration": 199,
    "start_time": "2024-04-17T13:38:04.575Z"
   },
   {
    "duration": 7,
    "start_time": "2024-04-17T13:38:05.831Z"
   },
   {
    "duration": 146,
    "start_time": "2024-04-17T13:38:08.036Z"
   },
   {
    "duration": 5,
    "start_time": "2024-04-17T13:38:16.634Z"
   },
   {
    "duration": 146,
    "start_time": "2024-04-17T13:40:56.145Z"
   },
   {
    "duration": 169,
    "start_time": "2024-04-17T13:41:05.510Z"
   },
   {
    "duration": 153,
    "start_time": "2024-04-17T13:41:09.473Z"
   },
   {
    "duration": 7,
    "start_time": "2024-04-17T13:41:40.767Z"
   },
   {
    "duration": 6785,
    "start_time": "2024-04-17T13:45:21.513Z"
   },
   {
    "duration": 6528,
    "start_time": "2024-04-17T13:46:50.626Z"
   },
   {
    "duration": 7074,
    "start_time": "2024-04-17T13:47:39.092Z"
   },
   {
    "duration": 736,
    "start_time": "2024-04-17T13:49:24.596Z"
   },
   {
    "duration": 859,
    "start_time": "2024-04-17T13:49:43.001Z"
   },
   {
    "duration": 807,
    "start_time": "2024-04-17T13:49:55.345Z"
   },
   {
    "duration": 808,
    "start_time": "2024-04-17T13:50:17.031Z"
   },
   {
    "duration": 1382,
    "start_time": "2024-04-17T13:50:58.611Z"
   },
   {
    "duration": 1117,
    "start_time": "2024-04-17T13:51:44.288Z"
   },
   {
    "duration": 7,
    "start_time": "2024-04-17T13:51:52.550Z"
   },
   {
    "duration": 703,
    "start_time": "2024-04-17T13:52:17.161Z"
   },
   {
    "duration": 6,
    "start_time": "2024-04-17T13:52:22.779Z"
   },
   {
    "duration": 877,
    "start_time": "2024-04-17T13:54:10.503Z"
   },
   {
    "duration": 1855,
    "start_time": "2024-04-17T13:58:15.091Z"
   },
   {
    "duration": 812,
    "start_time": "2024-04-17T13:59:29.946Z"
   },
   {
    "duration": 4,
    "start_time": "2024-04-17T13:59:42.450Z"
   },
   {
    "duration": 867,
    "start_time": "2024-04-17T13:59:43.441Z"
   },
   {
    "duration": 8,
    "start_time": "2024-04-17T13:59:46.991Z"
   },
   {
    "duration": 776,
    "start_time": "2024-04-17T13:59:49.749Z"
   },
   {
    "duration": 7,
    "start_time": "2024-04-17T13:59:50.528Z"
   },
   {
    "duration": 1104,
    "start_time": "2024-04-17T13:59:55.195Z"
   },
   {
    "duration": 6,
    "start_time": "2024-04-17T13:59:56.398Z"
   },
   {
    "duration": 908,
    "start_time": "2024-04-17T14:00:02.483Z"
   },
   {
    "duration": 13,
    "start_time": "2024-04-17T14:00:03.394Z"
   },
   {
    "duration": 6817,
    "start_time": "2024-04-17T14:00:03.966Z"
   },
   {
    "duration": 901,
    "start_time": "2024-04-17T14:00:47.516Z"
   },
   {
    "duration": 822,
    "start_time": "2024-04-17T14:03:10.482Z"
   },
   {
    "duration": 860,
    "start_time": "2024-04-17T14:13:06.846Z"
   },
   {
    "duration": 94819,
    "start_time": "2024-04-17T14:13:20.615Z"
   },
   {
    "duration": 11650,
    "start_time": "2024-04-17T14:15:57.766Z"
   },
   {
    "duration": 543,
    "start_time": "2024-04-17T14:18:04.061Z"
   },
   {
    "duration": 25,
    "start_time": "2024-04-17T14:18:04.607Z"
   },
   {
    "duration": 24,
    "start_time": "2024-04-17T14:18:04.634Z"
   },
   {
    "duration": 31,
    "start_time": "2024-04-17T14:18:04.660Z"
   },
   {
    "duration": 42,
    "start_time": "2024-04-17T14:18:04.692Z"
   },
   {
    "duration": 4,
    "start_time": "2024-04-17T14:18:04.735Z"
   },
   {
    "duration": 12,
    "start_time": "2024-04-17T14:18:04.740Z"
   },
   {
    "duration": 28,
    "start_time": "2024-04-17T14:18:04.755Z"
   },
   {
    "duration": 10,
    "start_time": "2024-04-17T14:18:04.785Z"
   },
   {
    "duration": 18,
    "start_time": "2024-04-17T14:18:04.798Z"
   },
   {
    "duration": 41,
    "start_time": "2024-04-17T14:18:04.818Z"
   },
   {
    "duration": 21,
    "start_time": "2024-04-17T14:18:04.861Z"
   },
   {
    "duration": 10,
    "start_time": "2024-04-17T14:18:04.884Z"
   },
   {
    "duration": 25,
    "start_time": "2024-04-17T14:18:04.896Z"
   },
   {
    "duration": 42,
    "start_time": "2024-04-17T14:18:04.922Z"
   },
   {
    "duration": 24,
    "start_time": "2024-04-17T14:18:04.966Z"
   },
   {
    "duration": 4,
    "start_time": "2024-04-17T14:18:04.992Z"
   },
   {
    "duration": 23,
    "start_time": "2024-04-17T14:18:04.997Z"
   },
   {
    "duration": 14,
    "start_time": "2024-04-17T14:18:05.022Z"
   },
   {
    "duration": 8,
    "start_time": "2024-04-17T14:18:05.038Z"
   },
   {
    "duration": 30,
    "start_time": "2024-04-17T14:18:05.048Z"
   },
   {
    "duration": 1085,
    "start_time": "2024-04-17T14:18:05.080Z"
   },
   {
    "duration": 769,
    "start_time": "2024-04-17T14:18:06.167Z"
   },
   {
    "duration": 6,
    "start_time": "2024-04-17T14:18:06.938Z"
   },
   {
    "duration": 822,
    "start_time": "2024-04-17T14:18:06.945Z"
   },
   {
    "duration": 13,
    "start_time": "2024-04-17T14:18:07.769Z"
   },
   {
    "duration": 1072,
    "start_time": "2024-04-17T14:18:07.784Z"
   },
   {
    "duration": 7,
    "start_time": "2024-04-17T14:18:08.858Z"
   },
   {
    "duration": 685,
    "start_time": "2024-04-17T14:18:08.866Z"
   },
   {
    "duration": 6,
    "start_time": "2024-04-17T14:18:09.552Z"
   },
   {
    "duration": 994,
    "start_time": "2024-04-17T14:18:09.559Z"
   },
   {
    "duration": 91781,
    "start_time": "2024-04-17T14:18:10.555Z"
   },
   {
    "duration": 449,
    "start_time": "2024-04-17T15:24:32.905Z"
   },
   {
    "duration": 23,
    "start_time": "2024-04-17T15:24:33.355Z"
   },
   {
    "duration": 50,
    "start_time": "2024-04-17T15:24:33.380Z"
   },
   {
    "duration": 10,
    "start_time": "2024-04-17T15:24:33.432Z"
   },
   {
    "duration": 39,
    "start_time": "2024-04-17T15:24:33.444Z"
   },
   {
    "duration": 15,
    "start_time": "2024-04-17T15:24:33.484Z"
   },
   {
    "duration": 15,
    "start_time": "2024-04-17T15:24:33.500Z"
   },
   {
    "duration": 5,
    "start_time": "2024-04-17T15:24:33.517Z"
   },
   {
    "duration": 14,
    "start_time": "2024-04-17T15:24:33.523Z"
   },
   {
    "duration": 5,
    "start_time": "2024-04-17T15:24:33.540Z"
   },
   {
    "duration": 45,
    "start_time": "2024-04-17T15:24:33.547Z"
   },
   {
    "duration": 10,
    "start_time": "2024-04-17T15:24:33.594Z"
   },
   {
    "duration": 3,
    "start_time": "2024-04-17T15:24:33.606Z"
   },
   {
    "duration": 14,
    "start_time": "2024-04-17T15:24:33.611Z"
   },
   {
    "duration": 37,
    "start_time": "2024-04-17T15:24:33.626Z"
   },
   {
    "duration": 18,
    "start_time": "2024-04-17T15:24:33.665Z"
   },
   {
    "duration": 4,
    "start_time": "2024-04-17T15:24:33.685Z"
   },
   {
    "duration": 33,
    "start_time": "2024-04-17T15:24:33.690Z"
   },
   {
    "duration": 14,
    "start_time": "2024-04-17T15:24:33.725Z"
   },
   {
    "duration": 11,
    "start_time": "2024-04-17T15:24:33.741Z"
   },
   {
    "duration": 61,
    "start_time": "2024-04-17T15:24:33.753Z"
   },
   {
    "duration": 1329,
    "start_time": "2024-04-17T15:24:33.816Z"
   },
   {
    "duration": 722,
    "start_time": "2024-04-17T15:24:35.146Z"
   },
   {
    "duration": 6,
    "start_time": "2024-04-17T15:24:35.869Z"
   },
   {
    "duration": 757,
    "start_time": "2024-04-17T15:24:35.877Z"
   },
   {
    "duration": 6,
    "start_time": "2024-04-17T15:24:36.636Z"
   },
   {
    "duration": 1047,
    "start_time": "2024-04-17T15:24:36.644Z"
   },
   {
    "duration": 5,
    "start_time": "2024-04-17T15:24:37.695Z"
   },
   {
    "duration": 649,
    "start_time": "2024-04-17T15:24:37.701Z"
   },
   {
    "duration": 7,
    "start_time": "2024-04-17T15:24:38.352Z"
   },
   {
    "duration": 890,
    "start_time": "2024-04-17T15:24:38.361Z"
   },
   {
    "duration": 627,
    "start_time": "2024-04-18T11:48:14.348Z"
   },
   {
    "duration": 22,
    "start_time": "2024-04-18T11:48:14.977Z"
   },
   {
    "duration": 27,
    "start_time": "2024-04-18T11:48:15.000Z"
   },
   {
    "duration": 11,
    "start_time": "2024-04-18T11:48:15.028Z"
   },
   {
    "duration": 42,
    "start_time": "2024-04-18T11:48:15.041Z"
   },
   {
    "duration": 4,
    "start_time": "2024-04-18T11:48:15.084Z"
   },
   {
    "duration": 15,
    "start_time": "2024-04-18T11:48:15.089Z"
   },
   {
    "duration": 4,
    "start_time": "2024-04-18T11:48:15.105Z"
   },
   {
    "duration": 10,
    "start_time": "2024-04-18T11:48:15.110Z"
   },
   {
    "duration": 4,
    "start_time": "2024-04-18T11:48:15.122Z"
   },
   {
    "duration": 34,
    "start_time": "2024-04-18T11:48:15.127Z"
   },
   {
    "duration": 10,
    "start_time": "2024-04-18T11:48:15.162Z"
   },
   {
    "duration": 26,
    "start_time": "2024-04-18T11:48:15.173Z"
   },
   {
    "duration": 11,
    "start_time": "2024-04-18T11:48:15.201Z"
   },
   {
    "duration": 21,
    "start_time": "2024-04-18T11:48:15.213Z"
   },
   {
    "duration": 15,
    "start_time": "2024-04-18T11:48:15.235Z"
   },
   {
    "duration": 3,
    "start_time": "2024-04-18T11:48:15.251Z"
   },
   {
    "duration": 21,
    "start_time": "2024-04-18T11:48:15.256Z"
   },
   {
    "duration": 14,
    "start_time": "2024-04-18T11:48:15.279Z"
   },
   {
    "duration": 4,
    "start_time": "2024-04-18T11:48:15.298Z"
   },
   {
    "duration": 13,
    "start_time": "2024-04-18T11:48:15.303Z"
   },
   {
    "duration": 1483,
    "start_time": "2024-04-18T11:48:15.318Z"
   },
   {
    "duration": 720,
    "start_time": "2024-04-18T11:48:16.803Z"
   },
   {
    "duration": 7,
    "start_time": "2024-04-18T11:48:17.525Z"
   },
   {
    "duration": 740,
    "start_time": "2024-04-18T11:48:17.533Z"
   },
   {
    "duration": 6,
    "start_time": "2024-04-18T11:48:18.275Z"
   },
   {
    "duration": 988,
    "start_time": "2024-04-18T11:48:18.282Z"
   },
   {
    "duration": 5,
    "start_time": "2024-04-18T11:48:19.273Z"
   },
   {
    "duration": 740,
    "start_time": "2024-04-18T11:48:19.280Z"
   },
   {
    "duration": 6,
    "start_time": "2024-04-18T11:48:20.022Z"
   },
   {
    "duration": 777,
    "start_time": "2024-04-18T11:48:20.030Z"
   },
   {
    "duration": 81476,
    "start_time": "2024-04-18T11:48:20.809Z"
   },
   {
    "duration": 677,
    "start_time": "2024-04-18T12:06:24.345Z"
   },
   {
    "duration": 21,
    "start_time": "2024-04-18T12:06:25.491Z"
   },
   {
    "duration": 24,
    "start_time": "2024-04-18T12:06:26.503Z"
   },
   {
    "duration": 10,
    "start_time": "2024-04-18T12:06:28.101Z"
   },
   {
    "duration": 32,
    "start_time": "2024-04-18T12:06:29.060Z"
   },
   {
    "duration": 3,
    "start_time": "2024-04-18T12:06:30.143Z"
   },
   {
    "duration": 8,
    "start_time": "2024-04-18T12:06:30.981Z"
   },
   {
    "duration": 4,
    "start_time": "2024-04-18T12:06:32.140Z"
   },
   {
    "duration": 7,
    "start_time": "2024-04-18T12:06:32.899Z"
   },
   {
    "duration": 5,
    "start_time": "2024-04-18T12:06:33.683Z"
   },
   {
    "duration": 32,
    "start_time": "2024-04-18T12:06:34.803Z"
   },
   {
    "duration": 10,
    "start_time": "2024-04-18T12:06:35.469Z"
   },
   {
    "duration": 3,
    "start_time": "2024-04-18T12:06:36.796Z"
   },
   {
    "duration": 11,
    "start_time": "2024-04-18T12:06:37.905Z"
   },
   {
    "duration": 18,
    "start_time": "2024-04-18T12:06:38.654Z"
   },
   {
    "duration": 15,
    "start_time": "2024-04-18T12:06:39.278Z"
   },
   {
    "duration": 5,
    "start_time": "2024-04-18T12:06:40.767Z"
   },
   {
    "duration": 11,
    "start_time": "2024-04-18T12:06:41.237Z"
   },
   {
    "duration": 6,
    "start_time": "2024-04-18T12:06:42.049Z"
   },
   {
    "duration": 3,
    "start_time": "2024-04-18T12:06:43.002Z"
   },
   {
    "duration": 8,
    "start_time": "2024-04-18T12:06:43.360Z"
   },
   {
    "duration": 1099,
    "start_time": "2024-04-18T12:06:44.570Z"
   },
   {
    "duration": 2,
    "start_time": "2024-04-18T12:22:51.594Z"
   },
   {
    "duration": 785,
    "start_time": "2024-04-18T12:22:54.687Z"
   },
   {
    "duration": 226,
    "start_time": "2024-04-18T12:23:27.480Z"
   },
   {
    "duration": 20,
    "start_time": "2024-04-18T12:25:50.908Z"
   },
   {
    "duration": 119,
    "start_time": "2024-04-18T12:26:32.017Z"
   },
   {
    "duration": 18,
    "start_time": "2024-04-18T12:28:27.480Z"
   },
   {
    "duration": 306,
    "start_time": "2024-04-18T12:28:42.596Z"
   },
   {
    "duration": 17,
    "start_time": "2024-04-18T12:28:47.550Z"
   },
   {
    "duration": 9,
    "start_time": "2024-04-18T12:30:10.834Z"
   },
   {
    "duration": 82,
    "start_time": "2024-04-18T12:30:51.955Z"
   },
   {
    "duration": 15,
    "start_time": "2024-04-18T12:30:52.284Z"
   },
   {
    "duration": 15,
    "start_time": "2024-04-18T12:30:52.601Z"
   },
   {
    "duration": 10,
    "start_time": "2024-04-18T12:30:53.325Z"
   },
   {
    "duration": 33,
    "start_time": "2024-04-18T12:30:53.675Z"
   },
   {
    "duration": 3,
    "start_time": "2024-04-18T12:30:54.173Z"
   },
   {
    "duration": 8,
    "start_time": "2024-04-18T12:30:54.516Z"
   },
   {
    "duration": 4,
    "start_time": "2024-04-18T12:30:55.055Z"
   },
   {
    "duration": 6,
    "start_time": "2024-04-18T12:30:55.420Z"
   },
   {
    "duration": 4,
    "start_time": "2024-04-18T12:30:55.781Z"
   },
   {
    "duration": 32,
    "start_time": "2024-04-18T12:30:56.317Z"
   },
   {
    "duration": 10,
    "start_time": "2024-04-18T12:30:56.668Z"
   },
   {
    "duration": 3,
    "start_time": "2024-04-18T12:30:57.213Z"
   },
   {
    "duration": 10,
    "start_time": "2024-04-18T12:30:57.765Z"
   },
   {
    "duration": 25,
    "start_time": "2024-04-18T12:30:58.137Z"
   },
   {
    "duration": 17,
    "start_time": "2024-04-18T12:30:58.323Z"
   },
   {
    "duration": 4,
    "start_time": "2024-04-18T12:30:59.336Z"
   },
   {
    "duration": 12,
    "start_time": "2024-04-18T12:30:59.753Z"
   },
   {
    "duration": 6,
    "start_time": "2024-04-18T12:31:00.687Z"
   },
   {
    "duration": 3,
    "start_time": "2024-04-18T12:31:01.865Z"
   },
   {
    "duration": 8,
    "start_time": "2024-04-18T12:31:02.348Z"
   },
   {
    "duration": 2,
    "start_time": "2024-04-18T12:31:03.425Z"
   },
   {
    "duration": 623,
    "start_time": "2024-04-18T12:31:04.217Z"
   },
   {
    "duration": 6,
    "start_time": "2024-04-18T12:31:09.815Z"
   },
   {
    "duration": 18,
    "start_time": "2024-04-18T12:33:45.108Z"
   },
   {
    "duration": 214,
    "start_time": "2024-04-18T12:33:46.713Z"
   },
   {
    "duration": 17,
    "start_time": "2024-04-18T12:33:49.195Z"
   },
   {
    "duration": 9,
    "start_time": "2024-04-18T12:34:17.063Z"
   },
   {
    "duration": 10,
    "start_time": "2024-04-18T12:34:38.905Z"
   },
   {
    "duration": 13,
    "start_time": "2024-04-18T12:34:47.207Z"
   },
   {
    "duration": 26,
    "start_time": "2024-04-18T12:45:07.859Z"
   },
   {
    "duration": 21,
    "start_time": "2024-04-18T13:02:31.702Z"
   },
   {
    "duration": 19,
    "start_time": "2024-04-18T13:03:59.896Z"
   },
   {
    "duration": 17,
    "start_time": "2024-04-18T13:04:29.184Z"
   },
   {
    "duration": 193,
    "start_time": "2024-04-18T13:08:00.225Z"
   },
   {
    "duration": 16,
    "start_time": "2024-04-18T13:08:05.365Z"
   },
   {
    "duration": 15,
    "start_time": "2024-04-18T13:09:19.260Z"
   },
   {
    "duration": 24,
    "start_time": "2024-04-18T13:12:04.455Z"
   },
   {
    "duration": 616,
    "start_time": "2024-04-18T13:16:24.633Z"
   },
   {
    "duration": 6,
    "start_time": "2024-04-18T13:16:26.129Z"
   },
   {
    "duration": 18,
    "start_time": "2024-04-18T13:16:34.962Z"
   },
   {
    "duration": 278,
    "start_time": "2024-04-18T13:16:39.452Z"
   },
   {
    "duration": 18,
    "start_time": "2024-04-18T13:16:41.219Z"
   },
   {
    "duration": 22,
    "start_time": "2024-04-18T13:16:50.283Z"
   },
   {
    "duration": 1062,
    "start_time": "2024-04-18T13:17:29.912Z"
   },
   {
    "duration": 5,
    "start_time": "2024-04-18T13:17:35.850Z"
   },
   {
    "duration": 917,
    "start_time": "2024-04-18T13:19:23.938Z"
   },
   {
    "duration": 5,
    "start_time": "2024-04-18T13:19:27.622Z"
   },
   {
    "duration": 136,
    "start_time": "2024-04-18T13:20:11.361Z"
   },
   {
    "duration": 176,
    "start_time": "2024-04-18T13:21:08.242Z"
   },
   {
    "duration": 9,
    "start_time": "2024-04-18T13:26:15.574Z"
   },
   {
    "duration": 16,
    "start_time": "2024-04-18T13:26:27.318Z"
   },
   {
    "duration": 31,
    "start_time": "2024-04-18T13:27:04.854Z"
   },
   {
    "duration": 35,
    "start_time": "2024-04-18T13:27:54.516Z"
   },
   {
    "duration": 86,
    "start_time": "2024-04-18T13:28:45.727Z"
   },
   {
    "duration": 32,
    "start_time": "2024-04-18T13:31:38.514Z"
   },
   {
    "duration": 321,
    "start_time": "2024-04-18T14:00:26.563Z"
   },
   {
    "duration": 8,
    "start_time": "2024-04-18T14:01:46.264Z"
   },
   {
    "duration": 896,
    "start_time": "2024-04-18T14:02:13.600Z"
   },
   {
    "duration": 193,
    "start_time": "2024-04-18T14:03:35.604Z"
   },
   {
    "duration": 194,
    "start_time": "2024-04-18T14:04:06.322Z"
   },
   {
    "duration": 41,
    "start_time": "2024-04-18T14:04:16.186Z"
   },
   {
    "duration": 662,
    "start_time": "2024-04-18T14:04:24.319Z"
   },
   {
    "duration": 6,
    "start_time": "2024-04-18T14:04:27.714Z"
   },
   {
    "duration": 148,
    "start_time": "2024-04-18T14:04:57.361Z"
   },
   {
    "duration": 12,
    "start_time": "2024-04-18T14:05:41.693Z"
   },
   {
    "duration": 13,
    "start_time": "2024-04-18T14:07:37.892Z"
   },
   {
    "duration": 26,
    "start_time": "2024-04-18T14:07:48.140Z"
   },
   {
    "duration": 36,
    "start_time": "2024-04-18T14:08:32.196Z"
   },
   {
    "duration": 32,
    "start_time": "2024-04-18T14:09:27.599Z"
   },
   {
    "duration": 41,
    "start_time": "2024-04-18T14:10:05.455Z"
   },
   {
    "duration": 177,
    "start_time": "2024-04-18T14:10:34.324Z"
   },
   {
    "duration": 90,
    "start_time": "2024-04-18T14:12:25.351Z"
   },
   {
    "duration": 92,
    "start_time": "2024-04-18T14:12:33.064Z"
   },
   {
    "duration": 83,
    "start_time": "2024-04-18T14:12:49.341Z"
   },
   {
    "duration": 91,
    "start_time": "2024-04-18T14:12:55.598Z"
   },
   {
    "duration": 85,
    "start_time": "2024-04-18T14:13:04.364Z"
   },
   {
    "duration": 79,
    "start_time": "2024-04-18T14:13:21.656Z"
   },
   {
    "duration": 95,
    "start_time": "2024-04-18T14:14:08.510Z"
   },
   {
    "duration": 82,
    "start_time": "2024-04-18T14:15:12.457Z"
   },
   {
    "duration": 80,
    "start_time": "2024-04-18T14:15:16.765Z"
   },
   {
    "duration": 142,
    "start_time": "2024-04-18T14:20:02.902Z"
   },
   {
    "duration": 170,
    "start_time": "2024-04-18T14:20:54.182Z"
   },
   {
    "duration": 281,
    "start_time": "2024-04-18T14:23:45.059Z"
   },
   {
    "duration": 200,
    "start_time": "2024-04-18T14:23:57.599Z"
   },
   {
    "duration": 179,
    "start_time": "2024-04-18T14:24:05.263Z"
   },
   {
    "duration": 169,
    "start_time": "2024-04-18T14:24:11.878Z"
   },
   {
    "duration": 208,
    "start_time": "2024-04-18T14:24:25.925Z"
   },
   {
    "duration": 201,
    "start_time": "2024-04-18T14:24:31.354Z"
   },
   {
    "duration": 841,
    "start_time": "2024-04-18T14:24:47.120Z"
   },
   {
    "duration": 91017,
    "start_time": "2024-04-18T14:26:26.305Z"
   },
   {
    "duration": 589,
    "start_time": "2024-04-19T14:00:06.337Z"
   },
   {
    "duration": 27,
    "start_time": "2024-04-19T14:00:06.928Z"
   },
   {
    "duration": 24,
    "start_time": "2024-04-19T14:00:06.956Z"
   },
   {
    "duration": 9,
    "start_time": "2024-04-19T14:00:06.983Z"
   },
   {
    "duration": 31,
    "start_time": "2024-04-19T14:00:06.994Z"
   },
   {
    "duration": 4,
    "start_time": "2024-04-19T14:00:07.026Z"
   },
   {
    "duration": 34,
    "start_time": "2024-04-19T14:00:07.031Z"
   },
   {
    "duration": 56,
    "start_time": "2024-04-19T14:00:07.067Z"
   },
   {
    "duration": 22,
    "start_time": "2024-04-19T14:00:07.124Z"
   },
   {
    "duration": 9,
    "start_time": "2024-04-19T14:00:07.149Z"
   },
   {
    "duration": 43,
    "start_time": "2024-04-19T14:00:07.159Z"
   },
   {
    "duration": 7,
    "start_time": "2024-04-19T14:00:07.204Z"
   },
   {
    "duration": 2,
    "start_time": "2024-04-19T14:00:07.213Z"
   },
   {
    "duration": 12,
    "start_time": "2024-04-19T14:00:07.217Z"
   },
   {
    "duration": 24,
    "start_time": "2024-04-19T14:00:07.230Z"
   },
   {
    "duration": 33,
    "start_time": "2024-04-19T14:00:07.255Z"
   },
   {
    "duration": 4,
    "start_time": "2024-04-19T14:00:07.289Z"
   },
   {
    "duration": 18,
    "start_time": "2024-04-19T14:00:07.294Z"
   },
   {
    "duration": 6,
    "start_time": "2024-04-19T14:00:07.313Z"
   },
   {
    "duration": 4,
    "start_time": "2024-04-19T14:00:07.321Z"
   },
   {
    "duration": 26,
    "start_time": "2024-04-19T14:00:07.326Z"
   },
   {
    "duration": 1452,
    "start_time": "2024-04-19T14:00:07.354Z"
   },
   {
    "duration": 687,
    "start_time": "2024-04-19T14:00:08.808Z"
   },
   {
    "duration": 5,
    "start_time": "2024-04-19T14:00:09.496Z"
   },
   {
    "duration": 37,
    "start_time": "2024-04-19T14:00:09.502Z"
   },
   {
    "duration": 191,
    "start_time": "2024-04-19T14:00:09.541Z"
   },
   {
    "duration": 51,
    "start_time": "2024-04-19T14:00:09.734Z"
   },
   {
    "duration": 25,
    "start_time": "2024-04-19T14:00:09.790Z"
   },
   {
    "duration": 722,
    "start_time": "2024-04-19T14:00:09.817Z"
   },
   {
    "duration": 6,
    "start_time": "2024-04-19T14:00:10.540Z"
   },
   {
    "duration": 30,
    "start_time": "2024-04-19T14:00:10.547Z"
   },
   {
    "duration": 244,
    "start_time": "2024-04-19T14:00:10.578Z"
   },
   {
    "duration": 16,
    "start_time": "2024-04-19T14:00:10.824Z"
   },
   {
    "duration": 61,
    "start_time": "2024-04-19T14:00:10.842Z"
   },
   {
    "duration": 900,
    "start_time": "2024-04-19T14:00:10.905Z"
   },
   {
    "duration": 5,
    "start_time": "2024-04-19T14:00:11.806Z"
   },
   {
    "duration": 152,
    "start_time": "2024-04-19T14:00:11.812Z"
   },
   {
    "duration": 161,
    "start_time": "2024-04-19T14:00:11.965Z"
   },
   {
    "duration": 34,
    "start_time": "2024-04-19T14:00:12.127Z"
   },
   {
    "duration": 616,
    "start_time": "2024-04-19T14:00:12.163Z"
   },
   {
    "duration": 5,
    "start_time": "2024-04-19T14:00:12.784Z"
   },
   {
    "duration": 28,
    "start_time": "2024-04-19T14:00:12.790Z"
   },
   {
    "duration": 179,
    "start_time": "2024-04-19T14:00:12.820Z"
   },
   {
    "duration": 126,
    "start_time": "2024-04-19T14:00:13.000Z"
   },
   {
    "duration": 689,
    "start_time": "2024-04-19T14:00:13.128Z"
   },
   {
    "duration": 72948,
    "start_time": "2024-04-19T14:00:13.819Z"
   },
   {
    "duration": 585,
    "start_time": "2024-04-20T05:19:06.224Z"
   },
   {
    "duration": 23,
    "start_time": "2024-04-20T05:19:07.867Z"
   },
   {
    "duration": 17,
    "start_time": "2024-04-20T05:19:08.819Z"
   },
   {
    "duration": 14,
    "start_time": "2024-04-20T05:19:09.867Z"
   },
   {
    "duration": 34,
    "start_time": "2024-04-20T05:19:10.295Z"
   },
   {
    "duration": 3,
    "start_time": "2024-04-20T05:19:10.907Z"
   },
   {
    "duration": 8,
    "start_time": "2024-04-20T05:19:11.313Z"
   },
   {
    "duration": 4,
    "start_time": "2024-04-20T05:19:11.893Z"
   },
   {
    "duration": 7,
    "start_time": "2024-04-20T05:19:12.273Z"
   },
   {
    "duration": 5,
    "start_time": "2024-04-20T05:19:12.655Z"
   },
   {
    "duration": 33,
    "start_time": "2024-04-20T05:19:13.257Z"
   },
   {
    "duration": 10,
    "start_time": "2024-04-20T05:19:13.655Z"
   },
   {
    "duration": 4,
    "start_time": "2024-04-20T05:19:14.246Z"
   },
   {
    "duration": 10,
    "start_time": "2024-04-20T05:19:14.834Z"
   },
   {
    "duration": 19,
    "start_time": "2024-04-20T05:19:15.225Z"
   },
   {
    "duration": 16,
    "start_time": "2024-04-20T05:19:15.417Z"
   },
   {
    "duration": 4,
    "start_time": "2024-04-20T05:19:16.113Z"
   },
   {
    "duration": 11,
    "start_time": "2024-04-20T05:19:16.481Z"
   },
   {
    "duration": 6,
    "start_time": "2024-04-20T05:19:17.251Z"
   },
   {
    "duration": 3,
    "start_time": "2024-04-20T05:19:18.373Z"
   },
   {
    "duration": 9,
    "start_time": "2024-04-20T05:19:18.735Z"
   },
   {
    "duration": 1117,
    "start_time": "2024-04-20T05:19:19.774Z"
   },
   {
    "duration": 767,
    "start_time": "2024-04-20T05:19:20.893Z"
   },
   {
    "duration": 6,
    "start_time": "2024-04-20T05:19:24.729Z"
   },
   {
    "duration": 20,
    "start_time": "2024-04-20T05:19:28.782Z"
   },
   {
    "duration": 250,
    "start_time": "2024-04-20T05:19:29.935Z"
   },
   {
    "duration": 17,
    "start_time": "2024-04-20T05:19:31.416Z"
   },
   {
    "duration": 96,
    "start_time": "2024-04-20T05:19:36.888Z"
   },
   {
    "duration": 23,
    "start_time": "2024-04-20T05:20:23.911Z"
   },
   {
    "duration": 683,
    "start_time": "2024-04-20T05:20:30.483Z"
   },
   {
    "duration": 6,
    "start_time": "2024-04-20T05:20:36.145Z"
   },
   {
    "duration": 18,
    "start_time": "2024-04-20T05:20:40.113Z"
   },
   {
    "duration": 253,
    "start_time": "2024-04-20T05:20:44.224Z"
   },
   {
    "duration": 19,
    "start_time": "2024-04-20T05:20:45.837Z"
   },
   {
    "duration": 26,
    "start_time": "2024-04-20T05:20:51.087Z"
   },
   {
    "duration": 1026,
    "start_time": "2024-04-20T05:21:00.558Z"
   },
   {
    "duration": 6,
    "start_time": "2024-04-20T05:21:04.764Z"
   },
   {
    "duration": 210,
    "start_time": "2024-04-20T05:21:08.739Z"
   },
   {
    "duration": 168,
    "start_time": "2024-04-20T05:21:11.144Z"
   },
   {
    "duration": 36,
    "start_time": "2024-04-20T05:21:20.132Z"
   },
   {
    "duration": 635,
    "start_time": "2024-04-20T05:21:27.673Z"
   },
   {
    "duration": 6,
    "start_time": "2024-04-20T05:21:32.758Z"
   },
   {
    "duration": 25,
    "start_time": "2024-04-20T05:21:38.039Z"
   },
   {
    "duration": 171,
    "start_time": "2024-04-20T05:21:39.483Z"
   },
   {
    "duration": 145,
    "start_time": "2024-04-20T05:21:54.333Z"
   },
   {
    "duration": 140,
    "start_time": "2024-04-20T05:22:09.690Z"
   },
   {
    "duration": 803,
    "start_time": "2024-04-20T05:22:15.223Z"
   },
   {
    "duration": 67,
    "start_time": "2024-04-20T05:23:49.284Z"
   },
   {
    "duration": 60,
    "start_time": "2024-04-20T05:24:51.842Z"
   },
   {
    "duration": 23,
    "start_time": "2024-04-20T05:29:38.813Z"
   },
   {
    "duration": 74,
    "start_time": "2024-04-20T05:50:35.103Z"
   }
  ],
  "colab": {
   "name": "dpp_template_part2.ipynb",
   "provenance": []
  },
  "kernelspec": {
   "display_name": "Python 3 (ipykernel)",
   "language": "python",
   "name": "python3"
  },
  "language_info": {
   "codemirror_mode": {
    "name": "ipython",
    "version": 3
   },
   "file_extension": ".py",
   "mimetype": "text/x-python",
   "name": "python",
   "nbconvert_exporter": "python",
   "pygments_lexer": "ipython3",
   "version": "3.9.5"
  },
  "toc": {
   "base_numbering": 1,
   "nav_menu": {},
   "number_sections": true,
   "sideBar": true,
   "skip_h1_title": true,
   "title_cell": "Table of Contents",
   "title_sidebar": "Contents",
   "toc_cell": false,
   "toc_position": {},
   "toc_section_display": true,
   "toc_window_display": false
  }
 },
 "nbformat": 4,
 "nbformat_minor": 5
}
