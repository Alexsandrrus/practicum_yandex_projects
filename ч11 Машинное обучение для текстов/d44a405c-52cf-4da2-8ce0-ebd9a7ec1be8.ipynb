{
 "cells": [
  {
   "cell_type": "markdown",
   "metadata": {
    "toc": true
   },
   "source": [
    "<h1>Содержание<span class=\"tocSkip\"></span></h1>\n",
    "<div class=\"toc\"><ul class=\"toc-item\"><li><span><a href=\"#Подготовка\" data-toc-modified-id=\"Подготовка-1\"><span class=\"toc-item-num\">1&nbsp;&nbsp;</span>Подготовка</a></span></li><li><span><a href=\"#Обучение\" data-toc-modified-id=\"Обучение-2\"><span class=\"toc-item-num\">2&nbsp;&nbsp;</span>Обучение</a></span></li><li><span><a href=\"#Выводы\" data-toc-modified-id=\"Выводы-3\"><span class=\"toc-item-num\">3&nbsp;&nbsp;</span>Выводы</a></span></li><li><span><a href=\"#Чек-лист-проверки\" data-toc-modified-id=\"Чек-лист-проверки-4\"><span class=\"toc-item-num\">4&nbsp;&nbsp;</span>Чек-лист проверки</a></span></li></ul></div>"
   ]
  },
  {
   "cell_type": "markdown",
   "metadata": {},
   "source": [
    "# Проект для «Викишоп»"
   ]
  },
  {
   "cell_type": "markdown",
   "metadata": {},
   "source": [
    "Интернет-магазин «Викишоп» запускает новый сервис. Теперь пользователи могут редактировать и дополнять описания товаров, как в вики-сообществах. То есть клиенты предлагают свои правки и комментируют изменения других. Магазину нужен инструмент, который будет искать токсичные комментарии и отправлять их на модерацию. \n",
    "\n",
    "Обучите модель классифицировать комментарии на позитивные и негативные. В вашем распоряжении набор данных с разметкой о токсичности правок.\n",
    "\n",
    "Постройте модель со значением метрики качества *F1* не меньше 0.75. \n",
    "\n",
    "**Инструкция по выполнению проекта**\n",
    "\n",
    "1. Загрузите и подготовьте данные.\n",
    "2. Обучите разные модели. \n",
    "3. Сделайте выводы.\n",
    "\n",
    "Для выполнения проекта применять *BERT* необязательно, но вы можете попробовать.\n",
    "\n",
    "**Описание данных**\n",
    "\n",
    "Данные находятся в файле `toxic_comments.csv`. Столбец *text* в нём содержит текст комментария, а *toxic* — целевой признак."
   ]
  },
  {
   "cell_type": "markdown",
   "metadata": {},
   "source": [
    "# Библиотеки"
   ]
  },
  {
   "cell_type": "code",
   "execution_count": 1,
   "metadata": {},
   "outputs": [],
   "source": [
    "# !pip install -q imbalanced-learn\n",
    "# !pip install -q --upgrade scikit-learn\n",
    "# !pip install -q catboost"
   ]
  },
  {
   "cell_type": "code",
   "execution_count": 19,
   "metadata": {},
   "outputs": [
    {
     "name": "stderr",
     "output_type": "stream",
     "text": [
      "[nltk_data] Downloading package stopwords to\n",
      "[nltk_data]     C:\\Users\\Aleksandr\\AppData\\Roaming\\nltk_data...\n",
      "[nltk_data]   Package stopwords is already up-to-date!\n",
      "[nltk_data] Downloading package punkt_tab to\n",
      "[nltk_data]     C:\\Users\\Aleksandr\\AppData\\Roaming\\nltk_data...\n",
      "[nltk_data]   Package punkt_tab is already up-to-date!\n",
      "[nltk_data] Downloading package wordnet to\n",
      "[nltk_data]     C:\\Users\\Aleksandr\\AppData\\Roaming\\nltk_data...\n",
      "[nltk_data]   Package wordnet is already up-to-date!\n",
      "[nltk_data] Downloading package punkt to\n",
      "[nltk_data]     C:\\Users\\Aleksandr\\AppData\\Roaming\\nltk_data...\n",
      "[nltk_data]   Package punkt is already up-to-date!\n",
      "[nltk_data] Downloading package averaged_perceptron_tagger to\n",
      "[nltk_data]     C:\\Users\\Aleksandr\\AppData\\Roaming\\nltk_data...\n",
      "[nltk_data]   Package averaged_perceptron_tagger is already up-to-\n",
      "[nltk_data]       date!\n"
     ]
    }
   ],
   "source": [
    "import numpy as np \n",
    "import pandas as pd\n",
    "import re\n",
    "import seaborn as sns\n",
    "\n",
    "import matplotlib.pyplot as plt\n",
    "import matplotlib.mlab as mlab\n",
    "import matplotlib\n",
    "plt.style.use('ggplot')\n",
    "from matplotlib.pyplot import figure\n",
    "%matplotlib inline\n",
    "\n",
    "import warnings\n",
    "warnings.filterwarnings('ignore')\n",
    "\n",
    "import nltk\n",
    "from nltk.tokenize import word_tokenize \n",
    "from nltk.stem import WordNetLemmatizer\n",
    "from nltk.corpus import stopwords\n",
    "\n",
    "from sklearn.feature_extraction.text import TfidfVectorizer\n",
    "#from sklearn.pipeline import Pipeline\n",
    "from sklearn.linear_model import LogisticRegression\n",
    "from sklearn.model_selection import GridSearchCV\n",
    "from sklearn.metrics import f1_score, precision_score, recall_score, confusion_matrix\n",
    "from sklearn.model_selection import train_test_split\n",
    "from sklearn.pipeline import make_pipeline\n",
    "\n",
    "import imblearn\n",
    "from imblearn.over_sampling import SMOTE\n",
    "from imblearn.pipeline import Pipeline\n",
    "\n",
    "import string\n",
    "\n",
    "import keras\n",
    "from keras.models import Model\n",
    "from keras.layers import LSTM, Activation, Dense, Dropout, Input, Embedding\n",
    "from keras.preprocessing import sequence\n",
    "from keras.callbacks import EarlyStopping\n",
    "# from keras import backend as K\n",
    "\n",
    "import tensorflow as tf\n",
    "from tensorflow.keras import layers\n",
    "from tensorflow.keras import regularizers\n",
    "from tensorflow.keras.utils import to_categorical\n",
    "from tensorflow.keras.optimizers import RMSprop\n",
    "from tensorflow.keras.preprocessing.text import Tokenizer\n",
    "from nltk.corpus import wordnet\n",
    "import tensorflow.keras.backend as K\n",
    "\n",
    "from sklearn.utils.class_weight import compute_class_weight\n",
    "\n",
    "from catboost import CatBoostClassifier\n",
    "\n",
    "\n",
    "nltk.download('stopwords') \n",
    "nltk.download('punkt_tab')\n",
    "nltk.download('wordnet')\n",
    "nltk.download('punkt')\n",
    "nltk.download('averaged_perceptron_tagger')\n",
    "\n",
    "stop_words = set(stopwords.words('english'))\n",
    "lemmatizer = WordNetLemmatizer()"
   ]
  },
  {
   "cell_type": "code",
   "execution_count": 3,
   "metadata": {},
   "outputs": [],
   "source": [
    "# try:\n",
    "#     from collections.abc import Iterable\n",
    "# except ImportError:\n",
    "#     from collections import Iterable"
   ]
  },
  {
   "cell_type": "code",
   "execution_count": 4,
   "metadata": {},
   "outputs": [],
   "source": [
    "# import plaidml.keras\n",
    "# plaidml.keras.install_backend()\n",
    "\n",
    "# # Help MacOS be able to use Keras\n",
    "# import os\n",
    "# os.environ[\"KERAS_BACKEND\"] = \"plaidml.keras.backend\"\n",
    "# # Gets rid of the processor warning.\n",
    "# os.environ['KMP_DUPLICATE_LIB_OK']='True'"
   ]
  },
  {
   "cell_type": "markdown",
   "metadata": {},
   "source": [
    "## Подготовка"
   ]
  },
  {
   "cell_type": "code",
   "execution_count": 5,
   "metadata": {},
   "outputs": [],
   "source": [
    "try:\n",
    "    df = pd.read_csv('/datasets/toxic_comments.csv', index_col = 0)\n",
    "except:\n",
    "    df = pd.read_csv(r\"C:\\Users\\Aleksandr\\Downloads\\NLP\\toxic_comments.csv\", index_col = 0)"
   ]
  },
  {
   "cell_type": "code",
   "execution_count": 6,
   "metadata": {},
   "outputs": [
    {
     "data": {
      "text/html": [
       "<div>\n",
       "<style scoped>\n",
       "    .dataframe tbody tr th:only-of-type {\n",
       "        vertical-align: middle;\n",
       "    }\n",
       "\n",
       "    .dataframe tbody tr th {\n",
       "        vertical-align: top;\n",
       "    }\n",
       "\n",
       "    .dataframe thead th {\n",
       "        text-align: right;\n",
       "    }\n",
       "</style>\n",
       "<table border=\"1\" class=\"dataframe\">\n",
       "  <thead>\n",
       "    <tr style=\"text-align: right;\">\n",
       "      <th></th>\n",
       "      <th>text</th>\n",
       "      <th>toxic</th>\n",
       "    </tr>\n",
       "  </thead>\n",
       "  <tbody>\n",
       "    <tr>\n",
       "      <th>0</th>\n",
       "      <td>Explanation\\nWhy the edits made under my usern...</td>\n",
       "      <td>0</td>\n",
       "    </tr>\n",
       "    <tr>\n",
       "      <th>1</th>\n",
       "      <td>D'aww! He matches this background colour I'm s...</td>\n",
       "      <td>0</td>\n",
       "    </tr>\n",
       "    <tr>\n",
       "      <th>2</th>\n",
       "      <td>Hey man, I'm really not trying to edit war. It...</td>\n",
       "      <td>0</td>\n",
       "    </tr>\n",
       "    <tr>\n",
       "      <th>3</th>\n",
       "      <td>\"\\nMore\\nI can't make any real suggestions on ...</td>\n",
       "      <td>0</td>\n",
       "    </tr>\n",
       "    <tr>\n",
       "      <th>4</th>\n",
       "      <td>You, sir, are my hero. Any chance you remember...</td>\n",
       "      <td>0</td>\n",
       "    </tr>\n",
       "  </tbody>\n",
       "</table>\n",
       "</div>"
      ],
      "text/plain": [
       "                                                text  toxic\n",
       "0  Explanation\\nWhy the edits made under my usern...      0\n",
       "1  D'aww! He matches this background colour I'm s...      0\n",
       "2  Hey man, I'm really not trying to edit war. It...      0\n",
       "3  \"\\nMore\\nI can't make any real suggestions on ...      0\n",
       "4  You, sir, are my hero. Any chance you remember...      0"
      ]
     },
     "execution_count": 6,
     "metadata": {},
     "output_type": "execute_result"
    }
   ],
   "source": [
    "df.head(5)"
   ]
  },
  {
   "cell_type": "markdown",
   "metadata": {},
   "source": [
    "**Данные загружены**"
   ]
  },
  {
   "cell_type": "code",
   "execution_count": 7,
   "metadata": {},
   "outputs": [
    {
     "name": "stdout",
     "output_type": "stream",
     "text": [
      "<class 'pandas.core.frame.DataFrame'>\n",
      "Index: 159292 entries, 0 to 159450\n",
      "Data columns (total 2 columns):\n",
      " #   Column  Non-Null Count   Dtype \n",
      "---  ------  --------------   ----- \n",
      " 0   text    159292 non-null  object\n",
      " 1   toxic   159292 non-null  int64 \n",
      "dtypes: int64(1), object(1)\n",
      "memory usage: 3.6+ MB\n"
     ]
    }
   ],
   "source": [
    "df.info()"
   ]
  },
  {
   "cell_type": "code",
   "execution_count": 8,
   "metadata": {},
   "outputs": [
    {
     "name": "stdout",
     "output_type": "stream",
     "text": [
      "Пропущеные значенияtext     0\n",
      "toxic    0\n",
      "dtype: int64\n"
     ]
    }
   ],
   "source": [
    "print('Пропущеные значения',df.isnull().sum(), sep='')"
   ]
  },
  {
   "cell_type": "markdown",
   "metadata": {},
   "source": [
    "**Все отлично пропусков нет**"
   ]
  },
  {
   "cell_type": "code",
   "execution_count": 9,
   "metadata": {},
   "outputs": [
    {
     "data": {
      "text/plain": [
       "<Axes: >"
      ]
     },
     "execution_count": 9,
     "metadata": {},
     "output_type": "execute_result"
    },
    {
     "data": {
      "image/png": "[encoded data removed]",
      "text/plain": [
       "<Figure size 640x480 with 1 Axes>"
      ]
     },
     "metadata": {},
     "output_type": "display_data"
    }
   ],
   "source": [
    "df['toxic'].hist()"
   ]
  },
  {
   "cell_type": "markdown",
   "metadata": {},
   "source": [
    "**Есть некоторый дисбаланс классов**"
   ]
  },
  {
   "cell_type": "code",
   "execution_count": 10,
   "metadata": {},
   "outputs": [],
   "source": [
    "def get_wordnet_pos(word):\n",
    "    \"\"\"Map POS tag to first character lemmatize() accepts\"\"\"\n",
    "    tag = nltk.pos_tag([word])[0][1][0].upper()\n",
    "    tag_dict = {\"J\": wordnet.ADJ,\n",
    "                \"N\": wordnet.NOUN,\n",
    "                \"V\": wordnet.VERB,\n",
    "                \"R\": wordnet.ADV}\n",
    "    return tag_dict.get(tag, wordnet.NOUN)\n",
    "\n",
    "def predproc(text):\n",
    "    text = re.sub(r'[^a-zA-z ]', ' ', text)\n",
    "    text = re.sub(r\"(?:\\n|\\r)\", \" \", text)\n",
    "    text = text.lower()\n",
    "    token = nltk.word_tokenize(text)\n",
    "    text = [word for word in token if word not in stop_words]\n",
    "    text = [lemmatizer.lemmatize(word, get_wordnet_pos(word)) for word in text]\n",
    "    text = ' '.join(text)\n",
    "    return text"
   ]
  },
  {
   "cell_type": "code",
   "execution_count": 11,
   "metadata": {},
   "outputs": [
    {
     "data": {
      "text/html": [
       "<div>\n",
       "<style scoped>\n",
       "    .dataframe tbody tr th:only-of-type {\n",
       "        vertical-align: middle;\n",
       "    }\n",
       "\n",
       "    .dataframe tbody tr th {\n",
       "        vertical-align: top;\n",
       "    }\n",
       "\n",
       "    .dataframe thead th {\n",
       "        text-align: right;\n",
       "    }\n",
       "</style>\n",
       "<table border=\"1\" class=\"dataframe\">\n",
       "  <thead>\n",
       "    <tr style=\"text-align: right;\">\n",
       "      <th></th>\n",
       "      <th>text</th>\n",
       "      <th>toxic</th>\n",
       "      <th>text_change</th>\n",
       "    </tr>\n",
       "  </thead>\n",
       "  <tbody>\n",
       "    <tr>\n",
       "      <th>0</th>\n",
       "      <td>Explanation\\nWhy the edits made under my usern...</td>\n",
       "      <td>0</td>\n",
       "      <td>explanation edits make username hardcore metal...</td>\n",
       "    </tr>\n",
       "    <tr>\n",
       "      <th>1</th>\n",
       "      <td>D'aww! He matches this background colour I'm s...</td>\n",
       "      <td>0</td>\n",
       "      <td>aww match background colour seemingly stuck th...</td>\n",
       "    </tr>\n",
       "    <tr>\n",
       "      <th>2</th>\n",
       "      <td>Hey man, I'm really not trying to edit war. It...</td>\n",
       "      <td>0</td>\n",
       "      <td>hey man really try edit war guy constantly rem...</td>\n",
       "    </tr>\n",
       "    <tr>\n",
       "      <th>3</th>\n",
       "      <td>\"\\nMore\\nI can't make any real suggestions on ...</td>\n",
       "      <td>0</td>\n",
       "      <td>make real suggestion improvement wonder sectio...</td>\n",
       "    </tr>\n",
       "    <tr>\n",
       "      <th>4</th>\n",
       "      <td>You, sir, are my hero. Any chance you remember...</td>\n",
       "      <td>0</td>\n",
       "      <td>sir hero chance remember page</td>\n",
       "    </tr>\n",
       "  </tbody>\n",
       "</table>\n",
       "</div>"
      ],
      "text/plain": [
       "                                                text  toxic  \\\n",
       "0  Explanation\\nWhy the edits made under my usern...      0   \n",
       "1  D'aww! He matches this background colour I'm s...      0   \n",
       "2  Hey man, I'm really not trying to edit war. It...      0   \n",
       "3  \"\\nMore\\nI can't make any real suggestions on ...      0   \n",
       "4  You, sir, are my hero. Any chance you remember...      0   \n",
       "\n",
       "                                         text_change  \n",
       "0  explanation edits make username hardcore metal...  \n",
       "1  aww match background colour seemingly stuck th...  \n",
       "2  hey man really try edit war guy constantly rem...  \n",
       "3  make real suggestion improvement wonder sectio...  \n",
       "4                      sir hero chance remember page  "
      ]
     },
     "execution_count": 11,
     "metadata": {},
     "output_type": "execute_result"
    }
   ],
   "source": [
    "df['text_change'] = df['text'].apply(predproc)\n",
    "df.head(5)"
   ]
  },
  {
   "cell_type": "markdown",
   "metadata": {},
   "source": [
    "**Мы потготовили наш датасет к обучению, убрали лишние знаки, привели все в единый вид**"
   ]
  },
  {
   "cell_type": "markdown",
   "metadata": {},
   "source": [
    "## Обучение"
   ]
  },
  {
   "cell_type": "code",
   "execution_count": 12,
   "metadata": {
    "scrolled": true
   },
   "outputs": [
    {
     "name": "stdout",
     "output_type": "stream",
     "text": [
      "Train shape: (106725,) (106725,)\n",
      "Test  shape: (52567,) (52567,)\n"
     ]
    }
   ],
   "source": [
    "data = df.copy()\n",
    "y = data['toxic']\n",
    "X = data.text_change\n",
    "\n",
    "X_train,X_test,Y_train,Y_test = train_test_split(X,y,test_size=0.33)\n",
    "\n",
    "print('Train shape:', X_train.shape, Y_train.shape)\n",
    "print('Test  shape:', X_test.shape, Y_test.shape)"
   ]
  },
  {
   "cell_type": "code",
   "execution_count": 13,
   "metadata": {},
   "outputs": [
    {
     "name": "stdout",
     "output_type": "stream",
     "text": [
      "Running on CPU\n",
      "Number of accelerators:  1\n"
     ]
    }
   ],
   "source": [
    "try:\n",
    "    tpu = tf.distribute.cluster_resolver.TPUClusterResolver() # TPU detection\n",
    "except ValueError:\n",
    "    tpu = None\n",
    "    gpus = tf.config.experimental.list_logical_devices(\"GPU\")\n",
    "    \n",
    "if tpu:\n",
    "    tf.tpu.experimental.initialize_tpu_system(tpu)\n",
    "    strategy = tf.distribute.experimental.TPUStrategy(tpu,) \n",
    "    print('Running on TPU ', tpu.cluster_spec().as_dict()['worker'])\n",
    "elif len(gpus) > 1:\n",
    "    strategy = tf.distribute.MirroredStrategy([gpu.name for gpu in gpus])\n",
    "    print('Running on multiple GPUs ', [gpu.name for gpu in gpus])\n",
    "elif len(gpus) == 1:\n",
    "    strategy = tf.distribute.get_strategy() \n",
    "    print('Running on single GPU ', gpus[0].name)\n",
    "else:\n",
    "    strategy = tf.distribute.get_strategy() \n",
    "    print('Running on CPU')\n",
    "print(\"Number of accelerators: \", strategy.num_replicas_in_sync)"
   ]
  },
  {
   "cell_type": "markdown",
   "metadata": {},
   "source": [
    "**Разделим датасет**"
   ]
  },
  {
   "cell_type": "code",
   "execution_count": 14,
   "metadata": {},
   "outputs": [],
   "source": [
    "max_words = 1000\n",
    "max_len = 150\n",
    "tok = Tokenizer(num_words=max_words)\n",
    "tok.fit_on_texts(X_train)\n",
    "sequences = tok.texts_to_sequences(X_train)\n",
    "sequences_matrix = sequence.pad_sequences(sequences,maxlen=max_len)"
   ]
  },
  {
   "cell_type": "markdown",
   "metadata": {},
   "source": [
    "**Потготовили Tokenizer, максимум слов 1000, длинна 150, можно менять значения**"
   ]
  },
  {
   "cell_type": "code",
   "execution_count": 15,
   "metadata": {},
   "outputs": [],
   "source": [
    "def RNN():\n",
    "    inputs = Input(name='inputs',shape=[max_len])\n",
    "    layer = Embedding(max_words,50,input_length=max_len)(inputs)\n",
    "    layer = LSTM(64)(layer)\n",
    "    layer = Dense(64,name='FC1',activation='relu', kernel_initializer='ones')(layer)\n",
    "    layer = Activation('relu')(layer)\n",
    "    layer = Dropout(0.5)(layer)\n",
    "    layer = Dense(64,name='FC2')(layer)\n",
    "    layer = Activation('relu')(layer)\n",
    "    layer = Dropout(0.5)(layer)\n",
    "    layer = Dense(1,name='out_layer')(layer)\n",
    "    layer = Activation('sigmoid')(layer)\n",
    "    model = Model(inputs=inputs,outputs=layer)\n",
    "    return model"
   ]
  },
  {
   "cell_type": "markdown",
   "metadata": {},
   "source": [
    "**Мы сделаем послойную сеть с LSTM и Dense слоями**"
   ]
  },
  {
   "cell_type": "code",
   "execution_count": 16,
   "metadata": {},
   "outputs": [],
   "source": [
    "def recall_m(y_true, y_pred):\n",
    "    true_positives = K.sum(K.round(K.clip(y_true * y_pred, 0, 1)))\n",
    "    possible_positives = K.sum(K.round(K.clip(y_true, 0, 1)))\n",
    "    recall = true_positives / (possible_positives + K.epsilon())\n",
    "    return recall\n",
    "\n",
    "def precision_m(y_true, y_pred):\n",
    "    true_positives = K.sum(K.round(K.clip(y_true * y_pred, 0, 1)))\n",
    "    predicted_positives = K.sum(K.round(K.clip(y_pred, 0, 1)))\n",
    "    precision = true_positives / (predicted_positives + K.epsilon())\n",
    "    return precision\n",
    "\n",
    "def f1_m(y_true, y_pred):\n",
    "    precision = precision_m(y_true, y_pred)\n",
    "    recall = recall_m(y_true, y_pred)\n",
    "    return 2*((precision*recall)/(precision+recall+K.epsilon()))"
   ]
  },
  {
   "cell_type": "code",
   "execution_count": 21,
   "metadata": {},
   "outputs": [
    {
     "data": {
      "text/html": [
       "<pre style=\"white-space:pre;overflow-x:auto;line-height:normal;font-family:Menlo,'DejaVu Sans Mono',consolas,'Courier New',monospace\"><span style=\"font-weight: bold\">Model: \"functional_1\"</span>\n",
       "</pre>\n"
      ],
      "text/plain": [
       "\u001b[1mModel: \"functional_1\"\u001b[0m\n"
      ]
     },
     "metadata": {},
     "output_type": "display_data"
    },
    {
     "data": {
      "text/html": [
       "<pre style=\"white-space:pre;overflow-x:auto;line-height:normal;font-family:Menlo,'DejaVu Sans Mono',consolas,'Courier New',monospace\">┏━━━━━━━━━━━━━━━━━━━━━━━━━━━━━━━━━┳━━━━━━━━━━━━━━━━━━━━━━━━┳━━━━━━━━━━━━━━━┓\n",
       "┃<span style=\"font-weight: bold\"> Layer (type)                    </span>┃<span style=\"font-weight: bold\"> Output Shape           </span>┃<span style=\"font-weight: bold\">       Param # </span>┃\n",
       "┡━━━━━━━━━━━━━━━━━━━━━━━━━━━━━━━━━╇━━━━━━━━━━━━━━━━━━━━━━━━╇━━━━━━━━━━━━━━━┩\n",
       "│ inputs (<span style=\"color: #0087ff; text-decoration-color: #0087ff\">InputLayer</span>)             │ (<span style=\"color: #00d7ff; text-decoration-color: #00d7ff\">None</span>, <span style=\"color: #00af00; text-decoration-color: #00af00\">150</span>)            │             <span style=\"color: #00af00; text-decoration-color: #00af00\">0</span> │\n",
       "├─────────────────────────────────┼────────────────────────┼───────────────┤\n",
       "│ embedding_1 (<span style=\"color: #0087ff; text-decoration-color: #0087ff\">Embedding</span>)         │ (<span style=\"color: #00d7ff; text-decoration-color: #00d7ff\">None</span>, <span style=\"color: #00af00; text-decoration-color: #00af00\">150</span>, <span style=\"color: #00af00; text-decoration-color: #00af00\">50</span>)        │        <span style=\"color: #00af00; text-decoration-color: #00af00\">50,000</span> │\n",
       "├─────────────────────────────────┼────────────────────────┼───────────────┤\n",
       "│ lstm_1 (<span style=\"color: #0087ff; text-decoration-color: #0087ff\">LSTM</span>)                   │ (<span style=\"color: #00d7ff; text-decoration-color: #00d7ff\">None</span>, <span style=\"color: #00af00; text-decoration-color: #00af00\">64</span>)             │        <span style=\"color: #00af00; text-decoration-color: #00af00\">29,440</span> │\n",
       "├─────────────────────────────────┼────────────────────────┼───────────────┤\n",
       "│ FC1 (<span style=\"color: #0087ff; text-decoration-color: #0087ff\">Dense</span>)                     │ (<span style=\"color: #00d7ff; text-decoration-color: #00d7ff\">None</span>, <span style=\"color: #00af00; text-decoration-color: #00af00\">64</span>)             │         <span style=\"color: #00af00; text-decoration-color: #00af00\">4,160</span> │\n",
       "├─────────────────────────────────┼────────────────────────┼───────────────┤\n",
       "│ activation_3 (<span style=\"color: #0087ff; text-decoration-color: #0087ff\">Activation</span>)       │ (<span style=\"color: #00d7ff; text-decoration-color: #00d7ff\">None</span>, <span style=\"color: #00af00; text-decoration-color: #00af00\">64</span>)             │             <span style=\"color: #00af00; text-decoration-color: #00af00\">0</span> │\n",
       "├─────────────────────────────────┼────────────────────────┼───────────────┤\n",
       "│ dropout_2 (<span style=\"color: #0087ff; text-decoration-color: #0087ff\">Dropout</span>)             │ (<span style=\"color: #00d7ff; text-decoration-color: #00d7ff\">None</span>, <span style=\"color: #00af00; text-decoration-color: #00af00\">64</span>)             │             <span style=\"color: #00af00; text-decoration-color: #00af00\">0</span> │\n",
       "├─────────────────────────────────┼────────────────────────┼───────────────┤\n",
       "│ FC2 (<span style=\"color: #0087ff; text-decoration-color: #0087ff\">Dense</span>)                     │ (<span style=\"color: #00d7ff; text-decoration-color: #00d7ff\">None</span>, <span style=\"color: #00af00; text-decoration-color: #00af00\">64</span>)             │         <span style=\"color: #00af00; text-decoration-color: #00af00\">4,160</span> │\n",
       "├─────────────────────────────────┼────────────────────────┼───────────────┤\n",
       "│ activation_4 (<span style=\"color: #0087ff; text-decoration-color: #0087ff\">Activation</span>)       │ (<span style=\"color: #00d7ff; text-decoration-color: #00d7ff\">None</span>, <span style=\"color: #00af00; text-decoration-color: #00af00\">64</span>)             │             <span style=\"color: #00af00; text-decoration-color: #00af00\">0</span> │\n",
       "├─────────────────────────────────┼────────────────────────┼───────────────┤\n",
       "│ dropout_3 (<span style=\"color: #0087ff; text-decoration-color: #0087ff\">Dropout</span>)             │ (<span style=\"color: #00d7ff; text-decoration-color: #00d7ff\">None</span>, <span style=\"color: #00af00; text-decoration-color: #00af00\">64</span>)             │             <span style=\"color: #00af00; text-decoration-color: #00af00\">0</span> │\n",
       "├─────────────────────────────────┼────────────────────────┼───────────────┤\n",
       "│ out_layer (<span style=\"color: #0087ff; text-decoration-color: #0087ff\">Dense</span>)               │ (<span style=\"color: #00d7ff; text-decoration-color: #00d7ff\">None</span>, <span style=\"color: #00af00; text-decoration-color: #00af00\">1</span>)              │            <span style=\"color: #00af00; text-decoration-color: #00af00\">65</span> │\n",
       "├─────────────────────────────────┼────────────────────────┼───────────────┤\n",
       "│ activation_5 (<span style=\"color: #0087ff; text-decoration-color: #0087ff\">Activation</span>)       │ (<span style=\"color: #00d7ff; text-decoration-color: #00d7ff\">None</span>, <span style=\"color: #00af00; text-decoration-color: #00af00\">1</span>)              │             <span style=\"color: #00af00; text-decoration-color: #00af00\">0</span> │\n",
       "└─────────────────────────────────┴────────────────────────┴───────────────┘\n",
       "</pre>\n"
      ],
      "text/plain": [
       "┏━━━━━━━━━━━━━━━━━━━━━━━━━━━━━━━━━┳━━━━━━━━━━━━━━━━━━━━━━━━┳━━━━━━━━━━━━━━━┓\n",
       "┃\u001b[1m \u001b[0m\u001b[1mLayer (type)                   \u001b[0m\u001b[1m \u001b[0m┃\u001b[1m \u001b[0m\u001b[1mOutput Shape          \u001b[0m\u001b[1m \u001b[0m┃\u001b[1m \u001b[0m\u001b[1m      Param #\u001b[0m\u001b[1m \u001b[0m┃\n",
       "┡━━━━━━━━━━━━━━━━━━━━━━━━━━━━━━━━━╇━━━━━━━━━━━━━━━━━━━━━━━━╇━━━━━━━━━━━━━━━┩\n",
       "│ inputs (\u001b[38;5;33mInputLayer\u001b[0m)             │ (\u001b[38;5;45mNone\u001b[0m, \u001b[38;5;34m150\u001b[0m)            │             \u001b[38;5;34m0\u001b[0m │\n",
       "├─────────────────────────────────┼────────────────────────┼───────────────┤\n",
       "│ embedding_1 (\u001b[38;5;33mEmbedding\u001b[0m)         │ (\u001b[38;5;45mNone\u001b[0m, \u001b[38;5;34m150\u001b[0m, \u001b[38;5;34m50\u001b[0m)        │        \u001b[38;5;34m50,000\u001b[0m │\n",
       "├─────────────────────────────────┼────────────────────────┼───────────────┤\n",
       "│ lstm_1 (\u001b[38;5;33mLSTM\u001b[0m)                   │ (\u001b[38;5;45mNone\u001b[0m, \u001b[38;5;34m64\u001b[0m)             │        \u001b[38;5;34m29,440\u001b[0m │\n",
       "├─────────────────────────────────┼────────────────────────┼───────────────┤\n",
       "│ FC1 (\u001b[38;5;33mDense\u001b[0m)                     │ (\u001b[38;5;45mNone\u001b[0m, \u001b[38;5;34m64\u001b[0m)             │         \u001b[38;5;34m4,160\u001b[0m │\n",
       "├─────────────────────────────────┼────────────────────────┼───────────────┤\n",
       "│ activation_3 (\u001b[38;5;33mActivation\u001b[0m)       │ (\u001b[38;5;45mNone\u001b[0m, \u001b[38;5;34m64\u001b[0m)             │             \u001b[38;5;34m0\u001b[0m │\n",
       "├─────────────────────────────────┼────────────────────────┼───────────────┤\n",
       "│ dropout_2 (\u001b[38;5;33mDropout\u001b[0m)             │ (\u001b[38;5;45mNone\u001b[0m, \u001b[38;5;34m64\u001b[0m)             │             \u001b[38;5;34m0\u001b[0m │\n",
       "├─────────────────────────────────┼────────────────────────┼───────────────┤\n",
       "│ FC2 (\u001b[38;5;33mDense\u001b[0m)                     │ (\u001b[38;5;45mNone\u001b[0m, \u001b[38;5;34m64\u001b[0m)             │         \u001b[38;5;34m4,160\u001b[0m │\n",
       "├─────────────────────────────────┼────────────────────────┼───────────────┤\n",
       "│ activation_4 (\u001b[38;5;33mActivation\u001b[0m)       │ (\u001b[38;5;45mNone\u001b[0m, \u001b[38;5;34m64\u001b[0m)             │             \u001b[38;5;34m0\u001b[0m │\n",
       "├─────────────────────────────────┼────────────────────────┼───────────────┤\n",
       "│ dropout_3 (\u001b[38;5;33mDropout\u001b[0m)             │ (\u001b[38;5;45mNone\u001b[0m, \u001b[38;5;34m64\u001b[0m)             │             \u001b[38;5;34m0\u001b[0m │\n",
       "├─────────────────────────────────┼────────────────────────┼───────────────┤\n",
       "│ out_layer (\u001b[38;5;33mDense\u001b[0m)               │ (\u001b[38;5;45mNone\u001b[0m, \u001b[38;5;34m1\u001b[0m)              │            \u001b[38;5;34m65\u001b[0m │\n",
       "├─────────────────────────────────┼────────────────────────┼───────────────┤\n",
       "│ activation_5 (\u001b[38;5;33mActivation\u001b[0m)       │ (\u001b[38;5;45mNone\u001b[0m, \u001b[38;5;34m1\u001b[0m)              │             \u001b[38;5;34m0\u001b[0m │\n",
       "└─────────────────────────────────┴────────────────────────┴───────────────┘\n"
      ]
     },
     "metadata": {},
     "output_type": "display_data"
    },
    {
     "data": {
      "text/html": [
       "<pre style=\"white-space:pre;overflow-x:auto;line-height:normal;font-family:Menlo,'DejaVu Sans Mono',consolas,'Courier New',monospace\"><span style=\"font-weight: bold\"> Total params: </span><span style=\"color: #00af00; text-decoration-color: #00af00\">87,825</span> (343.07 KB)\n",
       "</pre>\n"
      ],
      "text/plain": [
       "\u001b[1m Total params: \u001b[0m\u001b[38;5;34m87,825\u001b[0m (343.07 KB)\n"
      ]
     },
     "metadata": {},
     "output_type": "display_data"
    },
    {
     "data": {
      "text/html": [
       "<pre style=\"white-space:pre;overflow-x:auto;line-height:normal;font-family:Menlo,'DejaVu Sans Mono',consolas,'Courier New',monospace\"><span style=\"font-weight: bold\"> Trainable params: </span><span style=\"color: #00af00; text-decoration-color: #00af00\">87,825</span> (343.07 KB)\n",
       "</pre>\n"
      ],
      "text/plain": [
       "\u001b[1m Trainable params: \u001b[0m\u001b[38;5;34m87,825\u001b[0m (343.07 KB)\n"
      ]
     },
     "metadata": {},
     "output_type": "display_data"
    },
    {
     "data": {
      "text/html": [
       "<pre style=\"white-space:pre;overflow-x:auto;line-height:normal;font-family:Menlo,'DejaVu Sans Mono',consolas,'Courier New',monospace\"><span style=\"font-weight: bold\"> Non-trainable params: </span><span style=\"color: #00af00; text-decoration-color: #00af00\">0</span> (0.00 B)\n",
       "</pre>\n"
      ],
      "text/plain": [
       "\u001b[1m Non-trainable params: \u001b[0m\u001b[38;5;34m0\u001b[0m (0.00 B)\n"
      ]
     },
     "metadata": {},
     "output_type": "display_data"
    }
   ],
   "source": [
    "model = RNN()\n",
    "model.summary()\n",
    "model.compile(loss='binary_crossentropy',optimizer='adam',metrics=['f1_score'])"
   ]
  },
  {
   "cell_type": "code",
   "execution_count": 22,
   "metadata": {},
   "outputs": [
    {
     "name": "stdout",
     "output_type": "stream",
     "text": [
      "Epoch 1/10\n",
      "\u001b[1m668/668\u001b[0m \u001b[32m━━━━━━━━━━━━━━━━━━━━\u001b[0m\u001b[37m\u001b[0m \u001b[1m64s\u001b[0m 89ms/step - f1_score: 0.1865 - loss: 0.4612 - val_f1_score: 0.1884 - val_loss: 0.3338\n",
      "Epoch 2/10\n",
      "\u001b[1m668/668\u001b[0m \u001b[32m━━━━━━━━━━━━━━━━━━━━\u001b[0m\u001b[37m\u001b[0m \u001b[1m56s\u001b[0m 83ms/step - f1_score: 0.1844 - loss: 0.3376 - val_f1_score: 0.1884 - val_loss: 0.3341\n"
     ]
    },
    {
     "data": {
      "text/plain": [
       "<keras.src.callbacks.history.History at 0x1d476f1f620>"
      ]
     },
     "execution_count": 22,
     "metadata": {},
     "output_type": "execute_result"
    }
   ],
   "source": [
    "model.fit(sequences_matrix,Y_train,batch_size=128,epochs=10,\n",
    "          validation_split=0.2,callbacks=[EarlyStopping(monitor='val_loss',min_delta=0.00001)])"
   ]
  },
  {
   "cell_type": "code",
   "execution_count": 23,
   "metadata": {},
   "outputs": [],
   "source": [
    "def training(model, params):\n",
    "    pipeline = Pipeline([\n",
    "        ('tfidf', TfidfVectorizer(min_df = 1)),\n",
    "        #('smote', SMOTE()),\n",
    "        ('model', model)])\n",
    "    grid = GridSearchCV(pipeline, cv = 5, n_jobs = -1, param_grid = params ,scoring = 'f1', verbose = False)\n",
    "    grid.fit(X_train, Y_train)\n",
    "    print('Лучший результат:', grid.best_score_)\n",
    "    print('Лучшие параметры:', grid.best_params_)\n",
    "    return grid"
   ]
  },
  {
   "cell_type": "code",
   "execution_count": 24,
   "metadata": {
    "scrolled": true
   },
   "outputs": [
    {
     "name": "stdout",
     "output_type": "stream",
     "text": [
      "Лучший результат: 0.7745882731604959\n",
      "Лучшие параметры: {'model__C': 10.0, 'model__penalty': 'l2'}\n"
     ]
    }
   ],
   "source": [
    "LogisticRegression_mode = training(LogisticRegression(), {\"model__C\":[0.1, 1.0, 10.0], \"model__penalty\":[\"l2\"]})"
   ]
  },
  {
   "cell_type": "code",
   "execution_count": 25,
   "metadata": {},
   "outputs": [
    {
     "name": "stdout",
     "output_type": "stream",
     "text": [
      "Лучший результат: 0.4758099990156778\n",
      "Лучшие параметры: {'model__depth': 4, 'model__iterations': 50, 'model__learning_rate': 0.03}\n"
     ]
    }
   ],
   "source": [
    "CatBoostClassifier_mode = training(CatBoostClassifier(verbose = 0), {'model__depth': [4,6],\n",
    "                                                                     'model__learning_rate' : [0.01,0.03],\n",
    "                                                                     'model__iterations' : [10, 50]})"
   ]
  },
  {
   "cell_type": "code",
   "execution_count": 26,
   "metadata": {},
   "outputs": [
    {
     "name": "stdout",
     "output_type": "stream",
     "text": [
      "Результат LogisticRegression 0.7772374547335748\n"
     ]
    }
   ],
   "source": [
    "score = f1_score(Y_test, LogisticRegression_mode.predict(X_test))\n",
    "print(\"Результат LogisticRegression\", score)"
   ]
  },
  {
   "cell_type": "code",
   "execution_count": 27,
   "metadata": {},
   "outputs": [
    {
     "name": "stdout",
     "output_type": "stream",
     "text": [
      "Результат LogisticRegression 0.45589692765113976\n"
     ]
    }
   ],
   "source": [
    "score = f1_score(Y_test, CatBoostClassifier_mode.predict(X_test))\n",
    "print(\"Результат LogisticRegression\", score)"
   ]
  },
  {
   "cell_type": "markdown",
   "metadata": {},
   "source": [
    "**Условие: - Постройте модель со значением метрики качества F1 не меньше 0.75.  ВЫПОЛНЕНО**"
   ]
  },
  {
   "cell_type": "markdown",
   "metadata": {},
   "source": [
    "**Таким образом F1 показывает одновременно насколько хорошо модель находит объекты положительного класса из всех объектов положительного класса и какая доля из тех, кого алгоритм назвал положительным классом, действительно являются положительным классом.**"
   ]
  },
  {
   "cell_type": "markdown",
   "metadata": {},
   "source": [
    "**Логистическая регрессия лучше разпираеться**"
   ]
  },
  {
   "cell_type": "markdown",
   "metadata": {},
   "source": [
    "## Выводы"
   ]
  },
  {
   "cell_type": "markdown",
   "metadata": {},
   "source": [
    "\n",
    "**Предобработка текста**\n",
    "\n",
    "* Функция `predproc` предобрабатывает текстовые данные, выполняя следующие операции:\n",
    "\t+ Удаляет неалфавитные символы и переводит текст в нижний регистр\n",
    "\t+ Разбивает текст на отдельные слова\n",
    "\t+ Удаляет стоп-слова\n",
    "\t+ Лемматизирует слова\n",
    "\t+ Объединяет слова обратно в одну строку\n",
    "\n",
    "**Подготовка данных**\n",
    "\n",
    "* Код загружает набор данных в датафрейм Pandas `data`\n",
    "* Разделяет данные на обучающую и тестовую выборки с помощью `train_test_split`\n",
    "* Печатает формы обучающей и тестовой выборок\n",
    "\n",
    "**Определение модели RNN**\n",
    "\n",
    "* Функция `RNN` определяет рекуррентную нейронную сеть (RNN) с:\n",
    "\t+ Входным слоем с формой `(max_len,)`\n",
    "\t+ Слоем вложения с 50 измерениями\n",
    "\t+ Слоем LSTM с 64 единицами\n",
    "\t+ Двумя плотными слоями, соответственно\n",
    "\t+ Слоями dropout с коэффициентом dropout 0,5\n",
    "\t+ Финальным выходным слоем с сигмоидальной функцией активации\n",
    "\n",
    "**Компиляция и обучение модели**\n",
    "\n",
    "* Модель компилируется с функцией потерь кросс-энтропии, оптимизатором Adam и метрикой F1\n",
    "* Модель обучается на обучающих данных с размером пакета 128, 10 эпох и коэффициентом валидации 0,2\n",
    "* Раннее остановка используется для остановки обучения, когда потери валидации перестают улучшаться\n",
    "\n",
    "**Оценка модели**\n",
    "\n",
    "* Модель оценивается на тестовых данных с помощью метода `evaluate`\n",
    "* Метрики оценки не указаны, но производительность модели, вероятно, будет оцениваться с помощью метрики F1 и других метрик.\n",
    "\n",
    "**Обучение логистической регрессии**\n",
    "\n",
    "* Функция training обучает модель логистической регрессии с помощью GridSearchCV\n",
    "* Параметры модели: C = [0.1, 1.0, 10.0], penalty = [\"l2\"]\n",
    "* Лучший результат: (выводится лучший результат GridSearchCV)\n",
    "* учшие параметры: (выводятся лучшие параметры GridSearchCV)\n",
    "\n",
    "**Обучение CatBoostClassifier**\n",
    "\n",
    "* Функция training обучает модель CatBoostClassifier с помощью GridSearchCV\n",
    "* Параметры модели: depth = [4, 6], learning_rate = [0.01, 0.03], iterations = [10, 70]\n",
    "* Лучший результат: (выводится лучший результат GridSearchCV)\n",
    "* Лучшие параметры: (выводятся лучшие параметры GridSearchCV)\n",
    "\n",
    "**Результат логистической регрессии лучше чем RNN, CatBoostClassifier**"
   ]
  },
  {
   "cell_type": "markdown",
   "metadata": {},
   "source": [
    "## Чек-лист проверки"
   ]
  },
  {
   "cell_type": "markdown",
   "metadata": {},
   "source": [
    "- [x]  Jupyter Notebook открыт\n",
    "- [ ]  Весь код выполняется без ошибок\n",
    "- [ ]  Ячейки с кодом расположены в порядке исполнения\n",
    "- [ ]  Данные загружены и подготовлены\n",
    "- [ ]  Модели обучены\n",
    "- [ ]  Значение метрики *F1* не меньше 0.75\n",
    "- [ ]  Выводы написаны"
   ]
  }
 ],
 "metadata": {
  "ExecuteTimeLog": [
   {
    "duration": 2285,
    "start_time": "2024-10-02T11:08:36.328Z"
   },
   {
    "duration": 5,
    "start_time": "2024-10-02T11:08:42.199Z"
   },
   {
    "duration": 2,
    "start_time": "2024-10-02T11:08:43.928Z"
   },
   {
    "duration": 3,
    "start_time": "2024-10-02T11:08:44.202Z"
   },
   {
    "duration": 1549,
    "start_time": "2024-10-02T11:08:45.260Z"
   },
   {
    "duration": 3791,
    "start_time": "2024-10-02T11:08:48.602Z"
   },
   {
    "duration": 9,
    "start_time": "2024-10-02T11:08:55.558Z"
   },
   {
    "duration": 32,
    "start_time": "2024-10-02T11:08:57.002Z"
   },
   {
    "duration": 25,
    "start_time": "2024-10-02T11:08:57.558Z"
   },
   {
    "duration": 177,
    "start_time": "2024-10-02T11:08:58.352Z"
   },
   {
    "duration": 3,
    "start_time": "2024-10-02T11:08:59.962Z"
   },
   {
    "duration": 69771,
    "start_time": "2024-10-02T11:09:01.215Z"
   },
   {
    "duration": 37,
    "start_time": "2024-10-02T11:10:10.990Z"
   },
   {
    "duration": 7674,
    "start_time": "2024-10-02T11:10:11.029Z"
   },
   {
    "duration": 5,
    "start_time": "2024-10-02T11:10:18.706Z"
   },
   {
    "duration": 394,
    "start_time": "2024-10-02T11:10:18.712Z"
   },
   {
    "duration": 1035,
    "start_time": "2024-10-02T11:10:19.108Z"
   },
   {
    "duration": 0,
    "start_time": "2024-10-02T11:10:20.145Z"
   },
   {
    "duration": 61,
    "start_time": "2024-10-02T11:15:00.131Z"
   },
   {
    "duration": 272,
    "start_time": "2024-10-02T11:15:23.021Z"
   },
   {
    "duration": 18,
    "start_time": "2024-10-02T11:15:39.768Z"
   },
   {
    "duration": 276,
    "start_time": "2024-10-02T11:16:36.478Z"
   },
   {
    "duration": 5,
    "start_time": "2024-10-02T11:17:10.867Z"
   },
   {
    "duration": 254,
    "start_time": "2024-10-02T11:17:15.917Z"
   },
   {
    "duration": 17,
    "start_time": "2024-10-02T11:18:09.756Z"
   },
   {
    "duration": 3,
    "start_time": "2024-10-02T11:19:38.398Z"
   },
   {
    "duration": 3,
    "start_time": "2024-10-02T11:19:47.948Z"
   },
   {
    "duration": 239,
    "start_time": "2024-10-02T11:20:12.238Z"
   },
   {
    "duration": 765,
    "start_time": "2024-10-02T11:20:14.998Z"
   },
   {
    "duration": 5,
    "start_time": "2024-10-02T11:20:56.974Z"
   },
   {
    "duration": 263,
    "start_time": "2024-10-02T11:20:58.517Z"
   },
   {
    "duration": 1011546,
    "start_time": "2024-10-02T11:21:00.363Z"
   },
   {
    "duration": 39290,
    "start_time": "2024-10-02T11:37:51.911Z"
   },
   {
    "duration": 590,
    "start_time": "2024-10-02T11:40:25.215Z"
   },
   {
    "duration": 37873,
    "start_time": "2024-10-02T11:40:43.831Z"
   },
   {
    "duration": 22,
    "start_time": "2024-10-02T11:41:38.714Z"
   },
   {
    "duration": 37810,
    "start_time": "2024-10-02T11:41:46.714Z"
   },
   {
    "duration": 37317,
    "start_time": "2024-10-02T11:43:05.594Z"
   },
   {
    "duration": 1803,
    "start_time": "2024-10-02T11:44:31.806Z"
   },
   {
    "duration": 5,
    "start_time": "2024-10-02T11:44:33.610Z"
   },
   {
    "duration": 27,
    "start_time": "2024-10-02T11:44:33.616Z"
   },
   {
    "duration": 5,
    "start_time": "2024-10-02T11:44:33.645Z"
   },
   {
    "duration": 1554,
    "start_time": "2024-10-02T11:44:33.651Z"
   },
   {
    "duration": 866,
    "start_time": "2024-10-02T11:44:35.206Z"
   },
   {
    "duration": 10,
    "start_time": "2024-10-02T11:44:36.073Z"
   },
   {
    "duration": 67,
    "start_time": "2024-10-02T11:44:36.090Z"
   },
   {
    "duration": 29,
    "start_time": "2024-10-02T11:44:36.159Z"
   },
   {
    "duration": 164,
    "start_time": "2024-10-02T11:44:36.189Z"
   },
   {
    "duration": 4,
    "start_time": "2024-10-02T11:44:36.354Z"
   },
   {
    "duration": 69025,
    "start_time": "2024-10-02T11:44:36.359Z"
   },
   {
    "duration": 39,
    "start_time": "2024-10-02T11:45:45.385Z"
   },
   {
    "duration": 7590,
    "start_time": "2024-10-02T11:45:45.426Z"
   },
   {
    "duration": 7,
    "start_time": "2024-10-02T11:45:53.018Z"
   },
   {
    "duration": 8,
    "start_time": "2024-10-02T11:45:53.026Z"
   },
   {
    "duration": 388,
    "start_time": "2024-10-02T11:45:53.036Z"
   },
   {
    "duration": 1803,
    "start_time": "2024-10-02T11:52:41.270Z"
   },
   {
    "duration": 4,
    "start_time": "2024-10-02T11:52:43.074Z"
   },
   {
    "duration": 13,
    "start_time": "2024-10-02T11:52:43.080Z"
   },
   {
    "duration": 8,
    "start_time": "2024-10-02T11:52:43.095Z"
   },
   {
    "duration": 1575,
    "start_time": "2024-10-02T11:52:43.105Z"
   },
   {
    "duration": 880,
    "start_time": "2024-10-02T11:52:44.682Z"
   },
   {
    "duration": 10,
    "start_time": "2024-10-02T11:52:45.563Z"
   },
   {
    "duration": 48,
    "start_time": "2024-10-02T11:52:45.575Z"
   },
   {
    "duration": 28,
    "start_time": "2024-10-02T11:52:45.624Z"
   },
   {
    "duration": 163,
    "start_time": "2024-10-02T11:52:45.654Z"
   },
   {
    "duration": 4,
    "start_time": "2024-10-02T11:52:45.818Z"
   },
   {
    "duration": 70219,
    "start_time": "2024-10-02T11:52:45.823Z"
   },
   {
    "duration": 46,
    "start_time": "2024-10-02T11:53:56.044Z"
   },
   {
    "duration": 7782,
    "start_time": "2024-10-02T11:53:56.092Z"
   },
   {
    "duration": 5,
    "start_time": "2024-10-02T11:54:03.876Z"
   },
   {
    "duration": 83,
    "start_time": "2024-10-02T11:54:03.883Z"
   },
   {
    "duration": 357,
    "start_time": "2024-10-02T11:54:03.968Z"
   },
   {
    "duration": 1702,
    "start_time": "2024-10-02T11:58:43.330Z"
   },
   {
    "duration": 4,
    "start_time": "2024-10-02T11:58:45.033Z"
   },
   {
    "duration": 2,
    "start_time": "2024-10-02T11:58:45.217Z"
   },
   {
    "duration": 3,
    "start_time": "2024-10-02T11:58:45.688Z"
   },
   {
    "duration": 1631,
    "start_time": "2024-10-02T11:58:46.016Z"
   },
   {
    "duration": 896,
    "start_time": "2024-10-02T11:58:47.648Z"
   },
   {
    "duration": 10,
    "start_time": "2024-10-02T11:58:48.545Z"
   },
   {
    "duration": 45,
    "start_time": "2024-10-02T11:58:48.557Z"
   },
   {
    "duration": 30,
    "start_time": "2024-10-02T11:58:48.603Z"
   },
   {
    "duration": 184,
    "start_time": "2024-10-02T11:58:48.635Z"
   },
   {
    "duration": 4,
    "start_time": "2024-10-02T11:58:49.268Z"
   },
   {
    "duration": 70757,
    "start_time": "2024-10-02T11:58:49.629Z"
   },
   {
    "duration": 41,
    "start_time": "2024-10-02T12:00:00.390Z"
   },
   {
    "duration": 19,
    "start_time": "2024-10-02T12:00:00.433Z"
   },
   {
    "duration": 7740,
    "start_time": "2024-10-02T12:00:00.454Z"
   },
   {
    "duration": 5,
    "start_time": "2024-10-02T12:00:08.195Z"
   },
   {
    "duration": 13,
    "start_time": "2024-10-02T12:00:08.202Z"
   },
   {
    "duration": 341,
    "start_time": "2024-10-02T12:00:08.217Z"
   },
   {
    "duration": 991555,
    "start_time": "2024-10-02T12:00:08.560Z"
   },
   {
    "duration": 37414,
    "start_time": "2024-10-02T12:16:40.117Z"
   },
   {
    "duration": 35192,
    "start_time": "2024-10-02T12:17:17.533Z"
   },
   {
    "duration": 1919,
    "start_time": "2024-10-02T12:18:48.269Z"
   },
   {
    "duration": 5,
    "start_time": "2024-10-02T12:18:50.199Z"
   },
   {
    "duration": 25,
    "start_time": "2024-10-02T12:18:50.206Z"
   },
   {
    "duration": 10,
    "start_time": "2024-10-02T12:18:50.233Z"
   },
   {
    "duration": 1745,
    "start_time": "2024-10-02T12:18:50.247Z"
   },
   {
    "duration": 995,
    "start_time": "2024-10-02T12:18:51.997Z"
   },
   {
    "duration": 18,
    "start_time": "2024-10-02T12:18:52.994Z"
   },
   {
    "duration": 35,
    "start_time": "2024-10-02T12:18:53.018Z"
   },
   {
    "duration": 26,
    "start_time": "2024-10-02T12:18:53.055Z"
   },
   {
    "duration": 201,
    "start_time": "2024-10-02T12:18:53.082Z"
   },
   {
    "duration": 16,
    "start_time": "2024-10-02T12:18:53.285Z"
   },
   {
    "duration": 79849,
    "start_time": "2024-10-02T12:18:53.303Z"
   },
   {
    "duration": 70,
    "start_time": "2024-10-02T12:20:13.154Z"
   },
   {
    "duration": 10,
    "start_time": "2024-10-02T12:20:13.229Z"
   },
   {
    "duration": 9091,
    "start_time": "2024-10-02T12:20:13.241Z"
   },
   {
    "duration": 5,
    "start_time": "2024-10-02T12:20:22.333Z"
   },
   {
    "duration": 78,
    "start_time": "2024-10-02T12:20:22.340Z"
   },
   {
    "duration": 395,
    "start_time": "2024-10-02T12:20:22.420Z"
   },
   {
    "duration": 954610,
    "start_time": "2024-10-02T12:20:22.818Z"
   },
   {
    "duration": 39068,
    "start_time": "2024-10-02T12:36:17.429Z"
   },
   {
    "duration": 39240,
    "start_time": "2024-10-02T12:36:56.499Z"
   },
   {
    "duration": 36783,
    "start_time": "2024-10-02T12:42:22.951Z"
   },
   {
    "duration": 36235,
    "start_time": "2024-10-02T12:43:33.807Z"
   },
   {
    "duration": 278,
    "start_time": "2024-10-02T13:17:41.827Z"
   },
   {
    "duration": 278,
    "start_time": "2024-10-02T13:18:37.256Z"
   },
   {
    "duration": 4,
    "start_time": "2024-10-02T13:20:07.807Z"
   },
   {
    "duration": 45,
    "start_time": "2024-10-02T13:22:42.528Z"
   },
   {
    "duration": 22,
    "start_time": "2024-10-02T13:22:48.888Z"
   },
   {
    "duration": 16,
    "start_time": "2024-10-02T13:22:55.765Z"
   },
   {
    "duration": 15,
    "start_time": "2024-10-02T13:23:09.231Z"
   },
   {
    "duration": 46,
    "start_time": "2024-10-02T13:23:14.198Z"
   },
   {
    "duration": 15,
    "start_time": "2024-10-02T13:23:21.966Z"
   },
   {
    "duration": 270,
    "start_time": "2024-10-02T13:23:28.043Z"
   },
   {
    "duration": 4,
    "start_time": "2024-10-02T13:23:36.903Z"
   },
   {
    "duration": 35,
    "start_time": "2024-10-02T13:23:37.877Z"
   },
   {
    "duration": 4,
    "start_time": "2024-10-02T13:23:48.403Z"
   },
   {
    "duration": 753,
    "start_time": "2024-10-02T13:23:49.397Z"
   },
   {
    "duration": 5,
    "start_time": "2024-10-02T13:23:58.394Z"
   },
   {
    "duration": 576832,
    "start_time": "2024-10-02T13:24:00.275Z"
   },
   {
    "duration": 776,
    "start_time": "2024-10-02T13:33:37.199Z"
   },
   {
    "duration": 4113,
    "start_time": "2024-10-02T15:16:13.575Z"
   },
   {
    "duration": 5,
    "start_time": "2024-10-02T15:16:17.690Z"
   },
   {
    "duration": 17,
    "start_time": "2024-10-02T15:16:17.697Z"
   },
   {
    "duration": 33,
    "start_time": "2024-10-02T15:16:17.716Z"
   },
   {
    "duration": 1902,
    "start_time": "2024-10-02T15:16:17.752Z"
   },
   {
    "duration": 1374,
    "start_time": "2024-10-02T15:16:19.656Z"
   },
   {
    "duration": 11,
    "start_time": "2024-10-02T15:16:21.032Z"
   },
   {
    "duration": 48,
    "start_time": "2024-10-02T15:16:21.045Z"
   },
   {
    "duration": 28,
    "start_time": "2024-10-02T15:16:21.095Z"
   },
   {
    "duration": 185,
    "start_time": "2024-10-02T15:16:21.125Z"
   },
   {
    "duration": 4,
    "start_time": "2024-10-02T15:16:21.311Z"
   },
   {
    "duration": 84566,
    "start_time": "2024-10-02T15:16:21.317Z"
   },
   {
    "duration": 44,
    "start_time": "2024-10-02T15:17:45.885Z"
   },
   {
    "duration": 27,
    "start_time": "2024-10-02T15:17:45.932Z"
   },
   {
    "duration": 9255,
    "start_time": "2024-10-02T15:17:45.961Z"
   },
   {
    "duration": 9,
    "start_time": "2024-10-02T15:17:55.218Z"
   },
   {
    "duration": 14,
    "start_time": "2024-10-02T15:17:55.229Z"
   },
   {
    "duration": 415,
    "start_time": "2024-10-02T15:17:55.246Z"
   },
   {
    "duration": 4691,
    "start_time": "2024-10-03T07:32:02.541Z"
   },
   {
    "duration": 5,
    "start_time": "2024-10-03T07:32:11.513Z"
   },
   {
    "duration": 1386,
    "start_time": "2024-10-03T07:34:02.432Z"
   },
   {
    "duration": 10,
    "start_time": "2024-10-03T07:34:05.552Z"
   },
   {
    "duration": 34,
    "start_time": "2024-10-03T07:34:07.621Z"
   },
   {
    "duration": 27,
    "start_time": "2024-10-03T07:34:08.924Z"
   },
   {
    "duration": 159,
    "start_time": "2024-10-03T07:34:09.826Z"
   },
   {
    "duration": 4,
    "start_time": "2024-10-03T07:35:45.386Z"
   },
   {
    "duration": 76914,
    "start_time": "2024-10-03T07:36:05.345Z"
   },
   {
    "duration": 79,
    "start_time": "2024-10-03T07:37:22.261Z"
   },
   {
    "duration": 3577,
    "start_time": "2024-10-03T07:49:21.278Z"
   },
   {
    "duration": 3,
    "start_time": "2024-10-03T07:49:24.859Z"
   },
   {
    "duration": 29,
    "start_time": "2024-10-03T07:49:24.863Z"
   },
   {
    "duration": 958,
    "start_time": "2024-10-03T07:49:45.944Z"
   },
   {
    "duration": 13,
    "start_time": "2024-10-03T07:49:47.954Z"
   },
   {
    "duration": 34,
    "start_time": "2024-10-03T07:49:49.367Z"
   },
   {
    "duration": 33,
    "start_time": "2024-10-03T07:49:50.577Z"
   },
   {
    "duration": 154,
    "start_time": "2024-10-03T07:49:51.467Z"
   },
   {
    "duration": 23,
    "start_time": "2024-10-03T07:57:40.897Z"
   },
   {
    "duration": 3,
    "start_time": "2024-10-03T07:57:43.086Z"
   },
   {
    "duration": 3,
    "start_time": "2024-10-03T07:57:43.295Z"
   },
   {
    "duration": 991,
    "start_time": "2024-10-03T07:57:44.325Z"
   },
   {
    "duration": 10,
    "start_time": "2024-10-03T07:57:45.464Z"
   },
   {
    "duration": 32,
    "start_time": "2024-10-03T07:57:46.885Z"
   },
   {
    "duration": 28,
    "start_time": "2024-10-03T07:57:48.076Z"
   },
   {
    "duration": 150,
    "start_time": "2024-10-03T07:57:48.975Z"
   },
   {
    "duration": 91,
    "start_time": "2024-10-03T07:58:19.661Z"
   },
   {
    "duration": 5,
    "start_time": "2024-10-03T07:58:27.068Z"
   },
   {
    "duration": 641,
    "start_time": "2024-10-03T07:58:30.637Z"
   },
   {
    "duration": 290,
    "start_time": "2024-10-03T07:58:52.389Z"
   },
   {
    "duration": 8,
    "start_time": "2024-10-03T07:58:55.645Z"
   },
   {
    "duration": 789499,
    "start_time": "2024-10-03T07:58:56.731Z"
   },
   {
    "duration": 71,
    "start_time": "2024-10-03T08:12:06.232Z"
   },
   {
    "duration": 54,
    "start_time": "2024-10-03T08:13:49.357Z"
   },
   {
    "duration": 58,
    "start_time": "2024-10-03T08:14:09.127Z"
   },
   {
    "duration": 1227,
    "start_time": "2024-10-03T08:14:48.595Z"
   },
   {
    "duration": 7615,
    "start_time": "2024-10-03T08:14:56.633Z"
   },
   {
    "duration": 44,
    "start_time": "2024-10-03T08:15:26.947Z"
   },
   {
    "duration": 30,
    "start_time": "2024-10-03T08:15:56.531Z"
   },
   {
    "duration": 28,
    "start_time": "2024-10-03T08:16:44.855Z"
   },
   {
    "duration": 5703,
    "start_time": "2024-10-03T08:18:42.788Z"
   },
   {
    "duration": 3582,
    "start_time": "2024-10-03T08:18:48.493Z"
   },
   {
    "duration": 2,
    "start_time": "2024-10-03T08:18:58.198Z"
   },
   {
    "duration": 2,
    "start_time": "2024-10-03T08:18:58.458Z"
   },
   {
    "duration": 939,
    "start_time": "2024-10-03T08:19:01.125Z"
   },
   {
    "duration": 13,
    "start_time": "2024-10-03T08:19:02.066Z"
   },
   {
    "duration": 33,
    "start_time": "2024-10-03T08:19:03.258Z"
   },
   {
    "duration": 27,
    "start_time": "2024-10-03T08:19:03.777Z"
   },
   {
    "duration": 160,
    "start_time": "2024-10-03T08:19:05.008Z"
   },
   {
    "duration": 5,
    "start_time": "2024-10-03T08:19:10.665Z"
   },
   {
    "duration": 791906,
    "start_time": "2024-10-03T08:19:12.194Z"
   },
   {
    "duration": 377,
    "start_time": "2024-10-03T08:32:24.102Z"
   },
   {
    "duration": 8576,
    "start_time": "2024-10-03T08:33:11.284Z"
   },
   {
    "duration": 50,
    "start_time": "2024-10-03T08:33:19.863Z"
   },
   {
    "duration": 127,
    "start_time": "2024-10-03T08:33:43.000Z"
   },
   {
    "duration": 234,
    "start_time": "2024-10-03T09:33:05.966Z"
   },
   {
    "duration": 109,
    "start_time": "2024-10-03T09:36:29.634Z"
   },
   {
    "duration": 77,
    "start_time": "2024-10-03T09:41:54.252Z"
   },
   {
    "duration": 47,
    "start_time": "2024-10-03T09:42:52.295Z"
   },
   {
    "duration": 22,
    "start_time": "2024-10-03T09:42:53.944Z"
   },
   {
    "duration": 7464,
    "start_time": "2024-10-03T09:42:56.246Z"
   },
   {
    "duration": 7,
    "start_time": "2024-10-03T09:43:07.159Z"
   },
   {
    "duration": 8,
    "start_time": "2024-10-03T09:43:09.159Z"
   },
   {
    "duration": 416,
    "start_time": "2024-10-03T09:43:10.705Z"
   },
   {
    "duration": 494859,
    "start_time": "2024-10-03T09:43:14.532Z"
   },
   {
    "duration": 888527,
    "start_time": "2024-10-03T09:51:36.245Z"
   },
   {
    "duration": 100,
    "start_time": "2024-10-03T10:06:24.775Z"
   },
   {
    "duration": 0,
    "start_time": "2024-10-03T10:06:24.878Z"
   },
   {
    "duration": 0,
    "start_time": "2024-10-03T10:06:24.880Z"
   },
   {
    "duration": 0,
    "start_time": "2024-10-03T10:06:24.881Z"
   },
   {
    "duration": 0,
    "start_time": "2024-10-03T10:06:24.882Z"
   },
   {
    "duration": 7,
    "start_time": "2024-10-03T10:06:38.752Z"
   },
   {
    "duration": 52,
    "start_time": "2024-10-03T10:06:40.709Z"
   },
   {
    "duration": 6,
    "start_time": "2024-10-03T10:06:56.819Z"
   },
   {
    "duration": 1623,
    "start_time": "2024-10-03T10:06:57.276Z"
   },
   {
    "duration": 5,
    "start_time": "2024-10-03T10:07:24.289Z"
   },
   {
    "duration": 277,
    "start_time": "2024-10-03T10:07:24.586Z"
   },
   {
    "duration": 4,
    "start_time": "2024-10-03T10:08:38.132Z"
   },
   {
    "duration": 277,
    "start_time": "2024-10-03T10:08:38.986Z"
   },
   {
    "duration": 5,
    "start_time": "2024-10-03T10:11:20.233Z"
   },
   {
    "duration": 41,
    "start_time": "2024-10-03T10:11:21.562Z"
   },
   {
    "duration": 16,
    "start_time": "2024-10-03T10:11:32.474Z"
   },
   {
    "duration": 4,
    "start_time": "2024-10-03T10:11:40.120Z"
   },
   {
    "duration": 81,
    "start_time": "2024-10-03T10:11:41.072Z"
   },
   {
    "duration": 16,
    "start_time": "2024-10-03T10:13:46.266Z"
   },
   {
    "duration": 4,
    "start_time": "2024-10-03T10:14:05.008Z"
   },
   {
    "duration": 429734,
    "start_time": "2024-10-03T10:14:06.033Z"
   },
   {
    "duration": 5409403,
    "start_time": "2024-10-03T10:21:15.853Z"
   },
   {
    "duration": 1537,
    "start_time": "2024-10-03T11:51:25.257Z"
   },
   {
    "duration": 1923,
    "start_time": "2024-10-03T11:51:26.796Z"
   },
   {
    "duration": 5,
    "start_time": "2024-10-03T11:52:21.356Z"
   },
   {
    "duration": 8784,
    "start_time": "2024-10-03T11:52:36.306Z"
   },
   {
    "duration": 3999,
    "start_time": "2024-10-03T11:52:45.093Z"
   },
   {
    "duration": 3,
    "start_time": "2024-10-03T11:52:49.093Z"
   },
   {
    "duration": 8,
    "start_time": "2024-10-03T11:52:49.097Z"
   },
   {
    "duration": 1001,
    "start_time": "2024-10-03T11:52:49.106Z"
   },
   {
    "duration": 15,
    "start_time": "2024-10-03T11:52:50.109Z"
   },
   {
    "duration": 51,
    "start_time": "2024-10-03T11:52:50.126Z"
   },
   {
    "duration": 31,
    "start_time": "2024-10-03T11:52:50.183Z"
   },
   {
    "duration": 185,
    "start_time": "2024-10-03T11:52:50.216Z"
   },
   {
    "duration": 6,
    "start_time": "2024-10-03T11:52:50.404Z"
   },
   {
    "duration": 509827,
    "start_time": "2024-10-03T11:52:50.412Z"
   },
   {
    "duration": 0,
    "start_time": "2024-10-03T12:01:20.241Z"
   },
   {
    "duration": 0,
    "start_time": "2024-10-03T12:01:20.242Z"
   },
   {
    "duration": 0,
    "start_time": "2024-10-03T12:01:20.244Z"
   },
   {
    "duration": 0,
    "start_time": "2024-10-03T12:01:20.245Z"
   },
   {
    "duration": 0,
    "start_time": "2024-10-03T12:01:20.246Z"
   },
   {
    "duration": 0,
    "start_time": "2024-10-03T12:01:20.248Z"
   },
   {
    "duration": 0,
    "start_time": "2024-10-03T12:01:20.249Z"
   },
   {
    "duration": 0,
    "start_time": "2024-10-03T12:01:20.250Z"
   },
   {
    "duration": 0,
    "start_time": "2024-10-03T12:01:20.252Z"
   },
   {
    "duration": 0,
    "start_time": "2024-10-03T12:01:20.253Z"
   },
   {
    "duration": 1,
    "start_time": "2024-10-03T12:01:20.254Z"
   },
   {
    "duration": 0,
    "start_time": "2024-10-03T12:01:20.258Z"
   },
   {
    "duration": 832571,
    "start_time": "2024-10-03T12:01:25.016Z"
   },
   {
    "duration": 42,
    "start_time": "2024-10-03T12:15:17.589Z"
   },
   {
    "duration": 20,
    "start_time": "2024-10-03T12:15:17.632Z"
   },
   {
    "duration": 6627,
    "start_time": "2024-10-03T12:15:17.654Z"
   },
   {
    "duration": 5,
    "start_time": "2024-10-03T12:15:24.283Z"
   },
   {
    "duration": 17,
    "start_time": "2024-10-03T12:15:24.289Z"
   },
   {
    "duration": 418,
    "start_time": "2024-10-03T12:15:24.307Z"
   },
   {
    "duration": 876428,
    "start_time": "2024-10-03T12:15:24.727Z"
   },
   {
    "duration": 5,
    "start_time": "2024-10-03T12:30:01.157Z"
   },
   {
    "duration": 300685,
    "start_time": "2024-10-03T12:30:01.165Z"
   }
  ],
  "kernelspec": {
   "display_name": "Python 3 (ipykernel)",
   "language": "python",
   "name": "python3"
  },
  "language_info": {
   "codemirror_mode": {
    "name": "ipython",
    "version": 3
   },
   "file_extension": ".py",
   "mimetype": "text/x-python",
   "name": "python",
   "nbconvert_exporter": "python",
   "pygments_lexer": "ipython3",
   "version": "3.12.4"
  },
  "toc": {
   "base_numbering": 1,
   "nav_menu": {},
   "number_sections": true,
   "sideBar": true,
   "skip_h1_title": true,
   "title_cell": "Содержание",
   "title_sidebar": "Contents",
   "toc_cell": true,
   "toc_position": {
    "height": "calc(100% - 180px)",
    "left": "10px",
    "top": "150px",
    "width": "302.391px"
   },
   "toc_section_display": true,
   "toc_window_display": false
  }
 },
 "nbformat": 4,
 "nbformat_minor": 4
}
